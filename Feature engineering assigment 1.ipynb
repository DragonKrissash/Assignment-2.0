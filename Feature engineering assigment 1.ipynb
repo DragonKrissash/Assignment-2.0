{
 "cells": [
  {
   "cell_type": "code",
   "execution_count": null,
   "id": "a65e8614-950a-4b92-9835-36eab15f83e1",
   "metadata": {},
   "outputs": [],
   "source": [
    "Q1. What is the Filter method in feature selection, and how does it work?"
   ]
  },
  {
   "cell_type": "code",
   "execution_count": null,
   "id": "c1e409e0-7054-4d51-9549-537f413776fa",
   "metadata": {},
   "outputs": [],
   "source": [
    "A1. Filter method is one of the common techniques used in feature selection, a process that aims to select the \n",
    "    most relevant and informative features from a given set of features to improve performance of machine\n",
    "    learning model. The feature method works by evaluating the characteristics of each individual feature\n",
    "    with respect to the target variable, without considering the interactions or combinations between the \n",
    "    features. It involves a statistical measure or a scoring metric that quantifies the relationship \n",
    "    between each feature and the target variable. Features are then ranked based on their scores, and a \n",
    "    subset of top ranked features is selected for the model. "
   ]
  },
  {
   "cell_type": "code",
   "execution_count": null,
   "id": "9076f40b-87e9-44b8-99d4-9af524a34ac8",
   "metadata": {},
   "outputs": [],
   "source": [
    "Q2. How does the Wrapper method differ from the Filter method in feature selection?"
   ]
  },
  {
   "cell_type": "code",
   "execution_count": null,
   "id": "5b79c6ab-30b4-44ca-9409-6dc3b3cc73ea",
   "metadata": {},
   "outputs": [],
   "source": [
    "A2. In filter method, feature selection is performed independently of the chosen machine learning algorithm.\n",
    "    Each feature is evaluated on a metric and then ranked based on thier score and a subset of top ranked \n",
    "    features is selected for model. \n",
    "    In wrapper method, a subset of features is selected and the performance of the machine learning model \n",
    "    is evaluated using it. Then a specfic metric is used to guide the search for the best subset of features.\n",
    "    Then the algorithm chooses the best subsets for training the model.    "
   ]
  },
  {
   "cell_type": "code",
   "execution_count": null,
   "id": "b42e786e-1763-4506-bc3d-1b3546eabb51",
   "metadata": {},
   "outputs": [],
   "source": [
    "Q3. What are some common techniques used in Embedded feature selection methods?"
   ]
  },
  {
   "cell_type": "code",
   "execution_count": null,
   "id": "cbaf6d57-f691-4cec-802c-8729dba7e11a",
   "metadata": {},
   "outputs": [],
   "source": [
    "A3. Embedded feature selection method is a method in which the model is given all the features to train on\n",
    "    and itself decides which are the best features to learn from to complete the given task.\n",
    "    \n",
    "    Lasso regression or L1: It adds a penalty term to linear regression loss function, encouraging the model\n",
    "    to reduce the coefficients of less important features to zero.\n",
    "    \n",
    "    Ridge regression or L2: It also adds a penalty term to linear regression loss function while reducing the\n",
    "    coefficients of less important features instead of making them zero.\n",
    "    \n",
    "    Elastic net regression: It combines both L1 and L2, shriking a balance between feature selection and \n",
    "    coefficient shrinking. "
   ]
  },
  {
   "cell_type": "code",
   "execution_count": null,
   "id": "2bc67f9a-ea79-45d1-89a9-a1bd95dc55fd",
   "metadata": {},
   "outputs": [],
   "source": [
    "Q4. What are some drawbacks of using the Filter method for feature selection?"
   ]
  },
  {
   "cell_type": "code",
   "execution_count": null,
   "id": "c6dbedb5-5a29-4c22-8590-cbecb00fe04a",
   "metadata": {},
   "outputs": [],
   "source": [
    "A4. Independence assumption - The filter method assesses feature relevance based on statistical measure of the\n",
    "    machine learning algorithm. This can lead to drop of important features that might interact with other \n",
    "    features which dont show in metrics.\n",
    "    \n",
    "    Limited feature characteristics - Filter methods rely solely on metrics and do not take into consideration\n",
    "    of interactions among the features.\n",
    "    \n",
    "    No iterative refinement - Filter methods make decisions about feature relevance in single step before \n",
    "    training. There's no oppurtunity for the method to adjust its feature selection based on evolving model \n",
    "    during training, and missing out on improvement oppurtunities.\n",
    "    \n",
    "    Sensitive to irrelevant features - The method might retain irrelevant features if they show strong \n",
    "    correlation with the target variable by chance."
   ]
  },
  {
   "cell_type": "code",
   "execution_count": null,
   "id": "95590b30-6493-4b31-8e86-22ab615c57fc",
   "metadata": {},
   "outputs": [],
   "source": [
    "Q5. In which situations would you prefer using the Filter method over the Wrapper method for feature\n",
    "selection?"
   ]
  },
  {
   "cell_type": "code",
   "execution_count": null,
   "id": "0de89409-00ca-4372-a005-fbbb6a799b97",
   "metadata": {},
   "outputs": [],
   "source": [
    "A5. I would use Filter method over Wrapper method if there are very large datasets with high number of \n",
    "    features as the computational cost of wrapper methods can be significant. Filter methods are computationally\n",
    "    more efficient and can help us reduce the dimensionality.\n",
    "\n",
    "    The filter methods provide very quick insights into the features of the dataset and are preferred if\n",
    "    we are looking for quick overview of potentially important features.\n",
    "    \n",
    "    If the relationship between features and target variables is linear then the filter method can effectively\n",
    "    capture the relationships through correlation or statistical tests."
   ]
  },
  {
   "cell_type": "code",
   "execution_count": null,
   "id": "eb03386b-b0e3-4578-b527-87ebc1107e18",
   "metadata": {},
   "outputs": [],
   "source": [
    "Q6. In a telecom company, you are working on a project to develop a predictive model for customer churn.\n",
    "You are unsure of which features to include in the model because the dataset contains several different\n",
    "ones. Describe how you would choose the most pertinent attributes for the model using the Filter Method."
   ]
  },
  {
   "cell_type": "code",
   "execution_count": null,
   "id": "d68082b7-34c6-415d-8fb5-d546f7de3533",
   "metadata": {},
   "outputs": [],
   "source": [
    "A6. First I would understand the customer problem in the industry and what factors might influence it. Gather\n",
    "    it and clean and preprocess it, handle missing values and outliers. Define the target variable which is \n",
    "    to find whether a customer will churn or not. Find the statistical measures of each feature with the target\n",
    "    variable. Rank the features based on thier relevance scores from calculated metrics and sort them so that the\n",
    "    most relevant are at the top.\n",
    "    This way we would use the filter method to find the best features for the model."
   ]
  },
  {
   "cell_type": "code",
   "execution_count": null,
   "id": "43ee239e-395b-44c4-b9bd-453e52077781",
   "metadata": {},
   "outputs": [],
   "source": [
    "Q7. You are working on a project to predict the outcome of a soccer match. You have a large dataset with\n",
    "many features, including player statistics and team rankings. Explain how you would use the Embedded\n",
    "method to select the most relevant features for the model."
   ]
  },
  {
   "cell_type": "code",
   "execution_count": null,
   "id": "15ba69f3-2a1f-4bb9-8417-f5595a912a40",
   "metadata": {},
   "outputs": [],
   "source": [
    "A7. I am understand the problem which is to predict the soccer match outcomes. Gather a wide range of features\n",
    "    related to player statistics, team rankings, historical match data and any other relevant information. \n",
    "    Preprocess the data and identify the target variable. Select an algorithm which supports embedded feature \n",
    "    selection like Lasso regression, Ridge regression or certain tree based models. Create new features if \n",
    "    necessary based on domain knowledge or insights. Train the selected model based on preprocessed data. \n",
    "    The algorithm will automatically assign weights or importances to each feature based on how much they \n",
    "    contribute to model's predictive performance. Set a threshold for importance. Features with importance\n",
    "    score above threshold are important."
   ]
  },
  {
   "cell_type": "code",
   "execution_count": null,
   "id": "c3363586-2a42-4ba6-ba7e-9877f840b77b",
   "metadata": {},
   "outputs": [],
   "source": [
    "Q8. You are working on a project to predict the price of a house based on its features, such as size, location,\n",
    "and age. You have a limited number of features, and you want to ensure that you select the most important\n",
    "ones for the model. Explain how you would use the Wrapper method to select the best set of features for the\n",
    "predictor."
   ]
  },
  {
   "cell_type": "code",
   "execution_count": null,
   "id": "1feac11f-2a0c-4d58-976b-eae28d6affe3",
   "metadata": {},
   "outputs": [],
   "source": [
    "A8. I would first understand the problem which is to predict the house price. Identify the features which could \n",
    "    affect the price like size, location, age of the house, number of bedrooms etc. Gather the data, clean \n",
    "    and preprocess it. Define the target variable and select a machine learning algorithm that we will use\n",
    "    like linear regression, lasso regression. Divide the data into training set and validation set. \n",
    "    Get into real Wrapper method like:\n",
    "        \n",
    "        Subset Generation: With an empty set of features and progressively add features to it.\n",
    "        \n",
    "        Model Training and Evaluation: Train machine learning model using the selected subset of features on the \n",
    "        training set. Evaluate the model's performance on the validation set using an appropriate metric \n",
    "        (e.g., mean squared error for regression tasks).\n",
    "        \n",
    "        Feature Subset Evaluation: Assess the model's performance with the current subset of features.\n",
    "        \n",
    "        Feature Subset Selection: Based on the model's performance, decide whether to keep or discard the current \n",
    "        feature subset.\n",
    "        \n",
    "        Stopping Criteria: Define stopping criteria for the loop. This could be a certain number of iterations, \n",
    "        reaching a satisfactory performance threshold, or other criteria relevant to your project."
   ]
  }
 ],
 "metadata": {
  "kernelspec": {
   "display_name": "Python 3 (ipykernel)",
   "language": "python",
   "name": "python3"
  },
  "language_info": {
   "codemirror_mode": {
    "name": "ipython",
    "version": 3
   },
   "file_extension": ".py",
   "mimetype": "text/x-python",
   "name": "python",
   "nbconvert_exporter": "python",
   "pygments_lexer": "ipython3",
   "version": "3.10.8"
  }
 },
 "nbformat": 4,
 "nbformat_minor": 5
}
