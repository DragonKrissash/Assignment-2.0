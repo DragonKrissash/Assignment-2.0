{
 "cells": [
  {
   "cell_type": "code",
   "execution_count": null,
   "id": "0e8ff5d2-4e1f-4ee2-af7e-cd7675af8344",
   "metadata": {},
   "outputs": [],
   "source": [
    "Q1. In order to predict house price based on several characteristics, such as location, square footage,\n",
    "number of bedrooms, etc., you are developing an SVM regression model. Which regression metric in this\n",
    "situation would be the best to employ?"
   ]
  },
  {
   "cell_type": "code",
   "execution_count": null,
   "id": "5d9529d4-4531-454e-86b0-28b09b592715",
   "metadata": {},
   "outputs": [],
   "source": [
    "A1. For predicting house prices with SVM regression model, the best regression model would be Mean Absoulute\n",
    "    Error. \n",
    "    MAE measures the average absolute difference between the predicted and real house prices. This direcly \n",
    "    evaluates how close our predictions are to the true prices. \n",
    "    We care for actual error than squared error as actual dollar amounts are easy to interpret.\n",
    "    MAE is less sensitive to outliers than MSE or RMSE. House prices can be very large due to very expensive\n",
    "    houses.\n",
    "    MAE works well for models predicting a positive continuous value. as with house price."
   ]
  },
  {
   "cell_type": "code",
   "execution_count": null,
   "id": "a64c65e3-2421-4be3-9ee0-3a81c56e0660",
   "metadata": {},
   "outputs": [],
   "source": [
    "Q2. You have built an SVM regression model and are trying to decide between using MSE or R-squared as\n",
    "your evaluation metric. Which metric would be more appropriate if your goal is to predict the actual price\n",
    "of a house as accurately as possible?"
   ]
  },
  {
   "cell_type": "code",
   "execution_count": null,
   "id": "762376c1-0192-44b9-b800-15ebf124dfa3",
   "metadata": {},
   "outputs": [],
   "source": [
    "A2. MSE would be more appropriate model than R2.\n",
    "    MSE directly measures the average squared difference between predicted and actual house prices. Lower\n",
    "    MSE indicates more accurate prediction.\n",
    "    MSE penalizes larger errors more heavily which is desirable for accurate house prediction. \n",
    "    R2 measures how well the model fits the training data rather than prediction accuracy.\n",
    "    MSE has same units as predicted value, allowing us for easy comparison."
   ]
  },
  {
   "cell_type": "code",
   "execution_count": null,
   "id": "f7494b41-f0ad-410f-9309-41d553c4b9af",
   "metadata": {},
   "outputs": [],
   "source": [
    "Q3. You have a dataset with a significant number of outliers and are trying to select an appropriate\n",
    "regression metric to use with your SVM model. Which metric would be the most appropriate in this\n",
    "scenario?"
   ]
  },
  {
   "cell_type": "code",
   "execution_count": null,
   "id": "8d9d1b78-e2df-4d94-bc92-74e281c7a086",
   "metadata": {},
   "outputs": [],
   "source": [
    "A3. MAE would be most appropriate metric in this scenario as:\n",
    "    MAE takes absolute value of errors rather than squaring them, so it is less influenced by very large \n",
    "    errors from outliers. \n",
    "    MSE squares the error, so outlier with huge error will dominate the metric value.\n",
    "    MAE is easier to interpret than MSE in terms of units of target variable.\n",
    "    MAE is also less sensitive to the scale of the target variable compared to MSE."
   ]
  },
  {
   "cell_type": "code",
   "execution_count": null,
   "id": "9c84a1e7-e8f8-4f9f-80bc-6791cd30910d",
   "metadata": {},
   "outputs": [],
   "source": [
    "Q4. You have built an SVM regression model using a polynomial kernel and are trying to select the best\n",
    "metric to evaluate its performance. You have calculated both MSE and RMSE and found that both values\n",
    "are very close. Which metric should you choose to use in this case?"
   ]
  },
  {
   "cell_type": "code",
   "execution_count": null,
   "id": "03c9b001-2c68-43fc-9e8b-dc6e2d661b78",
   "metadata": {},
   "outputs": [],
   "source": [
    "A4. Since MSE and RMSE are numerically close, it indicates the errors approximate a normal distribution. In\n",
    "    this case MSE is easier to interpret directly.\n",
    "    Polynomial models can be sensitive to outliers, MSE penalizes outliers more than RMSE.\n",
    "    Polynomial kernel can be prone to overfitting, MSE directly reflects overfitting error better than RMSE.\n",
    "    MSE can be more directly used to tune model hyperparameters like degree, C, epsilon to minimize error."
   ]
  },
  {
   "cell_type": "code",
   "execution_count": null,
   "id": "f7816901-71c0-432c-a6b6-6df869888f7a",
   "metadata": {},
   "outputs": [],
   "source": [
    "Q5. You are comparing the performance of different SVM regression models using different kernels (linear,\n",
    "polynomial, and RBF) and are trying to select the best evaluation metric. Which metric would be most\n",
    "appropriate if your goal is to measure how well the model explains the variance in the target variable?"
   ]
  },
  {
   "cell_type": "code",
   "execution_count": null,
   "id": "7c6891dd-decb-4e1f-81da-289cce170e4d",
   "metadata": {},
   "outputs": [],
   "source": [
    "A5. If the goal is to measure how well the SVM regression model explains the variance in the target \n",
    "    variable when comparing different kernels, the most appropriate evaluation metric would be \n",
    "    R-squared (R2).\n",
    "    R2 measures proportion of variance in the target variable that is explained by the model. Higher R2 \n",
    "    indicates more variance explained.\n",
    "    R2 directly quantifies the model's explanatory power on target variable variance. \n",
    "    R2 ranges from 0 to 1, with higher values indicating more explanatory ability. This standard scale makes\n",
    "    it easy to compare across models. "
   ]
  }
 ],
 "metadata": {
  "kernelspec": {
   "display_name": "Python 3 (ipykernel)",
   "language": "python",
   "name": "python3"
  },
  "language_info": {
   "codemirror_mode": {
    "name": "ipython",
    "version": 3
   },
   "file_extension": ".py",
   "mimetype": "text/x-python",
   "name": "python",
   "nbconvert_exporter": "python",
   "pygments_lexer": "ipython3",
   "version": "3.10.8"
  }
 },
 "nbformat": 4,
 "nbformat_minor": 5
}
