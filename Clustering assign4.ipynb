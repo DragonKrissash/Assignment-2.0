{
 "cells": [
  {
   "cell_type": "code",
   "execution_count": null,
   "id": "02b5143a-e1a4-4dc3-b3c2-6a0fbd540221",
   "metadata": {},
   "outputs": [],
   "source": [
    "Q1. Explain the concept of homogeneity and completeness in clustering evaluation. How are they\n",
    "calculated?"
   ]
  },
  {
   "cell_type": "code",
   "execution_count": null,
   "id": "0f56b327-3e57-4dc0-bc52-be9cd06695ec",
   "metadata": {},
   "outputs": [],
   "source": [
    "A1. Homogenity measure how well clusters contain only data points that are members of a single class. It is \n",
    "    computed as the average accuracy (fraction of correct prediction) when assigning each data point to its \n",
    "    dominant ground truth class within its assigned cluster.\n",
    "    Homogeneity = ∑ki=1 maxj |ci ∩ gj| / |ci|\n",
    "    \n",
    "    Completeness measures how well all data points that are members of given class are assigned to the same \n",
    "    cluster. It is computed as accuracy for each true class, and then averaged overall classes.\n",
    "    Completeness = ∑gj maxj |ci ∩ gj| / |gj|"
   ]
  },
  {
   "cell_type": "code",
   "execution_count": null,
   "id": "5663b652-413a-40ce-9ba9-b0e8790a960d",
   "metadata": {},
   "outputs": [],
   "source": [
    "Q2. What is the V-measure in clustering evaluation? How is it related to homogeneity and completeness?"
   ]
  },
  {
   "cell_type": "code",
   "execution_count": null,
   "id": "3d0a4532-3cec-4561-adac-40e1c5d81b73",
   "metadata": {},
   "outputs": [],
   "source": [
    "A2. The V-measure is a metric which combines homogenity and completeness. It provides overall assessment of\n",
    "    clustering performance by balancing both the objectives.\n",
    "    V-measure =  2 * (homogeneity * completeness) / (homogeneity + completeness)"
   ]
  },
  {
   "cell_type": "code",
   "execution_count": null,
   "id": "4c5c3448-ccec-47f9-8ab2-2a7528cbd5ec",
   "metadata": {},
   "outputs": [],
   "source": [
    "Q3. How is the Silhouette Coefficient used to evaluate the quality of a clustering result? What is the range\n",
    "of its values?"
   ]
  },
  {
   "cell_type": "code",
   "execution_count": null,
   "id": "ba7b0538-f44d-4b0b-93fc-198e5792c6f4",
   "metadata": {},
   "outputs": [],
   "source": [
    "A3. The silhouette score is a measure used to evaluate the quality of clusters by analyzing how well each \n",
    "    data point is assigned to its cluster. It quantifies how similar a data point is to its own cluster \n",
    "    compared to other.\n",
    "    The score ranged from -1 to 1, where a high value indicates a sample is well matched to its own cluster\n",
    "    and poorly to others."
   ]
  },
  {
   "cell_type": "code",
   "execution_count": null,
   "id": "4109a964-ed5b-4a86-abf2-db6e5f43cb5e",
   "metadata": {},
   "outputs": [],
   "source": [
    "Q4. How is the Davies-Bouldin Index used to evaluate the quality of a clustering result? What is the range\n",
    "of its values?"
   ]
  },
  {
   "cell_type": "code",
   "execution_count": null,
   "id": "b6dd4b4b-a49e-4638-8a2e-5fe3b942a389",
   "metadata": {},
   "outputs": [],
   "source": [
    "A4. The Davies-Bouldin index is a metric used to evaluate clustering models. It measures the average similarity\n",
    "    between clusters, with goal of minimizing the similarity.\n",
    "    1) For each cluster Ci, identify nearest neighbour Cj.\n",
    "    2) Calculate the average distance between points in Ci and Cj. This measures cluster similarity.\n",
    "    3) Calculate the average distance between points within each of Ci and Cj. This measures cluster scatter.\n",
    "    4) Sum the ratio of average inter cluster distance to average intra cluster distance for each cluster.\n",
    "    5) DBI is the average of these ratios for all clusters.\n",
    "    \n",
    "    It ranges from 0 to 1.    "
   ]
  },
  {
   "cell_type": "code",
   "execution_count": null,
   "id": "e492126d-ba8d-4197-9db5-26f05c423197",
   "metadata": {},
   "outputs": [],
   "source": [
    "Q5. Can a clustering result have a high homogeneity but low completeness? Explain with an example."
   ]
  },
  {
   "cell_type": "code",
   "execution_count": null,
   "id": "c3fa107d-38d8-41ee-9c45-67d333bad81f",
   "metadata": {},
   "outputs": [],
   "source": [
    "A5. Yes, it is possible for a cluster to have high homogenity and low completeness. \n",
    "    Suppose we have a dataset with 3 true classes (A,B and C) and we apply a clustering algorithm that \n",
    "    produces 2 clusters (X and Y).\n",
    "    Clusters are - X contains all points of A and some of B, Y contains all points of C and some of B.\n",
    "    \n",
    "    Here the homogenity of X is high as all points belong to either class A or B.\n",
    "    But completeness for B is low as B is split across X and Y.\n",
    "    But completeness for C is high as all points are in Y.\n",
    "    \n",
    "    So X has high homogenity and low completeness for B."
   ]
  },
  {
   "cell_type": "code",
   "execution_count": null,
   "id": "9f139c59-f571-46de-8fb9-1097e77533ff",
   "metadata": {},
   "outputs": [],
   "source": [
    "Q6. How can the V-measure be used to determine the optimal number of clusters in a clustering\n",
    "algorithm?"
   ]
  },
  {
   "cell_type": "code",
   "execution_count": null,
   "id": "89cecb2f-c344-4784-9588-34c91e2f32bc",
   "metadata": {},
   "outputs": [],
   "source": [
    "A6. The V measure can be used to determine the optimal numbers of clusters in a clustering algorithm by:\n",
    "    1) Running the clustering algorithms several times with different values of k.\n",
    "    2) Calculating the V measure for each clustering result compared to the ground truth classes.\n",
    "    3) Plotting a graph of V measure vs number of clusters k.\n",
    "    4) Selecting the value of K that maximizes v value."
   ]
  },
  {
   "cell_type": "code",
   "execution_count": null,
   "id": "0d206425-b6e3-4454-b8a2-5413acaf8fdd",
   "metadata": {},
   "outputs": [],
   "source": [
    "Q7. What are some advantages and disadvantages of using the Silhouette Coefficient to evaluate a\n",
    "clustering result?"
   ]
  },
  {
   "cell_type": "code",
   "execution_count": null,
   "id": "fe1ca727-1da0-4f9b-b278-8d26eaf2e812",
   "metadata": {},
   "outputs": [],
   "source": [
    "A7. Advantages - Provides an easy interpret score between -1 to 1 indicating how well samples match their \n",
    "    assigned cluster. \n",
    "    It is calculted for each sample so can identify outliers that don't fit well in any cluster.\n",
    "    Works well on datasets with compact, well seperated clusters.\n",
    "    Doesn't require the knowledge of ground truth classes, so can be used when true labels are not available.\n",
    "    \n",
    "    Disadvantages - Sensitive to noise and outliers which can distort silhoette scores. \n",
    "    Performed poorly on datasets with clusters of different densities.\n",
    "    Provides little insight into the characteristics of the clusters themselves.\n",
    "    Difficult to compare across different clustering algorithms and parameters."
   ]
  },
  {
   "cell_type": "code",
   "execution_count": null,
   "id": "048e519a-f879-4fce-99ec-412208d22b03",
   "metadata": {},
   "outputs": [],
   "source": [
    "Q8. What are some limitations of the Davies-Bouldin Index as a clustering evaluation metric? How can\n",
    "they be overcome?"
   ]
  },
  {
   "cell_type": "code",
   "execution_count": null,
   "id": "6b24d934-a031-4153-a17a-d5c8a2c5cd05",
   "metadata": {},
   "outputs": [],
   "source": [
    "A8. Sensitive to noise and outliers - A few bad samples can distort cluster scatter and seperation measurements. \n",
    "    Using robust measures of dispersion can make it more resilient.\n",
    "    \n",
    "    Assumes clusters are convex and isotropic - Performs poorly when clusters have complex shapes or varying \n",
    "    densities. Can alleviate by using flexible cluster models or density based metric.\n",
    "    \n",
    "    Limited to compact, well seperated clusters - Fails to capture more complex cluster structures and inter\n",
    "    cluster relationships. Using adjacency based metrics can help overcome this. \n",
    "    \n",
    "    Require specifying the number of cluster k - Values are only comparable for fixed k. Need to sweep over \n",
    "    several k values."
   ]
  },
  {
   "cell_type": "code",
   "execution_count": null,
   "id": "42362f6d-955d-4972-8838-3b7b0760ce71",
   "metadata": {},
   "outputs": [],
   "source": [
    "Q9. What is the relationship between homogeneity, completeness, and the V-measure? Can they have\n",
    "different values for the same clustering result?"
   ]
  },
  {
   "cell_type": "code",
   "execution_count": null,
   "id": "9323885f-a31c-4c4a-82f3-dfab4a743ba2",
   "metadata": {},
   "outputs": [],
   "source": [
    "A9. The V measure is harmonically related to homogenity, completeness. It is possible to have high homogenity\n",
    "    but low completeness if classes are grouped into coherent clusters, but split across multiple clusters.\n",
    "    Conversely, high completeness but low homogenity occurs when multiple classes are grouped into impure\n",
    "    heterogeneous clusters. "
   ]
  },
  {
   "cell_type": "code",
   "execution_count": null,
   "id": "dd118c91-3200-405a-85d7-154a2da2a668",
   "metadata": {},
   "outputs": [],
   "source": [
    "Q10. How can the Silhouette Coefficient be used to compare the quality of different clustering algorithms\n",
    "on the same dataset? What are some potential issues to watch out for?"
   ]
  },
  {
   "cell_type": "code",
   "execution_count": null,
   "id": "b5742ea3-f602-4a46-891a-a6e1a7c8a985",
   "metadata": {},
   "outputs": [],
   "source": [
    "A10. We can compare the quality of different clustering algorithms on the same dataset by:\n",
    "     Running each clustering algorithm on the dataset and obtaining the clusters.\n",
    "     Calculating the mean silhouette coefficient for each clustering result.\n",
    "     Comparing the mean Silhouette Coefficient, the algorithm with higher value produces clusters with better\n",
    "     cohesion and seperation.\n",
    "    \n",
    "     The issues we need to lookout for are:\n",
    "        The algorithms may use different distance metrics, which could impact the silhouette coefficients and\n",
    "        make comparison unreliable. \n",
    "        The number of clusters may be different for each algorithm. Silhouette coefficients are not necessarily\n",
    "        comparable across different k.\n",
    "        Differences in Silhouette coefficient may be small and not indicative of significant performance \n",
    "        differences. Need to look at statistical significance."
   ]
  },
  {
   "cell_type": "code",
   "execution_count": null,
   "id": "577164fd-bece-4e65-8e21-bb8192b7fdea",
   "metadata": {},
   "outputs": [],
   "source": [
    "Q11. How does the Davies-Bouldin Index measure the separation and compactness of clusters? What are\n",
    "some assumptions it makes about the data and the clusters?"
   ]
  },
  {
   "cell_type": "code",
   "execution_count": null,
   "id": "c77186c9-ef19-4bec-813d-9bf8e1f9f47b",
   "metadata": {},
   "outputs": [],
   "source": [
    "A11. The Davies Bouldin index measures both cluster seperation and compactness based on distances between \n",
    "     clusters. \n",
    "     Seperation is measured by the distance between cluster centroids. Larger inter cluster differences\n",
    "     indicate better seperation.\n",
    "     Compactness is measured by the average distance between each point and its cluster centroid. Smaller \n",
    "     distances indicate more compact clusters.\n",
    "     Ratio of these two distances for each cluster is averaged to calculate the overall DBI.\n",
    "        \n",
    "     Some key assumptions are :\n",
    "        Clusters are convex and isotropic (similar density throughout). Non convex shapes will be penalised.\n",
    "        Each cluster has a single representative centroid. Works best for compact, unimodal clusters.\n",
    "        All features are equally important. No weighting of dimensions based on relevance. "
   ]
  },
  {
   "cell_type": "code",
   "execution_count": null,
   "id": "a110df3b-b36b-4d1c-99e0-12ad1ab9948d",
   "metadata": {},
   "outputs": [],
   "source": [
    "Q12. Can the Silhouette Coefficient be used to evaluate hierarchical clustering algorithms? If so, how?"
   ]
  },
  {
   "cell_type": "code",
   "execution_count": null,
   "id": "f4f85562-7b83-436c-af3c-e71435cb4d06",
   "metadata": {},
   "outputs": [],
   "source": [
    "A12. Yes the silhouette coefficient can be used to evaluate hierarchial clustering algorithms, though the \n",
    "     interpretation is different. \n",
    "     We cannot directly calculate the Silhouette coefficient as there is no pre - defined number of k. \n",
    "        1) Cut the hierarchial dendogram at different levels to produce clusterings with different k values.\n",
    "        2) For each k, calculate Silhouette coefficient for the flattened clustering result. \n",
    "        3) Plot the Silhouette Coefficient for each value of k.\n",
    "        4) Identify optimal cuts in the dendogram by peaks in the Silhouette plot.\n",
    "        5) Can also visually inspect the silhouette plots at different k to evaluate cluster cohesion. \n",
    "        \n",
    "     So while we don't have a single Silhouette score, we can use it to identify quality and scale of \n",
    "     cluster structure by analyzing how the score changes over different dendrogram cuts."
   ]
  }
 ],
 "metadata": {
  "kernelspec": {
   "display_name": "Python 3 (ipykernel)",
   "language": "python",
   "name": "python3"
  },
  "language_info": {
   "codemirror_mode": {
    "name": "ipython",
    "version": 3
   },
   "file_extension": ".py",
   "mimetype": "text/x-python",
   "name": "python",
   "nbconvert_exporter": "python",
   "pygments_lexer": "ipython3",
   "version": "3.10.8"
  }
 },
 "nbformat": 4,
 "nbformat_minor": 5
}
