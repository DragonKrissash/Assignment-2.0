{
 "cells": [
  {
   "cell_type": "code",
   "execution_count": null,
   "id": "8e55e4db-07df-4496-8d6d-a90f9d39587a",
   "metadata": {},
   "outputs": [],
   "source": [
    "Q1. What is an API? Give an example, where an API is used in real life.\n",
    "A1. API stands for application programming interface. It is used as a bridge between applications and \n",
    "    softwares to communicate and transfer data. It is a set of rules and protocols which should be followed\n",
    "    by the softwares.\n",
    "    Ex. The openweathermap api provides weather and forecasts to various places around the world. \n",
    "        Developers can use this api for weather information, temperature, humidity etc.\n",
    "        \n",
    "        APIs provided by social media platforms allow developers to integrate social media features into\n",
    "        their application enabling users to login, share content, interact with social media accounts."
   ]
  },
  {
   "cell_type": "code",
   "execution_count": null,
   "id": "fdedd4b4-1725-41a0-b9aa-699d95fd029f",
   "metadata": {},
   "outputs": [],
   "source": [
    "Q2. Give advantages and disadvantages of using API.\n",
    "A2. Advantages - APIs make it possible for different systems to work together and communicate.\n",
    "                 By using APIs, developers can be tension free of integrating the application with other \n",
    "                 applications and work on development of their own application.\n",
    "                 APIs reduce the development costs and save time for developers by leveraging the existing \n",
    "                 functionality.\n",
    "                \n",
    "    Disadvantages - It will make an application be dependent on API.\n",
    "                    Any changes or bugs in api can mingle with application's performance.\n",
    "                    Integrating many apis can slowdown and reduce the performance of the api."
   ]
  },
  {
   "cell_type": "code",
   "execution_count": null,
   "id": "504f3c9b-1668-49a8-9ad3-8948f0261b48",
   "metadata": {},
   "outputs": [],
   "source": [
    "Q3. What is a Web API? Differentiate between API and Web API.\n",
    "A3. Web API is also known as web server api or http is an application programming interface which allows \n",
    "    different software systems to communicate and interact with each other through web protocols.\n",
    "    \n",
    "    A web api is a sub part of api. APIs include communication among different software applications,\n",
    "    while web apis includes communication over the internet through web protocols. \n",
    "    APIs use different communication protocols as http, tcp/ip or even custom protocols. Web APIs use \n",
    "    HTTP as the underlying protocol."
   ]
  },
  {
   "cell_type": "code",
   "execution_count": null,
   "id": "d197ae66-a3a5-4af9-886d-f89a50a9795d",
   "metadata": {},
   "outputs": [],
   "source": [
    "Q4. Explain REST and SOAP Architecture. Mention shortcomings of SOAP.\n",
    "A4. REST - REST is an architectural style which emphasizes simplicity, scalability, statelessness. Restful APIs\n",
    "           are widely used for their compatibility with HTTP for web services.\n",
    "    \n",
    "    SOAP - SOAP is a complex and structured way of building web services. It uses a special format called XML\n",
    "           to exchange messages between different systems. SOAP provides set of rules and protocols ensure \n",
    "           secure and reliable communication between these systems.\n",
    "            \n",
    "    SOAP is more complex than REST. \n",
    "    SOAP's verbose XML format leads to larger message size. \n",
    "    SOAP is less suitable for web-oriented architecture."
   ]
  },
  {
   "cell_type": "code",
   "execution_count": null,
   "id": "03758c6c-977f-4396-97db-30a2de7eaeab",
   "metadata": {},
   "outputs": [],
   "source": [
    "Q5. Differentiate between REST and SOAP.\n",
    "A5. REST - It is simple and easy to use where clients like users or applications send request to server \n",
    "           to get information or do something. It is stateless and the web does not contain it's previous request.\n",
    "    \n",
    "    SOAP - It is more specific and structured way to speak over the internet. It has its own rules and format\n",
    "           known as XML to format messages. It is not stateless and can remember the previous requests of the \n",
    "           client."
   ]
  }
 ],
 "metadata": {
  "kernelspec": {
   "display_name": "Python 3 (ipykernel)",
   "language": "python",
   "name": "python3"
  },
  "language_info": {
   "codemirror_mode": {
    "name": "ipython",
    "version": 3
   },
   "file_extension": ".py",
   "mimetype": "text/x-python",
   "name": "python",
   "nbconvert_exporter": "python",
   "pygments_lexer": "ipython3",
   "version": "3.10.8"
  }
 },
 "nbformat": 4,
 "nbformat_minor": 5
}
