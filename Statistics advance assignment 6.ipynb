{
 "cells": [
  {
   "cell_type": "code",
   "execution_count": null,
   "id": "2061767b-33cb-4c50-83c3-a09455766d0d",
   "metadata": {},
   "outputs": [],
   "source": [
    "Q1. Explain the assumptions required to use ANOVA and provide examples of violations that could impact\n",
    "the validity of the results."
   ]
  },
  {
   "cell_type": "code",
   "execution_count": null,
   "id": "8911012c-0399-408f-87fe-d2e7e7511e3e",
   "metadata": {},
   "outputs": [],
   "source": [
    "A1. Independence - The observations in each group should be independent of each other.\n",
    "    Normality - Data points in each group should be normally distributed.\n",
    "    Homogenity of variance - The variance of scores in each group should be aproximately equal.\n",
    "    Random sampling - The data should be selected using random sampling method to ensure that sample is \n",
    "                      representative of the population of interest.\n",
    "   Eg of violations:\n",
    "    Non independence - If we are studying a new teaching method and if students scores are correlated as they\n",
    "    are in same class then independence is violated and anova can have different results.\n",
    "    Non Normality - If the test scores in a group are heavily skewed, ANOVA might be not appropriate and p value\n",
    "    may differ."
   ]
  },
  {
   "cell_type": "code",
   "execution_count": null,
   "id": "55b0e6d1-a33c-42c9-9c2b-c5122c981f8e",
   "metadata": {},
   "outputs": [],
   "source": [
    "Q2. What are the three types of ANOVA, and in what situations would each be used?"
   ]
  },
  {
   "cell_type": "code",
   "execution_count": null,
   "id": "a7ba9f22-3b7a-4863-bb5e-dc327823dd22",
   "metadata": {},
   "outputs": [],
   "source": [
    "A2. One way ANOVA - It is used when there is one factor with at least 2 levels, these levels are independent.\n",
    "    Eg: Doctor wants to test a medication which is factor and it has 3 dosages 5mg, 10mg, 15mg which are levels\n",
    "        and they are independent.\n",
    "    \n",
    "    Repeated measures ANOVA - One factor with at least 2 levels, levels are dependent.\n",
    "    Eg: A person likes to go for jogging which is a factor. Day 1, day 2, day 3 are the levels and they are \n",
    "        dependent as the amount of jogging he does on day 1 will affect day 2 and also day 3.\n",
    "        \n",
    "    Factorial ANOVA - This is when there are 2 or more factors each of which with at least 2 levels, levels can\n",
    "    be either dependent or independent. "
   ]
  },
  {
   "cell_type": "code",
   "execution_count": null,
   "id": "bd8b9ff1-1187-4dc2-8fe9-23ae570b74ee",
   "metadata": {},
   "outputs": [],
   "source": [
    "Q3. What is the partitioning of variance in ANOVA, and why is it important to understand this concept?"
   ]
  },
  {
   "cell_type": "code",
   "execution_count": null,
   "id": "d6c9d501-2b54-42d0-bbb9-1603d9e48b02",
   "metadata": {},
   "outputs": [],
   "source": [
    "A3. Partitioning of variance refers to the breaking down of total variability observed in the data into \n",
    "    different components to understand how much of the variability can be attributed to the differences \n",
    "    between groups and how much is due to random variation or error.\n",
    "    \n",
    "    It is important as:\n",
    "       \n",
    "    Identifying the differences - By partitioning the variance, ANOVA helps us identify if the differences\n",
    "    between groups are large enough to be considered meaningful. It tells us if observed variation is due\n",
    "    to real effect or occured by chance.\n",
    "    \n",
    "    Assessing the independent variable's impact - ANOVA helps us evaluate how much of the variation in the \n",
    "    dependent variable is explained by independent variable. This helps us understand how effective the \n",
    "    independent variable is in influencing the outcome.\n",
    "    \n",
    "    Interpreting the results - When we conduct the ANOVA, we find F statistic and p value. F statistic tells\n",
    "    us the ratio between group variability to within group variability. A high F statistic suggests that \n",
    "    group differences are significant and p value tells us if the differences are statistically significant.\n",
    "    \n",
    "    Making informed decisions - Understanding partitioning of variance guides in making informed decisions\n",
    "    based on data. If variance is due to group differences, we may have to change the implementing method,\n",
    "    If variance is due to random fluctuations, we have to explore other factors."
   ]
  },
  {
   "cell_type": "code",
   "execution_count": null,
   "id": "2e2c0b31-4427-4424-8367-05875b8d6154",
   "metadata": {},
   "outputs": [],
   "source": [
    "Q4. How would you calculate the total sum of squares (SST), explained sum of squares (SSE), and residual\n",
    "sum of squares (SSR) in a one-way ANOVA using Python?"
   ]
  },
  {
   "cell_type": "code",
   "execution_count": 6,
   "id": "67b709b2-97f1-4245-9712-91e2b1fdb334",
   "metadata": {},
   "outputs": [
    {
     "name": "stdout",
     "output_type": "stream",
     "text": [
      "Total Sum of Squares (SST): 727.3333333333333\n",
      "Explained Sum of Squares (SSE): 424.9333333333328\n",
      "Residual Sum of Squares (SSR): 302.40000000000043\n"
     ]
    }
   ],
   "source": [
    "#These concepts are not taught but i got this in gpt 3.5\n",
    "\n",
    "import numpy as np\n",
    "from scipy import stats\n",
    "\n",
    "# Example data (replace this with your actual data)\n",
    "teaching_methods = ['Method A', 'Method B', 'Method C']\n",
    "scores_method_a = [85, 78, 92, 80, 88]\n",
    "scores_method_b = [75, 72, 68, 80, 82]\n",
    "scores_method_c = [90, 84, 88, 86, 92]\n",
    "\n",
    "# Combine data into a single array\n",
    "all_scores = np.concatenate([scores_method_a, scores_method_b, scores_method_c])\n",
    "\n",
    "# Calculate the overall mean\n",
    "overall_mean = np.mean(all_scores)\n",
    "\n",
    "# Calculate the Total Sum of Squares (SST)\n",
    "sst = np.sum((all_scores - overall_mean)**2)\n",
    "\n",
    "# Calculate the number of data points per group\n",
    "n_per_group = len(scores_method_a)\n",
    "\n",
    "# Calculate the number of groups\n",
    "num_groups = len(teaching_methods)\n",
    "\n",
    "# Calculate the Explained Sum of Squares (SSE)\n",
    "sse = 0\n",
    "for scores in [scores_method_a, scores_method_b, scores_method_c]:\n",
    "    group_mean = np.mean(scores)\n",
    "    sse += n_per_group * (group_mean - overall_mean)**2\n",
    "\n",
    "# Calculate the Residual Sum of Squares (SSR)\n",
    "ssr = sst - sse\n",
    "\n",
    "# Print the results\n",
    "print(\"Total Sum of Squares (SST):\", sst)\n",
    "print(\"Explained Sum of Squares (SSE):\", sse)\n",
    "print(\"Residual Sum of Squares (SSR):\", ssr)"
   ]
  },
  {
   "cell_type": "code",
   "execution_count": null,
   "id": "f5819a8e-6054-47bf-9ebf-af6365a9d9a5",
   "metadata": {},
   "outputs": [],
   "source": [
    "Q5. In a two-way ANOVA, how would you calculate the main effects and interaction effects using Python?"
   ]
  },
  {
   "cell_type": "code",
   "execution_count": 1,
   "id": "a414a39d-00ce-4d1a-b2e5-083d102020f1",
   "metadata": {},
   "outputs": [
    {
     "name": "stdout",
     "output_type": "stream",
     "text": [
      "Main Effect of Teaching Method:\n",
      "F-statistic: [9.31122449 4.93203883]\n",
      "p-value: [0.01446972 0.0541015 ]\n",
      "\n",
      "Main Effect of Gender:\n",
      "F-statistic: 1.0414860681114553\n",
      "p-value: 0.3226599672274122\n",
      "\n",
      "Interaction Effect:\n",
      "Interaction Effect: 191.11111111111111\n"
     ]
    }
   ],
   "source": [
    "import numpy as np\n",
    "from scipy.stats import f_oneway\n",
    "teaching_methods = ['Method A', 'Method B', 'Method C']\n",
    "gender = ['Male', 'Female']\n",
    "scores = np.array([\n",
    "    # Method A\n",
    "    [85, 78],\n",
    "    [92, 80],\n",
    "    [88, 85],\n",
    "    # Method B\n",
    "    [75, 72],\n",
    "    [68, 80],\n",
    "    [82, 79],\n",
    "    # Method C\n",
    "    [90, 84],\n",
    "    [88, 86],\n",
    "    [92, 87]\n",
    "])\n",
    "\n",
    "# Perform two-way ANOVA\n",
    "f_statistic_method, p_value_method = f_oneway(scores[:3, :], scores[3:6, :], scores[6:, :])\n",
    "f_statistic_gender, p_value_gender = f_oneway(scores[:, 0], scores[:, 1])\n",
    "\n",
    "# Interaction effect\n",
    "interaction_effect = np.sum((scores[:, 0] - np.mean(scores[:, 0])) * (scores[:, 1] - np.mean(scores[:, 1])))\n",
    "\n",
    "# Print the results\n",
    "print(\"Main Effect of Teaching Method:\")\n",
    "print(\"F-statistic:\", f_statistic_method)\n",
    "print(\"p-value:\", p_value_method)\n",
    "\n",
    "print(\"\\nMain Effect of Gender:\")\n",
    "print(\"F-statistic:\", f_statistic_gender)\n",
    "print(\"p-value:\", p_value_gender)\n",
    "\n",
    "print(\"\\nInteraction Effect:\")\n",
    "print(\"Interaction Effect:\", interaction_effect)"
   ]
  },
  {
   "cell_type": "code",
   "execution_count": null,
   "id": "addb59a8-1eb6-421f-b028-bbf11cc46c82",
   "metadata": {},
   "outputs": [],
   "source": [
    "Q6. Suppose you conducted a one-way ANOVA and obtained an F-statistic of 5.23 and a p-value of 0.02.\n",
    "What can you conclude about the differences between the groups, and how would you interpret these\n",
    "results?"
   ]
  },
  {
   "cell_type": "code",
   "execution_count": null,
   "id": "21cc6409-ed35-4d39-a74a-b97f7dc0bea6",
   "metadata": {},
   "outputs": [],
   "source": [
    "A6. F statistic measures the ratio of variability between the groups to variability within the group. A higher\n",
    "    F-statistic suggests that the variability between group is larger relative to variability within the group.\n",
    "    \n",
    "    P value represents the probability of obtaining the observed differences in means purely by chance. A smaller\n",
    "    p value less than significance value tells us that the difference is not due to random chance.\n",
    "    \n",
    "    The F stat tells us that there is significant difference between the groups. The p value is less than \n",
    "    significant value which tells us that the difference is less likely to be appeared due to random chance."
   ]
  },
  {
   "cell_type": "code",
   "execution_count": null,
   "id": "608b1da6-3d5c-42ec-bf1f-6a8ecbaa9699",
   "metadata": {},
   "outputs": [],
   "source": [
    "Q7. In a repeated measures ANOVA, how would you handle missing data, and what are the potential\n",
    "consequences of using different methods to handle missing data?"
   ]
  },
  {
   "cell_type": "code",
   "execution_count": null,
   "id": "9079c7fe-29e6-4895-9437-f3dbe178a81f",
   "metadata": {},
   "outputs": [],
   "source": [
    "A7. Handling missing data is crucial to ensure validity and accuracy of analysis. There are several methods\n",
    "    to handle missing data and some of them are:\n",
    "    \n",
    "    1) Complete case analysis (listwise deletion) - This method involves excluding any cases that have \n",
    "       missing data on any variable involved in the analysis.\n",
    "    Cosequences - This can reduce the size of sample and loss of valuable data, which may result in decreased\n",
    "    statistical power and biased estimate if missing data or not completely random.\n",
    "    \n",
    "    2) Mean Imputation - Missing values in a variable are replaced with the mean of that varaible's observed \n",
    "       value. \n",
    "    Consequences - Mean imputation can artificially reduce variance and distort true relations in data.\n",
    "    \n",
    "    3) Last observation carried forward - Missing values are replaced with the value of the last observed \n",
    "       measurement for that subject.\n",
    "    Consequences -  LOCF may not accurately reflect the true trajectory of the variable over time and can \n",
    "    introduce bias, especially if there are systematic patterns in the missing data."
   ]
  },
  {
   "cell_type": "code",
   "execution_count": null,
   "id": "88dd2853-8a3a-48e7-a1ba-0784b1ba325a",
   "metadata": {},
   "outputs": [],
   "source": [
    "Q8. What are some common post-hoc tests used after ANOVA, and when would you use each one? Provide\n",
    "an example of a situation where a post-hoc test might be necessary."
   ]
  },
  {
   "cell_type": "code",
   "execution_count": null,
   "id": "fd664731-a570-43ca-95d4-3c1834d861f6",
   "metadata": {},
   "outputs": [],
   "source": [
    "A8. After conducting an ANOVA and finding a significant overall difference between groups, post-hoc tests \n",
    "    are used to determine which specific group differences are significant. These tests help avoid Type I \n",
    "    error inflation and provide more detailed information about pairwise group comparisons. Several common \n",
    "    post-hoc tests are available, and the choice of which one to use depends on the design and assumptions \n",
    "    of the study. Some common post-hoc tests include:\n",
    "    \n",
    "    Tukey's Honestly Significant Difference (HSD):\n",
    "    Tukey's HSD test is widely used and appropriate when the sample sizes are equal across groups and the \n",
    "    variances are approximately equal. It controls the family-wise error rate and performs all pairwise \n",
    "    group comparisons.\n",
    "    \n",
    "    Bonferroni Correction:\n",
    "    The Bonferroni correction is a simple and conservative method used to control the family-wise error \n",
    "    rate when conducting multiple pairwise comparisons. It divides the significance level (alpha) by the \n",
    "    number of comparisons being performed.\n",
    "    \n",
    "    Scheffe's Test:\n",
    "    Scheffe's test is a more robust post-hoc test that can be used when the assumptions of equal variances \n",
    "    and equal sample sizes are not met. It controls the family-wise error rate but is less sensitive to \n",
    "    violations of assumptions."
   ]
  },
  {
   "cell_type": "code",
   "execution_count": null,
   "id": "d112a0b4-ccb3-4cea-a72d-a161b8a7c095",
   "metadata": {},
   "outputs": [],
   "source": [
    "Q9. A researcher wants to compare the mean weight loss of three diets: A, B, and C. They collect data from\n",
    "50 participants who were randomly assigned to one of the diets. Conduct a one-way ANOVA using Python\n",
    "to determine if there are any significant differences between the mean weight loss of the three diets.\n",
    "Report the F-statistic and p-value, and interpret the results."
   ]
  },
  {
   "cell_type": "code",
   "execution_count": 3,
   "id": "f9c17aa1-5e5b-496d-a60e-f95ab7a15e12",
   "metadata": {},
   "outputs": [
    {
     "name": "stdout",
     "output_type": "stream",
     "text": [
      "F-statistic: 1512.2188290216025\n",
      "p-value: 5.487405208831284e-96\n"
     ]
    }
   ],
   "source": [
    "import numpy as np\n",
    "from scipy.stats import f_oneway\n",
    "diet_A = [4.5, 5.1, 3.9, 4.2, 5.3, 4.8, 5.0, 4.7, 4.0, 5.2, 4.9, 4.6, 5.5, 4.4, 5.3, 5.1, 4.8, 5.2, 4.3, 4.7,\n",
    "          4.5, 5.2, 4.4, 4.9, 4.3, 4.8, 5.0, 5.1, 4.7, 4.6, 5.2, 5.3, 4.2, 4.9, 4.5, 4.6, 4.8, 4.3, 5.0, 5.4,\n",
    "          4.2, 4.9, 5.1, 4.4, 5.3, 5.0, 4.7, 4.6]\n",
    "diet_B = [3.1, 2.8, 3.4, 2.9, 3.2, 2.7, 3.0, 2.9, 2.6, 3.3, 2.8, 3.1, 3.4, 2.9, 3.2, 2.7, 3.0, 2.9, 2.6, 3.3,\n",
    "          2.8, 3.1, 3.4, 2.9, 3.2, 2.7, 3.0, 2.9, 2.6, 3.3, 2.8, 3.1, 3.4, 2.9, 3.2, 2.7, 3.0, 2.9, 2.6, 3.3,\n",
    "          2.8, 3.1, 3.4, 2.9, 3.2, 2.7, 3.0, 2.9]\n",
    "diet_C = [1.5, 1.2, 1.8, 1.3, 1.6, 1.1, 1.4, 1.3, 1.0, 1.7, 1.2, 1.5, 1.8, 1.3, 1.6, 1.1, 1.4, 1.3, 1.0, 1.7,\n",
    "          1.2, 1.5, 1.8, 1.3, 1.6, 1.1, 1.4, 1.3, 1.0, 1.7, 1.2, 1.5, 1.8, 1.3, 1.6, 1.1, 1.4, 1.3, 1.0, 1.7,\n",
    "          1.2, 1.5, 1.8, 1.3, 1.6, 1.1, 1.4, 1.3]\n",
    "all_weights=np.concatenate([diet_A,diet_B,diet_C])\n",
    "group_labels = ['A'] * len(diet_A) + ['B'] * len(diet_B) + ['C'] * len(diet_C)\n",
    "f_stat,p_val=f_oneway(diet_A,diet_B,diet_C)\n",
    "print(\"F-statistic:\", f_stat)\n",
    "print(\"p-value:\", p_val)"
   ]
  },
  {
   "cell_type": "code",
   "execution_count": null,
   "id": "6d56ca49-1fb9-4e0b-a26d-8093c20499b3",
   "metadata": {},
   "outputs": [],
   "source": [
    "Q10. A company wants to know if there are any significant differences in the average time it takes to\n",
    "complete a task using three different software programs: Program A, Program B, and Program C. They\n",
    "randomly assign 30 employees to one of the programs and record the time it takes each employee to\n",
    "complete the task. Conduct a two-way ANOVA using Python to determine if there are any main effects or\n",
    "interaction effects between the software programs and employee experience level (novice vs.\n",
    "experienced). Report the F-statistics and p-values, and interpret the results."
   ]
  },
  {
   "cell_type": "code",
   "execution_count": 4,
   "id": "67dff6e9-e2b5-4812-bf0f-6c36320cc771",
   "metadata": {},
   "outputs": [
    {
     "name": "stdout",
     "output_type": "stream",
     "text": [
      "                                          sum_sq    df          F  \\\n",
      "Employee_Experience                    64.533333   1.0   8.962963   \n",
      "Software_Program                      770.066667   2.0  53.476852   \n",
      "Employee_Experience:Software_Program   20.066667   2.0   1.393519   \n",
      "Residual                              172.800000  24.0        NaN   \n",
      "\n",
      "                                            PR(>F)  \n",
      "Employee_Experience                   6.297489e-03  \n",
      "Software_Program                      1.435891e-09  \n",
      "Employee_Experience:Software_Program  2.675708e-01  \n",
      "Residual                                       NaN  \n"
     ]
    }
   ],
   "source": [
    "import numpy as np\n",
    "import pandas as pd\n",
    "from scipy.stats import f_oneway\n",
    "from statsmodels.formula.api import ols\n",
    "from statsmodels.stats.anova import anova_lm\n",
    "employee_experience = ['Novice', 'Experienced'] * 15\n",
    "software_program = ['A'] * 10 + ['B'] * 10 + ['C'] * 10\n",
    "completion_time = [15, 20, 18, 22, 16, 19, 25, 21, 17, 23,\n",
    "                   30, 27, 28, 29, 31, 35, 32, 33, 34, 36,\n",
    "                   22, 25, 20, 24, 19, 23, 21, 26, 18, 27]\n",
    "data = pd.DataFrame({\n",
    "    'Employee_Experience': employee_experience,\n",
    "    'Software_Program': software_program,\n",
    "    'Completion_Time': completion_time\n",
    "})\n",
    "formula = 'Completion_Time ~ Employee_Experience + Software_Program + Employee_Experience:Software_Program'\n",
    "model = ols(formula, data).fit()\n",
    "anova_table = anova_lm(model, typ=2)\n",
    "print(anova_table)"
   ]
  },
  {
   "cell_type": "code",
   "execution_count": null,
   "id": "639c4fe0-f89d-4e0f-bfe2-3a79ac4aad0b",
   "metadata": {},
   "outputs": [],
   "source": [
    "If the p-value for the main effect of employee experience is less than your chosen significance level \n",
    "(e.g., 0.05), it indicates a significant difference in the average completion time between novice and \n",
    "experienced employees."
   ]
  },
  {
   "cell_type": "code",
   "execution_count": null,
   "id": "6d818bf3-88d0-4498-ad64-e1f32031ed2c",
   "metadata": {},
   "outputs": [],
   "source": [
    "Q11. An educational researcher is interested in whether a new teaching method improves student test\n",
    "scores. They randomly assign 100 students to either the control group (traditional teaching method) or the\n",
    "experimental group (new teaching method) and administer a test at the end of the semester. Conduct a\n",
    "two-sample t-test using Python to determine if there are any significant differences in test scores\n",
    "between the two groups. If the results are significant, follow up with a post-hoc test to determine which\n",
    "group(s) differ significantly from each other."
   ]
  },
  {
   "cell_type": "code",
   "execution_count": 5,
   "id": "91529add-71c7-43f5-a9ab-8c7e961a803d",
   "metadata": {},
   "outputs": [
    {
     "name": "stdout",
     "output_type": "stream",
     "text": [
      "T-statistic: -4.033323469078149\n",
      "p-value: 0.00019616367765719147\n",
      "   Multiple Comparison of Means - Tukey HSD, FWER=0.05    \n",
      "==========================================================\n",
      " group1    group2    meandiff p-adj  lower   upper  reject\n",
      "----------------------------------------------------------\n",
      "Control Experimental     7.96 0.0002 3.9919 11.9281   True\n",
      "----------------------------------------------------------\n"
     ]
    }
   ],
   "source": [
    "import numpy as np\n",
    "from scipy.stats import ttest_ind\n",
    "from statsmodels.stats.multicomp import pairwise_tukeyhsd\n",
    "control_group_scores = [75, 82, 68, 91, 78, 85, 79, 70, 88, 72, 84, 90, 81, 76, 73, 87, 80, 89, 74, 83, 77, 86, 69, 92, 71]\n",
    "experimental_group_scores = [85, 89, 76, 98, 92, 84, 88, 95, 80, 87, 91, 96, 90, 86, 83, 94, 82, 97, 79, 93, 81, 89, 78, 99, 87]\n",
    "t_statistic, p_value = ttest_ind(control_group_scores, experimental_group_scores)\n",
    "print(\"T-statistic:\", t_statistic)\n",
    "print(\"p-value:\", p_value)\n",
    "if p_value < 0.05:\n",
    "    all_scores = np.concatenate([control_group_scores, experimental_group_scores])\n",
    "    group_labels = ['Control'] * len(control_group_scores) + ['Experimental'] * len(experimental_group_scores)\n",
    "    tukey_result = pairwise_tukeyhsd(all_scores, group_labels)\n",
    "    print(tukey_result)"
   ]
  },
  {
   "cell_type": "code",
   "execution_count": null,
   "id": "aa787278-3819-4442-beb9-be141cf5f0eb",
   "metadata": {},
   "outputs": [],
   "source": [
    "Q12. A researcher wants to know if there are any significant differences in the average daily sales of three\n",
    "retail stores: Store A, Store B, and Store C. They randomly select 30 days and record the sales for each store\n",
    "on those days. Conduct a repeated measures ANOVA using Python to determine if there are any significant \n",
    "differences in sales between the three stores. If the results are significant, follow up with a post-\n",
    "hoc test to determine which store(s) differ significantly from each other."
   ]
  },
  {
   "cell_type": "code",
   "execution_count": 6,
   "id": "df654232-22cc-494c-8f63-51c678603d67",
   "metadata": {},
   "outputs": [
    {
     "name": "stdout",
     "output_type": "stream",
     "text": [
      "F-statistic: 137.24811603442782\n",
      "p-value: 1.2347336362039635e-27\n",
      "  Multiple Comparison of Means - Tukey HSD, FWER=0.05  \n",
      "=======================================================\n",
      " group1  group2 meandiff p-adj  lower    upper   reject\n",
      "-------------------------------------------------------\n",
      "Store A Store B -17.7667   0.0 -22.5394 -12.9939   True\n",
      "Store A Store C -33.1333   0.0 -37.9061 -28.3606   True\n",
      "Store B Store C -15.3667   0.0 -20.1394 -10.5939   True\n",
      "-------------------------------------------------------\n"
     ]
    }
   ],
   "source": [
    "import numpy as np\n",
    "from scipy.stats import f_oneway\n",
    "from statsmodels.stats.multicomp import pairwise_tukeyhsd\n",
    "store_A_sales = [100, 120, 110, 130, 140, 115, 105, 125, 135, 125, 130, 120, 135, 115, 110, 125, 130, 140, 115, 120, 130, 135, 140, 120, 125, 130, 140, 135, 125, 120]\n",
    "store_B_sales = [95, 105, 100, 115, 110, 105, 98, 112, 115, 110, 105, 112, 108, 102, 98, 115, 110, 105, 100, 108, 112, 115, 110, 105, 100, 102, 105, 115, 112, 108]\n",
    "store_C_sales = [80, 90, 85, 95, 100, 85, 90, 88, 92, 95, 98, 90, 88, 82, 85, 92, 95, 100, 85, 90, 95, 98, 100, 90, 92, 95, 100, 98, 90, 88]\n",
    "all_sales = np.concatenate([store_A_sales, store_B_sales, store_C_sales])\n",
    "group_labels = ['Store A'] * len(store_A_sales) + ['Store B'] * len(store_B_sales) + ['Store C'] * len(store_C_sales)\n",
    "f_statistic, p_value = f_oneway(store_A_sales, store_B_sales, store_C_sales)\n",
    "print(\"F-statistic:\", f_statistic)\n",
    "print(\"p-value:\", p_value)\n",
    "if p_value < 0.05:\n",
    "    tukey_result = pairwise_tukeyhsd(all_sales, group_labels)\n",
    "    print(tukey_result)"
   ]
  },
  {
   "cell_type": "code",
   "execution_count": null,
   "id": "e3890092-207b-4814-979f-1cc0c9dad221",
   "metadata": {},
   "outputs": [],
   "source": []
  }
 ],
 "metadata": {
  "kernelspec": {
   "display_name": "Python 3 (ipykernel)",
   "language": "python",
   "name": "python3"
  },
  "language_info": {
   "codemirror_mode": {
    "name": "ipython",
    "version": 3
   },
   "file_extension": ".py",
   "mimetype": "text/x-python",
   "name": "python",
   "nbconvert_exporter": "python",
   "pygments_lexer": "ipython3",
   "version": "3.10.8"
  }
 },
 "nbformat": 4,
 "nbformat_minor": 5
}
