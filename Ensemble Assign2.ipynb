{
 "cells": [
  {
   "cell_type": "code",
   "execution_count": null,
   "id": "5f1c756a-b2a4-40b2-9705-29014b60e4c5",
   "metadata": {},
   "outputs": [],
   "source": [
    "Q1. How does bagging reduce overfitting in decision trees?"
   ]
  },
  {
   "cell_type": "code",
   "execution_count": null,
   "id": "d50bea96-08a8-4d73-afef-3225efdcc485",
   "metadata": {},
   "outputs": [],
   "source": [
    "A1. Bagging reduces overfitting in decision trees by creating multiple bootstraped training sets from the \n",
    "    original training set, training a seperate decision tree on each bootstrapped set and then averaging \n",
    "    the predictions from all the decision trees. This process helps reduce overfitting because it averages \n",
    "    out the idiosyncracies of individual decision trees."
   ]
  },
  {
   "cell_type": "code",
   "execution_count": null,
   "id": "e890dedf-cabc-4794-9e4a-d13facfbe9d2",
   "metadata": {},
   "outputs": [],
   "source": [
    "Q2. What are the advantages and disadvantages of using different types of base learners in bagging?"
   ]
  },
  {
   "cell_type": "code",
   "execution_count": null,
   "id": "6687d821-6842-49ca-b941-a88473274783",
   "metadata": {},
   "outputs": [],
   "source": [
    "A2. Advantages - The strengths of different models can be combined like decision trees and linear regression.\n",
    "    More diversity in the ensemble leads to better ensemble performance generally.\n",
    "    Protects against poor performance of any single model.\n",
    "    \n",
    "    Disadvantages - Increased complexity in implementation and training.\n",
    "    Harder to interpret ensemble model.\n",
    "    Need to tune and select optimal parameters for multiple model types.\n",
    "    Different based models may require different data preprocessing."
   ]
  },
  {
   "cell_type": "code",
   "execution_count": null,
   "id": "99066e55-8391-46c8-86e5-9e9a8d9c5e53",
   "metadata": {},
   "outputs": [],
   "source": [
    "Q3. How does the choice of base learner affect the bias-variance tradeoff in bagging?"
   ]
  },
  {
   "cell_type": "code",
   "execution_count": null,
   "id": "68e8c33a-20e4-4354-9d71-42b2e6bc0aff",
   "metadata": {},
   "outputs": [],
   "source": [
    "A3. Bagging can help reduce variance of high variance models like deep decision trees. Creating ensembles of\n",
    "    trees reduces overfitting. \n",
    "    Bagging linear models or shallow decision trees can reduce bias by combining multiple models.\n",
    "    Using both high variance and high bias models provides a balance that leverages bagging to reduce both\n",
    "    bias and variance."
   ]
  },
  {
   "cell_type": "code",
   "execution_count": null,
   "id": "e3d938a3-fcb0-4539-8be5-91960ed9f0fa",
   "metadata": {},
   "outputs": [],
   "source": [
    "Q4. Can bagging be used for both classification and regression tasks? How does it differ in each case?"
   ]
  },
  {
   "cell_type": "code",
   "execution_count": null,
   "id": "791f78ac-73a4-4fb4-bf68-7928f86a4ea5",
   "metadata": {},
   "outputs": [],
   "source": [
    "A4. Yes, bagging can be used for both classification and regression tasks. \n",
    "    Classification - Each model makes class prediction and they are combined by voting or taking majority vote.\n",
    "    Regression - Each model takes numeric prediction and they are combined by averages. \n",
    "    \n",
    "    Differences - Voting is used in classification and average is used in regression.\n",
    "    Non- differentiable voting makes it harder to interpret feature importance in classification while average\n",
    "    allows feature importance in regression.\n",
    "    Discrete class predictions allow directly assessing accuarcy in classification while continuous ouputs \n",
    "    require evaluation via error metrics in Regression."
   ]
  },
  {
   "cell_type": "code",
   "execution_count": null,
   "id": "66d7fc68-311e-4c4b-95d3-5dd91c09f907",
   "metadata": {},
   "outputs": [],
   "source": [
    "Q5. What is the role of ensemble size in bagging? How many models should be included in the ensemble?"
   ]
  },
  {
   "cell_type": "code",
   "execution_count": null,
   "id": "8e7411db-b2b4-487f-8108-40eddbe8ee4a",
   "metadata": {},
   "outputs": [],
   "source": [
    "A5. The ensemble size or number of models plays an important role. Larger ensemble size reduces variance more\n",
    "    as predictions are averaged from more models.\n",
    "    Too few models provide insufficient variance reduction but too many models waste computation with little \n",
    "    additional performance gain.\n",
    "    10 to 100 base models are preferred but to be selected based on dataset."
   ]
  },
  {
   "cell_type": "code",
   "execution_count": null,
   "id": "49059518-06f3-4498-85e6-d18eebab0b69",
   "metadata": {},
   "outputs": [],
   "source": [
    "Q6. Can you provide an example of a real-world application of bagging in machine learning?"
   ]
  },
  {
   "cell_type": "code",
   "execution_count": null,
   "id": "172a4d8f-1fff-4ab7-b5ab-bdbe884ce8a1",
   "metadata": {},
   "outputs": [],
   "source": [
    "A6. Credit scoring - Emsemble of decision trees built on random subsets of credit history data to predict \n",
    "    default risk more accurately. \n",
    "    Weather forecasting - Bagging used to ensemble predictions from multiple numerical whether models improves\n",
    "    prediction accuracy over any single model.\n",
    "    Fraud detection - Random forest model trained on transactions data to identify fraud activity uses bagging\n",
    "    to improve detection over individual decision trees."
   ]
  }
 ],
 "metadata": {
  "kernelspec": {
   "display_name": "Python 3 (ipykernel)",
   "language": "python",
   "name": "python3"
  },
  "language_info": {
   "codemirror_mode": {
    "name": "ipython",
    "version": 3
   },
   "file_extension": ".py",
   "mimetype": "text/x-python",
   "name": "python",
   "nbconvert_exporter": "python",
   "pygments_lexer": "ipython3",
   "version": "3.10.8"
  }
 },
 "nbformat": 4,
 "nbformat_minor": 5
}
