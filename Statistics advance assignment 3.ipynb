{
 "cells": [
  {
   "cell_type": "code",
   "execution_count": null,
   "id": "2be30b65-1df4-4f4a-a607-47d2adb04614",
   "metadata": {},
   "outputs": [],
   "source": [
    "Q1: What is Estimation Statistics? Explain point estimate and interval estimate."
   ]
  },
  {
   "cell_type": "code",
   "execution_count": null,
   "id": "212fd8d8-dbed-44f8-bdee-c93e4cf8fbc2",
   "metadata": {},
   "outputs": [],
   "source": [
    "A1: Estimation statistics is a branch of statistics that involves making inferences about population \n",
    "    parameter based on sample data. When it is not possible to find or collect data from an entire population\n",
    "    statisticians use estimation techniques to draw conclusions about population using information obtained \n",
    "    from a smaller sample. \n",
    "    \n",
    "    Point estimate - It is a single value used to estimate an unknown population parameter. It is obtained \n",
    "    by calculating a summary statistic from the sample data such as sample mean, sample median, sample \n",
    "    proportion. Point estimate provides single, best guess of population parameter, but they do not give any\n",
    "    information about the uncertainty or variability associated with it. \n",
    "    \n",
    "    Interval estimate - Interval estimate or confidence interval provides a range of values within which \n",
    "    population parameter is likely to lie, along with a level of confidence associated with that range. Instead\n",
    "    of single point, it gives range of values, taking in the account the variability in the data. Confidence\n",
    "    intervals are constructed around the point estimate, and the width of the interval is determined by the \n",
    "    desired level of confidence and variability of sample data."
   ]
  },
  {
   "cell_type": "code",
   "execution_count": null,
   "id": "717c40ea-aedd-4414-982b-4ef37c73e232",
   "metadata": {},
   "outputs": [],
   "source": [
    "Q2. Write a Python function to estimate the population mean using a sample mean and standard deviation."
   ]
  },
  {
   "cell_type": "code",
   "execution_count": 1,
   "id": "71e2f8c5-913c-4a2c-8fa6-b6260a6dc1a7",
   "metadata": {},
   "outputs": [
    {
     "name": "stdout",
     "output_type": "stream",
     "text": [
      "The population mean is estimated to be between 95.84228852695097 and 104.15771147304903\n"
     ]
    }
   ],
   "source": [
    "import scipy.stats as stats \n",
    "def pop_mean_est(sam_mean,sam_std,sam_size,con_lvl):\n",
    "    z_score=stats.norm.ppf(1-(1-con_lvl)/2)\n",
    "    mar_err=z_score*(sam_std/(sam_size**0.5))\n",
    "    low_bound=sam_mean-mar_err\n",
    "    upp_bound=sam_mean+mar_err\n",
    "    return (low_bound,upp_bound)\n",
    "\n",
    "mean=100\n",
    "std=15\n",
    "size=50\n",
    "lvl=0.95\n",
    "conf_int=pop_mean_est(mean,std,size,lvl)\n",
    "print('The population mean is estimated to be between',conf_int[0],'and',conf_int[1])"
   ]
  },
  {
   "cell_type": "code",
   "execution_count": null,
   "id": "61622cf7-5c89-4cd4-a9ab-1c763729ed33",
   "metadata": {},
   "outputs": [],
   "source": [
    "Q3: What is Hypothesis testing? Why is it used? State the importance of Hypothesis testing."
   ]
  },
  {
   "cell_type": "code",
   "execution_count": null,
   "id": "199e1e6d-1616-481e-b30a-64ba75db13dd",
   "metadata": {},
   "outputs": [],
   "source": [
    "A3: Hypothesis testing is a method used to make decisions about population parameters based on sample data.\n",
    "    It involves formulating 2 competing hypothesis, the null hypotheses and alternative hypotheses and then\n",
    "    using sample data to determine which hypothesis is more likely to be true.\n",
    "    It is used to get conclusion about about population distribution based on sample distribution's data.\n",
    "    \n",
    "    Hypothesis testing allows researchers and decision-makers to make objective and data-driven decisions by \n",
    "    providing a framework to test claims and beliefs, it helps avoid arbitrary conclusions.\n",
    "    In scientific research, the hypotheses testing allows researchers to determine whether their findings are\n",
    "    statistically significant and can be generalised to a larger scale or not."
   ]
  },
  {
   "cell_type": "code",
   "execution_count": null,
   "id": "24c2e3d1-8e52-44c9-9182-eceafdf09aa5",
   "metadata": {},
   "outputs": [],
   "source": [
    "Q4. Create a hypothesis that states whether the average weight of male college students is greater than\n",
    "    the average weight of female college students."
   ]
  },
  {
   "cell_type": "code",
   "execution_count": null,
   "id": "6530e1bb-ce60-401f-bbe3-1cd35e347298",
   "metadata": {},
   "outputs": [],
   "source": [
    "A4. Null hypothesis (H0) - The average weight of male college students is greater than or equal to average\n",
    "    weight of female college students.\n",
    "    Alternate hypothesis (H1) - The average weight of male college students is less than average weight of\n",
    "    female college students."
   ]
  },
  {
   "cell_type": "code",
   "execution_count": null,
   "id": "017cdd6f-5799-4d4d-a65d-c99ae67d280e",
   "metadata": {},
   "outputs": [],
   "source": [
    "Q5. Write a Python script to conduct a hypothesis test on the difference between two population means, given \n",
    "    a sample from each population."
   ]
  },
  {
   "cell_type": "code",
   "execution_count": 3,
   "id": "eb363aa9-f701-4659-86da-f0210532c05d",
   "metadata": {},
   "outputs": [
    {
     "name": "stdout",
     "output_type": "stream",
     "text": [
      "Reject the null hypotheses. There is significant difference\n",
      "t statistic: 4.161290322580643\n",
      "p value: 0.0005865654403963555\n"
     ]
    }
   ],
   "source": [
    "import scipy.stats as stats\n",
    "def two_sam_ttest(s1,s2,a=0.05):\n",
    "    t_stat,p_value=stats.ttest_ind(s1,s2)\n",
    "    if p_value<a:\n",
    "        print('Reject the null hypotheses. There is significant difference')\n",
    "    else :\n",
    "        print('Failed to reject the null hypotheses. There is no significant difference')\n",
    "    print('t statistic:',t_stat)\n",
    "    print('p value:',p_value)\n",
    "    \n",
    "s1 = [67, 72, 73, 65, 68, 69, 71, 70, 72, 68]\n",
    "s2 = [62, 65, 68, 63, 66, 64, 67, 65, 64, 68]\n",
    "a = 0.05\n",
    "two_sam_ttest(s1,s2,a)"
   ]
  },
  {
   "cell_type": "code",
   "execution_count": null,
   "id": "8852c4dd-d312-41a3-ab50-763308428935",
   "metadata": {},
   "outputs": [],
   "source": [
    "Q6: What is a null and alternative hypothesis? Give some examples."
   ]
  },
  {
   "cell_type": "code",
   "execution_count": null,
   "id": "6aac0a12-039b-41cb-a753-76f2c88a7ac9",
   "metadata": {},
   "outputs": [],
   "source": [
    "A6. Null hypothesis - It is the default assumption which states that there is no significant difference \n",
    "    between the population distribution and sample distribution. \n",
    "    Eg: H0: The average IQ score of a population is 100.\n",
    "    \n",
    "    Alternate hypothesis - The alternate hypothesis is the statement which contradicts the null hypothesis. \n",
    "    Eg: H1: The average IQ score of a population is not 100."
   ]
  },
  {
   "cell_type": "code",
   "execution_count": null,
   "id": "453c4f67-c0b1-4d1b-865a-057ac4bba253",
   "metadata": {},
   "outputs": [],
   "source": [
    "Q7: Write down the steps involved in hypothesis testing."
   ]
  },
  {
   "cell_type": "code",
   "execution_count": null,
   "id": "1bc6e59a-bb50-44d0-9f63-96601e32b6b9",
   "metadata": {},
   "outputs": [],
   "source": [
    "A7: The steps in hypothesis testing are:\n",
    "    1) Formulating the hypothesis - Null hypothesis is the base hypothesis which tells that there is no \n",
    "       significant difference between population and sample distribution.\n",
    "       Alternate hypothesis contradicts the null hypothesis.\n",
    "    \n",
    "    2) Collecting and analyzing the sample data - Data is collected from a sample and a test statistic is \n",
    "       calculated from sample data. \n",
    "        \n",
    "    3) Calculating the p-value - The p value is the probability of observing the test statistic if the null\n",
    "       hypothesis is true.\n",
    "        \n",
    "    4) Making a decision - By comparing the p value with a predetermined significance level, the researcher \n",
    "       decides whether to reject the null hypothesis or not."
   ]
  },
  {
   "cell_type": "code",
   "execution_count": null,
   "id": "38865f12-bb94-437d-9833-0a0c8b3c0600",
   "metadata": {},
   "outputs": [],
   "source": [
    "Q8. Define p-value and explain its significance in hypothesis testing."
   ]
  },
  {
   "cell_type": "code",
   "execution_count": null,
   "id": "852c42cd-10c0-4716-bee7-2c18326b24cd",
   "metadata": {},
   "outputs": [],
   "source": [
    "A8. P-value is a probability that measures the strength of evidence against the null hypothesis based on\n",
    "    observed data. In hypothesis testing the p value helps researchers make decisions about the null and \n",
    "    alternate hypothesis.\n",
    "    If the p value is <= significance value then reject the null hypothesis.\n",
    "    If the p value is > significance value then accept the null hypothesis."
   ]
  },
  {
   "cell_type": "code",
   "execution_count": null,
   "id": "bf9c7f1a-eb79-4d4b-b16b-48ce5a60c3b9",
   "metadata": {},
   "outputs": [],
   "source": [
    "Q9. Generate a Student's t-distribution plot using Python's matplotlib library, with the degrees of freedom\n",
    "parameter set to 10."
   ]
  },
  {
   "cell_type": "code",
   "execution_count": 1,
   "id": "285785e1-a336-4b2b-88ae-6b1a6e3682ec",
   "metadata": {},
   "outputs": [
    {
     "data": {
      "image/png": "[encoded data removed]",
      "text/plain": [
       "<Figure size 640x480 with 1 Axes>"
      ]
     },
     "metadata": {},
     "output_type": "display_data"
    }
   ],
   "source": [
    "import numpy as np\n",
    "import matplotlib.pyplot as plt\n",
    "from scipy.stats import t\n",
    "dof=10\n",
    "x=np.linspace(-5,5,500)\n",
    "pdf_values=t.pdf(x,df=dof)\n",
    "plt.plot(x,pdf_values,label=f\"Degrees of freedom = {dof}\")\n",
    "plt.xlabel('x')\n",
    "plt.ylabel('Probability density function')\n",
    "plt.title('Student\\'s t-distribution')\n",
    "plt.legend()\n",
    "plt.grid(True)\n",
    "plt.show()"
   ]
  },
  {
   "cell_type": "code",
   "execution_count": null,
   "id": "1df89e05-001d-4085-a350-ea1e7e418c64",
   "metadata": {},
   "outputs": [],
   "source": [
    "Q10. Write a Python program to calculate the two-sample t-test for independent samples, given two random \n",
    "     samples of equal size and a null hypothesis that the population means are equal."
   ]
  },
  {
   "cell_type": "code",
   "execution_count": 2,
   "id": "586d7f51-6044-4082-85bb-9a13bf0eea46",
   "metadata": {},
   "outputs": [
    {
     "name": "stdout",
     "output_type": "stream",
     "text": [
      "Two sample ttest result: \n",
      "T-Statistic: -1.5479145984066416\n",
      "P-Value: 0.16023245031571362\n",
      "Accept the null hypothesis\n"
     ]
    }
   ],
   "source": [
    "import numpy as np\n",
    "import scipy.stats as stats\n",
    "def twosamttest(s1,s2):\n",
    "    t_stat,p_value=stats.ttest_ind(s1,s2)\n",
    "    return t_stat, p_value\n",
    "sample1 = np.array([10, 12, 14, 15, 11])\n",
    "sample2 = np.array([13, 16, 18, 14, 12])\n",
    "\n",
    "tstat,pval=twosamttest(sample1,sample2)\n",
    "print('Two sample ttest result: ')\n",
    "print(f'T-Statistic: {tstat}')\n",
    "print(f'P-Value: {pval}')\n",
    "a=0.05\n",
    "if pval<a:\n",
    "    print('Reject the null hypothesis')\n",
    "else:\n",
    "    print('Accept the null hypothesis')"
   ]
  },
  {
   "cell_type": "code",
   "execution_count": null,
   "id": "66053296-f198-45ae-aea3-adf0d8277d04",
   "metadata": {},
   "outputs": [],
   "source": [
    "Q11: What is Student’s t distribution? When to use the t-Distribution."
   ]
  },
  {
   "cell_type": "code",
   "execution_count": null,
   "id": "4d27a080-f595-4227-819c-2c0609e24e58",
   "metadata": {},
   "outputs": [],
   "source": [
    "A11: Student's t distribution is a probability distribution that is used in statistics for making inferences \n",
    "     about population mean when the sample size is small or population standard deviation is unknown.\n",
    "     We have to use the t-distribution when the sample size is less than 30.\n",
    "     If the population standard deviation is unknown , the t distribution is used instead of standard normal\n",
    "     distribution.\n",
    "     When estimating the population mean from sample, the t distribution provides more appropriate confidence\n",
    "     interval or margin of error than standard normal distribution when sample size is small or population\n",
    "     standard deviation is not known."
   ]
  },
  {
   "cell_type": "code",
   "execution_count": null,
   "id": "681847ce-d337-405c-b4de-aeb959a2c62c",
   "metadata": {},
   "outputs": [],
   "source": [
    "Q12: What is t-statistic? State the formula for t-statistic."
   ]
  },
  {
   "cell_type": "code",
   "execution_count": null,
   "id": "5352468f-f842-4ce4-9436-dedf05eaec7d",
   "metadata": {},
   "outputs": [],
   "source": [
    "A12. T statistic or T value is numerical used in hypothesis testing and confidence interval when the population\n",
    "     standard deviation is unknown and is calculated from sample.\n",
    "     The formula is : t stat = (x-u)/(s/(n**0.5))"
   ]
  },
  {
   "cell_type": "code",
   "execution_count": null,
   "id": "1b55c01e-f88a-4963-9520-5e3d678d358a",
   "metadata": {},
   "outputs": [],
   "source": [
    "Q13. A coffee shop owner wants to estimate the average daily revenue for their shop. They take a random\n",
    "sample of 50 days and find the sample mean revenue to be $500 with a standard deviation of $50.\n",
    "Estimate the population mean revenue with a 95% confidence interval."
   ]
  },
  {
   "cell_type": "code",
   "execution_count": 1,
   "id": "351cfcc9-8203-4b3a-9a73-ad778198cdf0",
   "metadata": {},
   "outputs": [
    {
     "name": "stdout",
     "output_type": "stream",
     "text": [
      "For 95% confidence interval, the population mean of daily revenue of the coffee shop lies between 486.1407070887437 and 513.8592929112564\n"
     ]
    }
   ],
   "source": [
    "n=50\n",
    "mean=500\n",
    "s=50\n",
    "ci=0.95\n",
    "crt_value=1.96 #critical value for 95% is 1.96\n",
    "std_err=s/(n)**0.5\n",
    "l_bound=mean-crt_value*std_err\n",
    "u_bound=mean+crt_value*std_err\n",
    "print('For 95% confidence interval, the population mean of daily revenue of the coffee shop lies between',l_bound,'and',u_bound)\n"
   ]
  },
  {
   "cell_type": "code",
   "execution_count": null,
   "id": "02c20ed5-a7bf-4456-b69d-160e73dccd21",
   "metadata": {},
   "outputs": [],
   "source": [
    "Q14. A researcher hypothesizes that a new drug will decrease blood pressure by 10 mmHg. They conduct a\n",
    "clinical trial with 100 patients and find that the sample mean decrease in blood pressure is 8 mmHg with a\n",
    "standard deviation of 3 mmHg. Test the hypothesis with a significance level of 0.05."
   ]
  },
  {
   "cell_type": "code",
   "execution_count": 5,
   "id": "b7074c0f-66f1-418f-8145-011ae63e50c6",
   "metadata": {},
   "outputs": [
    {
     "name": "stdout",
     "output_type": "stream",
     "text": [
      "6.666666666666667\n",
      "1.959963984540054\n",
      "The null hypothesis is wrong\n"
     ]
    }
   ],
   "source": [
    "import math\n",
    "from scipy.stats import norm\n",
    "mean=10\n",
    "x=8\n",
    "n=100\n",
    "std=3\n",
    "a=0.05\n",
    "H0='The new drug will decrease blood level by 10mmHg'\n",
    "H1='The new drug will decrease blood level by 8mmHg'\n",
    "z=(x-mean)/(std/(n**0.5))\n",
    "ci=1-a\n",
    "c_z=norm.ppf(ci+a/2)\n",
    "if z<0:\n",
    "    z=-z\n",
    "print(z)\n",
    "print(c_z)\n",
    "if z<c_z:\n",
    "    print('The null hypothesis is correct')\n",
    "else:\n",
    "    print('The null hypothesis is wrong')"
   ]
  },
  {
   "cell_type": "code",
   "execution_count": null,
   "id": "c389093f-bede-4123-b882-1c8ee5449a5a",
   "metadata": {},
   "outputs": [],
   "source": [
    "Q15. An electronics company produces a certain type of product with a mean weight of 5 pounds and a\n",
    "standard deviation of 0.5 pounds. A random sample of 25 products is taken, and the sample mean weight\n",
    "is found to be 4.8 pounds. Test the hypothesis that the true mean weight of the products is less than 5\n",
    "pounds with a significance level of 0.01."
   ]
  },
  {
   "cell_type": "code",
   "execution_count": 7,
   "id": "d40f5b2a-2861-4c85-926c-1e9fa88abe17",
   "metadata": {},
   "outputs": [
    {
     "name": "stdout",
     "output_type": "stream",
     "text": [
      "2.0000000000000018\n",
      "2.5758293035489004\n",
      "True mean weight of products is less than 5 pounds\n"
     ]
    }
   ],
   "source": [
    "import math\n",
    "from scipy.stats import norm\n",
    "mean = 5\n",
    "std=0.5\n",
    "n=25\n",
    "x=4.8\n",
    "a=0.01\n",
    "ci=1-a\n",
    "c_z=norm.ppf(ci+a/2)\n",
    "z=(x-mean)/(std/(math.sqrt(n)))\n",
    "z=-z\n",
    "H0='True mean weight of products is less than 5 pounds'\n",
    "H1='True mean weight of products is not less than 5 pounds'\n",
    "print(z)\n",
    "print(c_z)\n",
    "if z<c_z:\n",
    "    print(H0)\n",
    "else:\n",
    "    print(H1)"
   ]
  },
  {
   "cell_type": "code",
   "execution_count": null,
   "id": "10e1473b-e5e0-4788-a120-30e5739a189b",
   "metadata": {},
   "outputs": [],
   "source": [
    "Q16. Two groups of students are given different study materials to prepare for a test. The first group (n1 =\n",
    "30) has a mean score of 80 with a standard deviation of 10, and the second group (n2 = 40) has a mean\n",
    "score of 75 with a standard deviation of 8. Test the hypothesis that the population means for the two\n",
    "groups are equal with a significance level of 0.01."
   ]
  },
  {
   "cell_type": "code",
   "execution_count": 10,
   "id": "3739c40c-879d-42b9-b1b1-4883a6690e0a",
   "metadata": {},
   "outputs": [
    {
     "name": "stdout",
     "output_type": "stream",
     "text": [
      "2.2511258444537408\n",
      "2.6500812928169553\n",
      "Accept null hypothesis - Yes, the population mean for two groups are equal with significance value of 0.01\n"
     ]
    }
   ],
   "source": [
    "import scipy.stats as stats\n",
    "n1,n2,m1,m2,s1,s2=30,40,80,75,10,8\n",
    "a=0.01\n",
    "ci=1-a\n",
    "import math\n",
    "d=(s1*s1/n1)+(s2*s2/n2)\n",
    "t=(m1-m2)/math.sqrt(d)\n",
    "df=n1+n2-2\n",
    "crt_t=stats.t.ppf(1-a/2,df)\n",
    "print(t)\n",
    "print(crt_t)\n",
    "if abs(t)>crt_t:\n",
    "    print('Reject null hypothesis - No, the population mean for two groups are not equal')\n",
    "else:\n",
    "    print('Accept null hypothesis - Yes, the population mean for two groups are equal with significance value of 0.01')"
   ]
  },
  {
   "cell_type": "code",
   "execution_count": null,
   "id": "3277b6e7-246d-444a-b7ac-ff6f5beb7a1a",
   "metadata": {},
   "outputs": [],
   "source": [
    "Q17. A marketing company wants to estimate the average number of ads watched by viewers during a TV\n",
    "program. They take a random sample of 50 viewers and find that the sample mean is 4 with a standard\n",
    "deviation of 1.5. Estimate the population mean with a 99% confidence interval."
   ]
  },
  {
   "cell_type": "code",
   "execution_count": 11,
   "id": "6761c01a-dd23-4ad7-9bcf-c6e765f8ccbd",
   "metadata": {},
   "outputs": [
    {
     "name": "stdout",
     "output_type": "stream",
     "text": [
      "The population mean lies between 1.4241706964510996 and 6.5758293035489\n"
     ]
    }
   ],
   "source": [
    "from scipy.stats import norm\n",
    "n=50\n",
    "ci=0.99\n",
    "a=1-ci\n",
    "mean=4\n",
    "std=1.5\n",
    "std_err=std/n**0.5\n",
    "crt_val=norm.ppf(ci+a/2)\n",
    "l_bound=mean-crt_val\n",
    "u_bound=mean+crt_val\n",
    "print('The population mean lies between',l_bound,'and',u_bound)"
   ]
  },
  {
   "cell_type": "code",
   "execution_count": null,
   "id": "d2cf1545-562c-4951-be59-69196be9847b",
   "metadata": {},
   "outputs": [],
   "source": []
  }
 ],
 "metadata": {
  "kernelspec": {
   "display_name": "Python 3 (ipykernel)",
   "language": "python",
   "name": "python3"
  },
  "language_info": {
   "codemirror_mode": {
    "name": "ipython",
    "version": 3
   },
   "file_extension": ".py",
   "mimetype": "text/x-python",
   "name": "python",
   "nbconvert_exporter": "python",
   "pygments_lexer": "ipython3",
   "version": "3.10.8"
  }
 },
 "nbformat": 4,
 "nbformat_minor": 5
}
