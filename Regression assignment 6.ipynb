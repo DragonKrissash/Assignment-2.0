{
 "cells": [
  {
   "cell_type": "code",
   "execution_count": null,
   "id": "3ab25f5d-c4fa-4d7c-b19c-ecbd7a889e9d",
   "metadata": {},
   "outputs": [],
   "source": [
    "Q1. What are the key steps involved in building an end-to-end web application, from development to\n",
    "deployment on the cloud?"
   ]
  },
  {
   "cell_type": "code",
   "execution_count": null,
   "id": "30281558-921d-4238-9985-53ee7150e78a",
   "metadata": {},
   "outputs": [],
   "source": [
    "A1. The key steps are:\n",
    "    Requirement gathering - Gather business and technical requirements from stakeholders.\n",
    "    Application architecture - Design overall architecture of app, choose framework, library, API etc.\n",
    "    Development - Build the application using chosen technology stack. Code the front end, back end, API, \n",
    "    database and integrate.\n",
    "    Testing - Thoroughly test the app for functionality, UI/UX, performance, security, etc.\n",
    "    Deployment - Set up hosting infrastructure on cloud platform like AWS, AZURE etc.    "
   ]
  },
  {
   "cell_type": "code",
   "execution_count": null,
   "id": "f151c902-4717-4888-901a-bf0fd2f60991",
   "metadata": {},
   "outputs": [],
   "source": [
    "Q2. Explain the difference between traditional web hosting and cloud hosting."
   ]
  },
  {
   "cell_type": "code",
   "execution_count": null,
   "id": "e41b5d59-873c-475c-8a3e-b4b6b54ed42c",
   "metadata": {},
   "outputs": [],
   "source": [
    "A2. The traditional hosting used physical servers located in one data center while cloud uses virtualized \n",
    "    servers spread across multiple data centers.\n",
    "    The traditional scalability was limited depending on server capacity while cloud is highly scalable on demand.\n",
    "    Traditional had fixed costs for hosting, hardware while cloud will charge as per need, more variable costs.\n",
    "    Traditional had limited flexibility and hardware upgrades were needed for scaling while cloud is flexible \n",
    "    and scales dynamically."
   ]
  },
  {
   "cell_type": "code",
   "execution_count": null,
   "id": "80f46685-7651-412e-a8b2-d2c294cd0fc6",
   "metadata": {},
   "outputs": [],
   "source": [
    "Q3. How do you choose the right cloud provider for your application deployment, and what factors\n",
    "should you consider?"
   ]
  },
  {
   "cell_type": "code",
   "execution_count": null,
   "id": "2359b0fa-6365-4b53-9a61-3075787f106a",
   "metadata": {},
   "outputs": [],
   "source": [
    "A3. The provider should offer essential cloud services I need for my application like IaaS, PaaS, serverless,\n",
    "    storage, CDN.\n",
    "    I will compare the pricing between different providers and calculate costs based on my needs.\n",
    "    I will check historical uptime and service level agreements of provider.\n",
    "    Evaluate compute power, network latency based on app requirements.\n",
    "    Assess the ability to scale dynamically based on traffic spikes."
   ]
  },
  {
   "cell_type": "code",
   "execution_count": null,
   "id": "a388220b-7d52-4e68-9e3f-f9298c0c2271",
   "metadata": {},
   "outputs": [],
   "source": [
    "Q4. How do you design and build a responsive user interface for your web application, and what are\n",
    "some best practices to follow?"
   ]
  },
  {
   "cell_type": "code",
   "execution_count": null,
   "id": "eff20791-ddfb-4175-91a4-c11eca69ffb3",
   "metadata": {},
   "outputs": [],
   "source": [
    "A4. I would create mobile design first, then enhace for bigger screens as most consumers are on mobile.\n",
    "    Leverage frameworks like Bootstrap that make it easier to build responsive UI.\n",
    "    Use flexible containers, grids and images that adapt to different screen sizes.\n",
    "    Make images responsive using percent widths, max-width property and srcset for serving smaller images \n",
    "    on mobile.\n",
    "    Ensure interactive elements like buttons, links have adequate touch target size.\n",
    "    Test site performance on mobile networks. Optimize images, assets, caching and lazy loading.\n",
    "    Design for keyboard and screen reader accessibility.\n",
    "    Thoroughly test across devices, browsers and emulators during development."
   ]
  },
  {
   "cell_type": "code",
   "execution_count": null,
   "id": "a2217dd6-2bcf-4c3e-b7da-05fb62ee7b93",
   "metadata": {},
   "outputs": [],
   "source": [
    "Q5. How do you integrate the machine learning model with the user interface for the Algerian Forest Fires\n",
    "project(which we discussed in class), and what APIs or libraries can you use for this purpose?"
   ]
  },
  {
   "cell_type": "code",
   "execution_count": null,
   "id": "b15839f1-0e61-4231-8b0c-1ca6a2375fe8",
   "metadata": {},
   "outputs": [],
   "source": [
    "A5. I need to integrate the user interface of the Algerian Forest Fires project using Flask Api. I need to \n",
    "    use pandas, numpy, scikit libraries. "
   ]
  }
 ],
 "metadata": {
  "kernelspec": {
   "display_name": "Python 3 (ipykernel)",
   "language": "python",
   "name": "python3"
  },
  "language_info": {
   "codemirror_mode": {
    "name": "ipython",
    "version": 3
   },
   "file_extension": ".py",
   "mimetype": "text/x-python",
   "name": "python",
   "nbconvert_exporter": "python",
   "pygments_lexer": "ipython3",
   "version": "3.10.8"
  }
 },
 "nbformat": 4,
 "nbformat_minor": 5
}
