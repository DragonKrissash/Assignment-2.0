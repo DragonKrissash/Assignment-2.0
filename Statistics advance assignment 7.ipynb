{
 "cells": [
  {
   "cell_type": "code",
   "execution_count": null,
   "id": "f8fe0f22-fa8f-4337-b172-632844b1b53f",
   "metadata": {},
   "outputs": [],
   "source": [
    "Q1. Write a Python function that takes in two arrays of data and calculates the F-value for a variance ratio\n",
    "test. The function should return the F-value and the corresponding p-value for the test."
   ]
  },
  {
   "cell_type": "code",
   "execution_count": 2,
   "id": "af912fb1-b815-4b16-8461-309abb1c37e2",
   "metadata": {},
   "outputs": [
    {
     "name": "stdout",
     "output_type": "stream",
     "text": [
      "F-value: 3.6\n",
      "p-value: 0.0943497728424377\n"
     ]
    }
   ],
   "source": [
    "import numpy as np\n",
    "from scipy.stats import f_oneway\n",
    "def variance_ratio_test(arr1, arr2):\n",
    "    arr1 = np.array(arr1)\n",
    "    arr2 = np.array(arr2)\n",
    "    f_value, p_value = f_oneway(arr1, arr2)\n",
    "    return f_value, p_value\n",
    "array1 = [1, 2, 3, 4, 5]\n",
    "array2 = [2, 4, 6, 8, 10]\n",
    "f_stat,pval=variance_ratio_test(array1,array2)\n",
    "print(\"F-value:\", f_stat)\n",
    "print(\"p-value:\", pval)"
   ]
  },
  {
   "cell_type": "code",
   "execution_count": null,
   "id": "54ef9563-2547-4374-8fb3-7654270e7afa",
   "metadata": {},
   "outputs": [],
   "source": [
    "Q2. Given a significance level of 0.05 and the degrees of freedom for the numerator and denominator of an\n",
    "F-distribution, write a Python function that returns the critical F-value for a two-tailed test."
   ]
  },
  {
   "cell_type": "code",
   "execution_count": 2,
   "id": "d9e1f25a-28fe-4fb3-9b6e-825cf7d64328",
   "metadata": {},
   "outputs": [
    {
     "name": "stdout",
     "output_type": "stream",
     "text": [
      "Crtical F value: 4.474184809637748\n"
     ]
    }
   ],
   "source": [
    "from scipy.stats import f\n",
    "def crt_f_val(a,dfn,dfd):\n",
    "    crt_f_val=f.ppf(1-a/2,dfn,dfd)\n",
    "    return crt_f_val\n",
    "a=0.05\n",
    "dfn=3\n",
    "dfd=12\n",
    "crt_f=crt_f_val(a,dfn,dfd)\n",
    "print('Crtical F value:',crt_f)"
   ]
  },
  {
   "cell_type": "code",
   "execution_count": null,
   "id": "945782b8-3b5f-494e-8357-b83b5ba9013f",
   "metadata": {},
   "outputs": [],
   "source": [
    "Q3. Write a Python program that generates random samples from two normal distributions with known variances \n",
    "and uses an F-test to determine if the variances are equal. The program should output the F-value, degrees \n",
    "of freedom, and p-value for the test."
   ]
  },
  {
   "cell_type": "code",
   "execution_count": 3,
   "id": "7bcc40f7-5e3b-4702-a9f4-5532bc268dc9",
   "metadata": {},
   "outputs": [
    {
     "name": "stdout",
     "output_type": "stream",
     "text": [
      "F-value: 8.818926624165872\n",
      "p-value: 0.005141994059444493\n",
      "Degrees of freedom (numerator, denominator): (19, 18)\n"
     ]
    }
   ],
   "source": [
    "import numpy as np\n",
    "from scipy.stats import f_oneway\n",
    "def f_test(s1,s2):\n",
    "    f_val,p_val=f_oneway(s1,s2)\n",
    "    dfn=len(s1)-1\n",
    "    dfd=len(s2)-2\n",
    "    return f_val,p_val,(dfn,dfd)\n",
    "np.random.seed(42)\n",
    "m1,std1=5,2\n",
    "m2,std2=7,2\n",
    "sam_size=20\n",
    "s1=np.random.normal(m1,std1,sam_size)\n",
    "s2=np.random.normal(m2,std2,sam_size)\n",
    "f_val,p_val,dof=f_test(s1,s2)\n",
    "print(\"F-value:\", f_val)\n",
    "print(\"p-value:\", p_val)\n",
    "print(\"Degrees of freedom (numerator, denominator):\", dof)"
   ]
  },
  {
   "cell_type": "code",
   "execution_count": null,
   "id": "7b222d47-ada9-4e5c-a02e-9e577fdd5406",
   "metadata": {},
   "outputs": [],
   "source": [
    "Q4.The variances of two populations are known to be 10 and 15. A sample of 12 observations is taken from\n",
    "each population. Conduct an F-test at the 5% significance level to determine if the variances are\n",
    "significantly different."
   ]
  },
  {
   "cell_type": "code",
   "execution_count": 5,
   "id": "ebd3c882-f3fd-4c74-874a-4e0d70d6649b",
   "metadata": {},
   "outputs": [
    {
     "name": "stdout",
     "output_type": "stream",
     "text": [
      "F-value: 6.08206374265242\n",
      "p-value: 0.021924080753184683\n",
      "Degrees of freedom (numerator, denominator): (11, 11)\n"
     ]
    }
   ],
   "source": [
    "import numpy as np\n",
    "from scipy.stats import f_oneway\n",
    "def f_test(s1,s2):\n",
    "    f_val,p_val=f_oneway(s1,s2)\n",
    "    dfn=len(s1)-1\n",
    "    dfd=len(s2)-1\n",
    "    return f_val,p_val,(dfn,dfd)\n",
    "a=0.05\n",
    "sam_size=12\n",
    "std1=np.sqrt(10)\n",
    "std2=np.sqrt(15)\n",
    "np.random.seed(42)\n",
    "s1=np.random.normal(0,std1,sam_size)\n",
    "s2=np.random.normal(0,std2,sam_size)\n",
    "f_val,p_val,dof=f_test(s1,s2)\n",
    "print(\"F-value:\", f_val)\n",
    "print(\"p-value:\", p_val)\n",
    "print(\"Degrees of freedom (numerator, denominator):\", dof)"
   ]
  },
  {
   "cell_type": "code",
   "execution_count": null,
   "id": "750c543c-6568-40b3-8378-5a912f41b7a9",
   "metadata": {},
   "outputs": [],
   "source": [
    "Q5. A manufacturer claims that the variance of the diameter of a certain product is 0.005. A sample of 25\n",
    "products is taken, and the sample variance is found to be 0.006. Conduct an F-test at the 1% significance\n",
    "level to determine if the claim is justified."
   ]
  },
  {
   "cell_type": "code",
   "execution_count": 6,
   "id": "014b6454-985c-44cb-8b67-dcc3462a94d3",
   "metadata": {},
   "outputs": [
    {
     "name": "stdout",
     "output_type": "stream",
     "text": [
      "F-value: 1.2\n",
      "p-value: 0.3266132426825793\n",
      "Degrees of freedom (numerator, denominator): (24, 25)\n",
      "Failed to reject null hypothesis, there is no difference in diameter\n"
     ]
    }
   ],
   "source": [
    "import numpy as np\n",
    "from scipy.stats import f\n",
    "def f_test(sam_var,pop_var,sam_size):\n",
    "    dfn=sam_size-1\n",
    "    dfd=sam_size\n",
    "    f_val=sam_var/pop_var\n",
    "    p_val=f.sf(f_val,dfn,dfd)\n",
    "    return f_val,p_val,(dfn,dfd)\n",
    "sam_var=0.006\n",
    "pop_var=0.005\n",
    "sam_size=25\n",
    "f_val,p_val,dof=f_test(sam_var,pop_var,sam_size)\n",
    "print(\"F-value:\", f_val)\n",
    "print(\"p-value:\", p_val)\n",
    "print(\"Degrees of freedom (numerator, denominator):\", dof)\n",
    "a=0.01\n",
    "if p_val<a:\n",
    "    print('Reject null hypothesis, there is difference in diameter')\n",
    "else:\n",
    "    print('Failed to reject null hypothesis, there is no difference in diameter')"
   ]
  },
  {
   "cell_type": "code",
   "execution_count": null,
   "id": "bb76c6b4-3b02-42b5-865c-3835da0515f9",
   "metadata": {},
   "outputs": [],
   "source": [
    "Q6. Write a Python function that takes in the degrees of freedom for the numerator and denominator of an\n",
    "F-distribution and calculates the mean and variance of the distribution. The function should return the\n",
    "mean and variance as a tuple."
   ]
  },
  {
   "cell_type": "code",
   "execution_count": 7,
   "id": "bf4e7856-2136-4744-a39c-04fcb1f5edf7",
   "metadata": {},
   "outputs": [
    {
     "name": "stdout",
     "output_type": "stream",
     "text": [
      "Mean: 1.2\n",
      "Variance: 1.56\n"
     ]
    }
   ],
   "source": [
    "def f_dist_mean_var(dfn,dfd):\n",
    "    mean=dfd/(dfd-2)\n",
    "    var=(2*dfd**2*(dfn+dfd-2))/((dfn*(dfd-2)**2)*(dfd-4))\n",
    "    return mean,var\n",
    "dfn=3\n",
    "dfd=12\n",
    "mean,var=f_dist_mean_var(dfn,dfd)\n",
    "print('Mean:',mean)\n",
    "print('Variance:',var)"
   ]
  },
  {
   "cell_type": "code",
   "execution_count": null,
   "id": "f1100770-fc55-44aa-9867-b1bda09149d2",
   "metadata": {},
   "outputs": [],
   "source": [
    "Q7. A random sample of 10 measurements is taken from a normal population with unknown variance. The\n",
    "sample variance is found to be 25. Another random sample of 15 measurements is taken from another\n",
    "normal population with unknown variance, and the sample variance is found to be 20. Conduct an F-test\n",
    "at the 10% significance level to determine if the variances are significantly different."
   ]
  },
  {
   "cell_type": "code",
   "execution_count": 10,
   "id": "8ad3d51b-2d5e-4608-b33f-f51af5110ddc",
   "metadata": {},
   "outputs": [
    {
     "name": "stdout",
     "output_type": "stream",
     "text": [
      "F-value: 1.25\n",
      "p-value: 0.34632803032103127\n",
      "Degrees of freedom (numerator, denominator): (9, 13)\n",
      "Failed to reject null hypothesis, the variances are not different\n"
     ]
    }
   ],
   "source": [
    "import numpy as np\n",
    "from scipy.stats import f\n",
    "def f_test(sv1,sv2,ss1,ss2):\n",
    "    dfn=ss1-1\n",
    "    dfd=ss2-2\n",
    "    f_val=sv1/sv2\n",
    "    p_val=f.sf(f_val,dfn,dfd)\n",
    "    return f_val,p_val,(dfn,dfd)\n",
    "sample_var1 = 25\n",
    "sample_var2 = 20\n",
    "sample_size1 = 10\n",
    "sample_size2 = 15\n",
    "a=0.10\n",
    "f_val,p_val,dof=f_test(sample_var1,sample_var2,sample_size1,sample_size2)\n",
    "print(\"F-value:\", f_val)\n",
    "print(\"p-value:\", p_val)\n",
    "print(\"Degrees of freedom (numerator, denominator):\", dof)\n",
    "if p_val<a:\n",
    "    print('Reject null hypothesis, the variances are different')\n",
    "else:\n",
    "    print('Failed to reject null hypothesis, the variances are not different')"
   ]
  },
  {
   "cell_type": "code",
   "execution_count": null,
   "id": "cd37fcd3-7b9e-42e6-bd01-09974410c0cf",
   "metadata": {},
   "outputs": [],
   "source": [
    "Q8. The following data represent the waiting times in minutes at two different restaurants on a Saturday\n",
    "    night: \n",
    "    Restaurant A: 24, 25, 28, 23, 22, 20, 27; \n",
    "    Restaurant B: 31, 33, 35, 30, 32, 36. \n",
    "    Conduct an F-test at the 5% significance level to determine if the variances are significantly different."
   ]
  },
  {
   "cell_type": "code",
   "execution_count": 11,
   "id": "14276c87-ba59-4eed-8652-779453c7cd6c",
   "metadata": {},
   "outputs": [
    {
     "name": "stdout",
     "output_type": "stream",
     "text": [
      "F-value: 1.4551907719609583\n",
      "p-value: 0.34874078739687414\n",
      "Degrees of freedom (numerator, denominator): (6, 5)\n",
      "Failed to reject null hypothesis, the variances are not different\n"
     ]
    }
   ],
   "source": [
    "import numpy as np\n",
    "from scipy.stats import f\n",
    "def f_test(sample1,sample2):\n",
    "    sample_var1=np.var(sample1,ddof=1)\n",
    "    sample_var2=np.var(sample2,ddof=1)\n",
    "    sample_size1=len(sample1)\n",
    "    sample_size2=len(sample2)\n",
    "    dfn=sample_size1-1\n",
    "    dfd=sample_size2-1\n",
    "    f_val=sample_var1/sample_var2\n",
    "    p_val=f.sf(f_val,dfn,dfd)\n",
    "    return f_val,p_val,(dfn,dfd)\n",
    "restaurant_A = [24, 25, 28, 23, 22, 20, 27]\n",
    "restaurant_B = [31, 33, 35, 30, 32, 36]\n",
    "f_value, p_value, degrees_of_freedom = f_test(restaurant_A, restaurant_B)\n",
    "print(\"F-value:\", f_value)\n",
    "print(\"p-value:\", p_value)\n",
    "print(\"Degrees of freedom (numerator, denominator):\", degrees_of_freedom)\n",
    "a=0.05\n",
    "if p_value<a:\n",
    "    print('Reject null hypothesis, the variances are different')\n",
    "else:\n",
    "    print('Failed to reject null hypothesis, the variances are not different')"
   ]
  },
  {
   "cell_type": "code",
   "execution_count": null,
   "id": "e6422ca3-e7cf-42bb-9d8d-a95d9255f9eb",
   "metadata": {},
   "outputs": [],
   "source": [
    "Q9. The following data represent the test scores of two groups of students: \n",
    "    Group A: 80, 85, 90, 92, 87, 83;\n",
    "    Group B: 75, 78, 82, 79, 81, 84. \n",
    "    Conduct an F-test at the 1% significance level to determine if the variances are significantly different."
   ]
  },
  {
   "cell_type": "code",
   "execution_count": 12,
   "id": "4886654e-0d69-4d99-8b99-f154b9f4a4ac",
   "metadata": {},
   "outputs": [
    {
     "name": "stdout",
     "output_type": "stream",
     "text": [
      "F-value: 1.4551907719609583\n",
      "p-value: 0.34874078739687414\n",
      "Degrees of freedom (numerator, denominator): (6, 5)\n",
      "Failed to reject null hypothesis, the variances are not different\n"
     ]
    }
   ],
   "source": [
    "import numpy as np\n",
    "from scipy.stats import f\n",
    "def f_test(sample1,sample2):\n",
    "    sample_var1=np.var(sample1,ddof=1)\n",
    "    sample_var2=np.var(sample2,ddof=1)\n",
    "    sample_size1=len(sample1)\n",
    "    sample_size2=len(sample2)\n",
    "    dfn=sample_size1-1\n",
    "    dfd=sample_size2-1\n",
    "    f_val=sample_var1/sample_var2\n",
    "    p_val=f.sf(f_val,dfn,dfd)\n",
    "    return f_val,p_val,(dfn,dfd)\n",
    "Group_A = [80, 85, 90, 92, 87, 83]\n",
    "Group_B = [75, 78, 82, 79, 81, 84]\n",
    "f_value, p_value, degrees_of_freedom = f_test(restaurant_A, restaurant_B)\n",
    "print(\"F-value:\", f_value)\n",
    "print(\"p-value:\", p_value)\n",
    "print(\"Degrees of freedom (numerator, denominator):\", degrees_of_freedom)\n",
    "a=0.01\n",
    "if p_value<a:\n",
    "    print('Reject null hypothesis, the variances are different')\n",
    "else:\n",
    "    print('Failed to reject null hypothesis, the variances are not different')"
   ]
  },
  {
   "cell_type": "code",
   "execution_count": null,
   "id": "af78f602-8978-4cd6-810a-cfc25f0179e0",
   "metadata": {},
   "outputs": [],
   "source": []
  }
 ],
 "metadata": {
  "kernelspec": {
   "display_name": "Python 3 (ipykernel)",
   "language": "python",
   "name": "python3"
  },
  "language_info": {
   "codemirror_mode": {
    "name": "ipython",
    "version": 3
   },
   "file_extension": ".py",
   "mimetype": "text/x-python",
   "name": "python",
   "nbconvert_exporter": "python",
   "pygments_lexer": "ipython3",
   "version": "3.10.8"
  }
 },
 "nbformat": 4,
 "nbformat_minor": 5
}
