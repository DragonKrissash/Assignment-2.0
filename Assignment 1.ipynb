{
 "cells": [
  {
   "cell_type": "code",
   "execution_count": null,
   "metadata": {},
   "outputs": [],
   "source": [
    "#Q1. Create one variable containing following type of data:\n",
    "(i) string - word='krishna'\n",
    "(ii) list - num=[1,2,3,4]\n",
    "(iii) float - decimal = 6.546\n",
    "(iv) tuple - names={'kumar','sudh','krish'}"
   ]
  },
  {
   "cell_type": "code",
   "execution_count": null,
   "metadata": {},
   "outputs": [],
   "source": [
    "#Q2. Given are some following variables containing data:\n",
    "(i) var1 = ‘ ‘ : String\n",
    "(ii) var2 = ‘[ DS , ML , Python]’ : String\n",
    "(iii) var3 = [ ‘DS’ , ’ML’ , ‘Python’ ] : list\n",
    "(iv) var4 = 1. : float"
   ]
  },
  {
   "cell_type": "code",
   "execution_count": null,
   "metadata": {},
   "outputs": [],
   "source": [
    "Q3. Explain the use of the following operators using an example:\n",
    "\n",
    "(i) / - Division operator is used to give quotient of 2 numbers.\n",
    "        Ex: a=10/5. Output is 2\n",
    "\n",
    "(ii) % - Remender operator is used to return remender of 2 numbers.\n",
    "        Ex: a=6%2. Output is 0\n",
    "\n",
    "(iii) // - Floor division operator is used to return the quotient in integer type which is smaller than quotient.\n",
    "           Ex: a=10//4. Output is 2\n",
    "\n",
    "(iv) ** - Exponential operator is used to raise a base to a certain power. \n",
    "          Ex: a=5**2. Output is 25"
   ]
  },
  {
   "cell_type": "code",
   "execution_count": 21,
   "metadata": {},
   "outputs": [
    {
     "name": "stdout",
     "output_type": "stream",
     "text": [
      "1   <class 'int'>\n",
      "1.2   <class 'float'>\n",
      "k   <class 'str'>\n",
      "krish   <class 'str'>\n",
      "True   <class 'bool'>\n",
      "[1, 2, 3]   <class 'list'>\n",
      "{2, 3}   <class 'set'>\n",
      "{12: 'krish', '24': 'sudh'}   <class 'dict'>\n",
      "(234, 456)   <class 'tuple'>\n",
      "None   <class 'NoneType'>\n"
     ]
    }
   ],
   "source": [
    "#Q4. Create a list of length 10 of your choice containing multiple types of data. Using for loop print the\n",
    "#element and its data type.\n",
    "\n",
    "def test():\n",
    "    pass\n",
    "l=[1,1.2,'k','krish',True,[1,2,3],{2,3},{12:'krish','24':'sudh'},(234,456),test()]\n",
    "for i in l:\n",
    "    print(i,' ',type(i))"
   ]
  },
  {
   "cell_type": "code",
   "execution_count": 27,
   "metadata": {},
   "outputs": [
    {
     "name": "stdin",
     "output_type": "stream",
     "text": [
      "Enter a number 10\n",
      "Enter a number 5\n"
     ]
    },
    {
     "name": "stdout",
     "output_type": "stream",
     "text": [
      "10  is divisible by  5  2  times\n"
     ]
    }
   ],
   "source": [
    "#Q5. Using a while loop, verify if the number A is purely divisible by number B and if so then how many\n",
    "#times it can be divisible.\n",
    "\n",
    "a=int(input('Enter a number'))\n",
    "b=int(input('Enter a number'))\n",
    "c=0\n",
    "t=a\n",
    "if a%b==0:\n",
    "    while t>0:\n",
    "        t=t//b\n",
    "        c+=1\n",
    "    print(a,' is divisible by ',b,'',c,' times')\n",
    "else:\n",
    "          print(a,\" is not divisible by \",b)"
   ]
  },
  {
   "cell_type": "code",
   "execution_count": 30,
   "metadata": {},
   "outputs": [
    {
     "name": "stdout",
     "output_type": "stream",
     "text": [
      "0  is divisible by 3\n",
      "3  is divisible by 3\n",
      "6  is divisible by 3\n",
      "9  is divisible by 3\n",
      "12  is divisible by 3\n",
      "15  is divisible by 3\n",
      "18  is divisible by 3\n",
      "21  is divisible by 3\n"
     ]
    }
   ],
   "source": [
    "#Q6. Create a list containing 25 int type data. Using for loop and if-else condition print if the element is\n",
    "#divisible by 3 or not.\n",
    "\n",
    "l=[i for i in range(24)]\n",
    "for i in l:\n",
    "    if i%3==0:\n",
    "        print (i,' is divisible by 3')"
   ]
  },
  {
   "cell_type": "code",
   "execution_count": null,
   "metadata": {},
   "outputs": [],
   "source": [
    "Q7. What do you understand about mutable and immutable data types? Give examples for both showing\n",
    "this property.\n",
    "A7. Mutable objects are the objects which have indexes and the values at the indexes can be changed by\n",
    "    assignment or any other manner. Ex: list\n",
    "    Immutable objects are the objects which have indexes but the values at the indexes cannot be changed.\n",
    "    Ex: String.\n"
   ]
  }
 ],
 "metadata": {
  "kernelspec": {
   "display_name": "Python 3 (ipykernel)",
   "language": "python",
   "name": "python3"
  },
  "language_info": {
   "codemirror_mode": {
    "name": "ipython",
    "version": 3
   },
   "file_extension": ".py",
   "mimetype": "text/x-python",
   "name": "python",
   "nbconvert_exporter": "python",
   "pygments_lexer": "ipython3",
   "version": "3.10.8"
  }
 },
 "nbformat": 4,
 "nbformat_minor": 4
}
