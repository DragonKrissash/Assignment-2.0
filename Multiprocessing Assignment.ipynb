{
 "cells": [
  {
   "cell_type": "code",
   "execution_count": null,
   "id": "fc71abc7-f104-4c54-ae21-1259c280275f",
   "metadata": {},
   "outputs": [],
   "source": [
    "Q1. What is multiprocessing in python? Why is it useful?\n",
    "A1. Multiprocessing refers to utilization of multiple cpus or cpu cores. It offers parallel programming\n",
    "    interface which allows us to distribute the workload across multiple processes and execute them \n",
    "    simultaneously.\n",
    "    By using multiprocessing we can significantly improve the utilization of cpu cores by dividing the \n",
    "    program into sub programs.\n",
    "    Multiprocessing allows us to run multiple processes concurrently by which if one core is working on one\n",
    "    process other core will take care of other process."
   ]
  },
  {
   "cell_type": "code",
   "execution_count": null,
   "id": "1b37193a-3855-47c2-bf71-b61491a63c4e",
   "metadata": {},
   "outputs": [],
   "source": [
    "Q2. What are the differences between multiprocessing and multithreading?\n",
    "A2. In multiprocessing many processes are created with their own python interpreter and memory space which \n",
    "    run parallely and independent.\n",
    "    In multithreading multiple threads are created within one process which share same memory and interpreter\n",
    "    which run concurrently and execute tasks simultaneously."
   ]
  },
  {
   "cell_type": "code",
   "execution_count": null,
   "id": "aeca7f3a-91b6-4631-85e7-31f66fcf6b09",
   "metadata": {},
   "outputs": [],
   "source": [
    "Q3. Write a python code to create a process using the multiprocessing module."
   ]
  },
  {
   "cell_type": "code",
   "execution_count": 2,
   "id": "aee24cf9-7160-45dc-9854-cde5762775ec",
   "metadata": {},
   "outputs": [
    {
     "name": "stdout",
     "output_type": "stream",
     "text": [
      "This is main function\n",
      "5\n"
     ]
    }
   ],
   "source": [
    "import multiprocessing\n",
    "def sum(x,y):\n",
    "    print(x+y)\n",
    "if __name__=='__main__':\n",
    "    m=multiprocessing.Process(target=sum,args=(2,3))\n",
    "    print('This is main function')\n",
    "    m.start()\n",
    "    m.join()"
   ]
  },
  {
   "cell_type": "code",
   "execution_count": null,
   "id": "bf560226-37a7-4c40-95d6-93fa9c696f31",
   "metadata": {},
   "outputs": [],
   "source": [
    "Q4. What is a multiprocessing pool in python? Why is it used?\n",
    "A4. Multiprocessing pool creates a pool of worker processes that can efficiently execute multiple tasks \n",
    "    concurrently. The pool distributes the task among workers, executes it and returns the result.\n",
    "    The pool is used as it allows us to execute multiple tasks concurrently, utilizing the available \n",
    "    cpu resource.\n",
    "    It handles scheduling and allotment of tasks to the workers allowing us to work on creating tasks."
   ]
  },
  {
   "cell_type": "code",
   "execution_count": null,
   "id": "3874f725-7e50-47f8-a73f-61b50d24d2f8",
   "metadata": {},
   "outputs": [],
   "source": [
    "Q5. How can we create a pool of worker processes in python using the multiprocessing module?\n",
    "A5. We can create a pool of workers by following syntax:\n",
    "    \n",
    "    import multiprocessing\n",
    "    def test():\n",
    "        pass\n",
    "    if __name__=='__main__':\n",
    "        with multiprocessing.Pool(processes=4)as pool:\n",
    "    \n",
    "    here 4 processes are created and we can use the object pool for utilizing the 4 processes."
   ]
  },
  {
   "cell_type": "code",
   "execution_count": null,
   "id": "dc9d5f8a-2b43-457c-b5c7-14fe10ee0207",
   "metadata": {},
   "outputs": [],
   "source": [
    "Q6. Write a python program to create 4 processes, each process should print a different number using the\n",
    "    multiprocessing module in python.\n"
   ]
  },
  {
   "cell_type": "code",
   "execution_count": 2,
   "id": "00b90daa-8102-43b6-9676-05e2237b39d4",
   "metadata": {},
   "outputs": [
    {
     "name": "stdout",
     "output_type": "stream",
     "text": [
      "0\n",
      "1\n",
      "2\n",
      "3\n"
     ]
    }
   ],
   "source": [
    "import multiprocessing\n",
    "def num(n):\n",
    "    print(n)\n",
    "if __name__=='__main__':\n",
    "    processes=[]\n",
    "    for i in range(4):\n",
    "        p=multiprocessing.Process(target=num,args=(i,))\n",
    "        processes.append(p)\n",
    "        p.start()\n",
    "    for p in processes:\n",
    "        p.join()\n",
    "        "
   ]
  },
  {
   "cell_type": "code",
   "execution_count": null,
   "id": "f3c49b34-033f-495f-ac64-44cbbdb8ffd9",
   "metadata": {},
   "outputs": [],
   "source": []
  }
 ],
 "metadata": {
  "kernelspec": {
   "display_name": "Python 3 (ipykernel)",
   "language": "python",
   "name": "python3"
  },
  "language_info": {
   "codemirror_mode": {
    "name": "ipython",
    "version": 3
   },
   "file_extension": ".py",
   "mimetype": "text/x-python",
   "name": "python",
   "nbconvert_exporter": "python",
   "pygments_lexer": "ipython3",
   "version": "3.10.8"
  }
 },
 "nbformat": 4,
 "nbformat_minor": 5
}
