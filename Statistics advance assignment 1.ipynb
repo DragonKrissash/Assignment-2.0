{
 "cells": [
  {
   "cell_type": "code",
   "execution_count": null,
   "id": "042700da-05d1-4287-bde3-8d3d23364aa0",
   "metadata": {},
   "outputs": [],
   "source": [
    "Q1. What is the Probability density function?"
   ]
  },
  {
   "cell_type": "code",
   "execution_count": null,
   "id": "1ea13b67-1828-496d-952e-d12aff38d00c",
   "metadata": {},
   "outputs": [],
   "source": [
    "A1. The probability density function is a fundamental concept in probability and statistics. It describes \n",
    "    the likelihood of a continuous random variable taking a specific value in a given range."
   ]
  },
  {
   "cell_type": "code",
   "execution_count": null,
   "id": "d3113e5d-40d1-4814-933d-f512b96c2eed",
   "metadata": {},
   "outputs": [],
   "source": [
    "Q2. What are the types of Probability distribution?"
   ]
  },
  {
   "cell_type": "code",
   "execution_count": null,
   "id": "6f047bbd-a302-4e64-8061-68ebe5901d5e",
   "metadata": {},
   "outputs": [],
   "source": [
    "A2. There are two types of probability distributions:\n",
    "    a) Discrete probability distribution: This is used when the random variable can take on only discrete \n",
    "       particular values without any seperate intermediate values. The probabilities are assigned to each of \n",
    "       these seperate values. \n",
    "    \n",
    "    b) Continuous probability distribution: These are used when the random variable can take on any value within\n",
    "       a specific range. The probabilities are represented by continuous functions rather than individual values."
   ]
  },
  {
   "cell_type": "code",
   "execution_count": null,
   "id": "74572990-16ce-4767-a812-b469330b2381",
   "metadata": {},
   "outputs": [],
   "source": [
    "Q3. Write a Python function to calculate the probability density function of a normal distribution with given \n",
    "    mean and standard deviation at a given point."
   ]
  },
  {
   "cell_type": "code",
   "execution_count": 1,
   "id": "ab188024-17d3-404d-ab7e-5303a1c9669a",
   "metadata": {},
   "outputs": [
    {
     "name": "stdout",
     "output_type": "stream",
     "text": [
      "Requirement already satisfied: scipy in /opt/conda/lib/python3.10/site-packages (1.9.3)\n",
      "Requirement already satisfied: numpy<1.26.0,>=1.18.5 in /opt/conda/lib/python3.10/site-packages (from scipy) (1.23.5)\n",
      "Note: you may need to restart the kernel to use updated packages.\n"
     ]
    }
   ],
   "source": [
    "pip install scipy"
   ]
  },
  {
   "cell_type": "code",
   "execution_count": 2,
   "id": "631ac5c0-ffaf-4c00-aa9b-5ebe8163e52f",
   "metadata": {},
   "outputs": [],
   "source": [
    "from scipy.stats import norm"
   ]
  },
  {
   "cell_type": "code",
   "execution_count": 3,
   "id": "1582accf-0379-47bc-be5f-cef442d728ce",
   "metadata": {},
   "outputs": [
    {
     "name": "stdout",
     "output_type": "stream",
     "text": [
      "0.13114657203397997\n"
     ]
    }
   ],
   "source": [
    "x=1.5\n",
    "mean=2\n",
    "std_dev=3\n",
    "pdf_value=norm.pdf(x,loc=mean,scale=std_dev)\n",
    "print(pdf_value)"
   ]
  },
  {
   "cell_type": "code",
   "execution_count": null,
   "id": "c93e73a1-d003-4830-ae5e-e801c39c705e",
   "metadata": {},
   "outputs": [],
   "source": [
    "Q4. What are the properties of Binomial distribution? Give two examples of events where binomial distribution \n",
    "    can be applied."
   ]
  },
  {
   "cell_type": "code",
   "execution_count": null,
   "id": "9c44e075-a614-4c37-a79a-0cb14c531aca",
   "metadata": {},
   "outputs": [],
   "source": [
    "A4. Binomial distribution is a discrete probability distribution that describes the number of successes in a \n",
    "    fixed number of bernoulli trials. \n",
    "    Each trial has only two outcomes, success or failure. \n",
    "    Each trial's outcome is independent of outcome of other trials.\n",
    "    The probability of success is fixed and also failure's.\n",
    "    \n",
    "    Eg: The tossing of a coin and finding if a product produced is defective or good."
   ]
  },
  {
   "cell_type": "code",
   "execution_count": null,
   "id": "363b46de-e7e1-4f5a-b7f9-5380e571d620",
   "metadata": {},
   "outputs": [],
   "source": [
    "Q5. Generate a random sample of size 1000 from a binomial distribution with probability of success 0.4 and \n",
    "    plot a histogram of the results using matplotlib."
   ]
  },
  {
   "cell_type": "code",
   "execution_count": 6,
   "id": "4abebfa7-78ff-4688-b6c4-7f3bec7490a4",
   "metadata": {},
   "outputs": [
    {
     "data": {
      "image/png": "[encoded data removed]",
      "text/plain": [
       "<Figure size 640x480 with 1 Axes>"
      ]
     },
     "metadata": {},
     "output_type": "display_data"
    }
   ],
   "source": [
    "import numpy as np\n",
    "import matplotlib.pyplot as plt\n",
    "\n",
    "size=1000\n",
    "p=0.4\n",
    "random_sample=np.random.binomial(1,p,size)\n",
    "plt.hist(random_sample,bins=[0,1,2],align='left',rwidth=0.8)\n",
    "plt.xticks([0,1],['Failure','Success'])\n",
    "plt.xlabel('Outcome')\n",
    "plt.ylabel('Frequency')\n",
    "plt.title('Histogram of Random Sample from Binomial Distribution')\n",
    "plt.show()"
   ]
  },
  {
   "cell_type": "code",
   "execution_count": null,
   "id": "31a7a74a-cee3-4dc6-a308-f5e141bb280c",
   "metadata": {},
   "outputs": [],
   "source": [
    "Q6. Write a Python function to calculate the cumulative distribution function of a Poisson distribution with \n",
    "    given mean at a given point."
   ]
  },
  {
   "cell_type": "code",
   "execution_count": 8,
   "id": "65732beb-2c6c-4eb3-8785-07b70d67243e",
   "metadata": {},
   "outputs": [
    {
     "name": "stdout",
     "output_type": "stream",
     "text": [
      "0.8576135530957782\n"
     ]
    }
   ],
   "source": [
    "from scipy.stats import poisson\n",
    "mean=3.5\n",
    "x=5\n",
    "cdf_at_x=poisson.cdf(x,mu=mean)\n",
    "print(cdf_at_x)"
   ]
  },
  {
   "cell_type": "code",
   "execution_count": null,
   "id": "5600aad7-8591-4938-b8a1-971c7db5dd93",
   "metadata": {},
   "outputs": [],
   "source": [
    "Q7. How Binomial distribution different from Poisson distribution?"
   ]
  },
  {
   "cell_type": "code",
   "execution_count": null,
   "id": "0fa20519-166a-4fa8-adfb-2250807f7927",
   "metadata": {},
   "outputs": [],
   "source": [
    "A7. The binomial distribution function is used to model number of successes in a fixed number of independent\n",
    "    bernoulli trials where each trial has two possibilities, success or failure.\n",
    "    Binomial distribution requires fixed number of trials to be specified in advance.\n",
    "    \n",
    "    The Poisson distribution function is used to model number of events that occur in a fixed interval of \n",
    "    time or space. \n",
    "    Poisson distribution does not involve fixed number of trials but occurance of events over a continuous \n",
    "    interval and events can range from 0 to infinity."
   ]
  },
  {
   "cell_type": "code",
   "execution_count": null,
   "id": "38892e44-fd2d-4676-9c73-8a939e4f8adb",
   "metadata": {},
   "outputs": [],
   "source": [
    "Q8. Generate a random sample of size 1000 from a Poisson distribution with mean 5 and calculate the sample \n",
    "    mean and variance."
   ]
  },
  {
   "cell_type": "code",
   "execution_count": 1,
   "id": "9b2cd8bf-fa23-4f34-bde3-d5320715a77e",
   "metadata": {},
   "outputs": [
    {
     "name": "stdout",
     "output_type": "stream",
     "text": [
      "The mean: 5.003\n",
      "The variance: 4.978991\n"
     ]
    }
   ],
   "source": [
    "import scipy\n",
    "from scipy.stats import poisson\n",
    "import numpy as np\n",
    "rand_samp=np.random.poisson(5,size=1000)\n",
    "mean=np.mean(rand_samp)\n",
    "var=np.var(rand_samp)\n",
    "print('The mean:',mean)\n",
    "print('The variance:',var)"
   ]
  },
  {
   "cell_type": "code",
   "execution_count": null,
   "id": "00b08c62-1b64-46bc-9b2e-0425452c1b8e",
   "metadata": {},
   "outputs": [],
   "source": [
    "Q9. How mean and variance are related in Binomial distribution and Poisson distribution?"
   ]
  },
  {
   "cell_type": "code",
   "execution_count": null,
   "id": "d234a44f-2fec-4449-85e1-8ccf1fc1e09b",
   "metadata": {},
   "outputs": [],
   "source": [
    "A9. In binomial distribution the mean is equal to product of no of trials, success probability. u=n*p\n",
    "    The variance is equal to product of no of trials, success probability, failure probability. u=n*p*q\n",
    "    \n",
    "    In poisson distribution the mean is equal to rate of events occuring in a fixed interval of time.\n",
    "    The variance is equal to mean in poisson distribution. "
   ]
  },
  {
   "cell_type": "code",
   "execution_count": null,
   "id": "e7602dcb-d1dd-40e3-834a-3d9ee5938cc0",
   "metadata": {},
   "outputs": [],
   "source": [
    "Q10. In normal distribution with respect to mean position, where does the least frequent data appear?"
   ]
  },
  {
   "cell_type": "code",
   "execution_count": null,
   "id": "bddb4d17-1d80-4a62-bf69-42a366bca6c3",
   "metadata": {},
   "outputs": [],
   "source": [
    "A10. In normal distribution the least frequent data appears in the tails of the distribution, farthest away\n",
    "     from the mean. "
   ]
  }
 ],
 "metadata": {
  "kernelspec": {
   "display_name": "Python 3 (ipykernel)",
   "language": "python",
   "name": "python3"
  },
  "language_info": {
   "codemirror_mode": {
    "name": "ipython",
    "version": 3
   },
   "file_extension": ".py",
   "mimetype": "text/x-python",
   "name": "python",
   "nbconvert_exporter": "python",
   "pygments_lexer": "ipython3",
   "version": "3.10.8"
  }
 },
 "nbformat": 4,
 "nbformat_minor": 5
}
