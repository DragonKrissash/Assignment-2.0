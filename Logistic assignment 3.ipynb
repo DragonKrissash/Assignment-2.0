{
 "cells": [
  {
   "cell_type": "code",
   "execution_count": null,
   "id": "82a4b750-73c4-45bf-91c9-ccca5428797c",
   "metadata": {},
   "outputs": [],
   "source": [
    "Q1. Explain the concept of precision and recall in the context of classification models."
   ]
  },
  {
   "cell_type": "code",
   "execution_count": null,
   "id": "a65eca29-c4ec-4eaf-826d-56ab6dd7a2e6",
   "metadata": {},
   "outputs": [],
   "source": [
    "A1. Precision means the percentage of real positives out of identified postives which measures how accurate\n",
    "    predictions are.\n",
    "    Recall is percentage of predicted positives which are actually positive which measure the model's ability\n",
    "    to find all positive samples. \n",
    "    Ex: If there are 100 students in a class and an exam is conducted. If 60 students pass the exam and due\n",
    "    to computer correction error only 30 are said to be passed by the computer, here the precision is\n",
    "    30/60 = 50% precision. \n",
    "    If the teacher notices this and checks the paper on her own and comes to conclusion that 50 are really \n",
    "    passed, then the recall is 50/60 = 83%."
   ]
  },
  {
   "cell_type": "code",
   "execution_count": null,
   "id": "3790edf1-4d6c-4590-9a6e-f715941b4d91",
   "metadata": {},
   "outputs": [],
   "source": [
    "Q2. What is the F1 score and how is it calculated? How is it different from precision and recall?"
   ]
  },
  {
   "cell_type": "code",
   "execution_count": null,
   "id": "6d44b685-6dbd-4b7e-9d52-5d4bc0e8b88d",
   "metadata": {},
   "outputs": [],
   "source": [
    "A2. The F1 score combines both precision and recall. \n",
    "    F1 score = 2 * (precision * recall) / (precision + recall)\n",
    "    The precision only considers positive predictions and does not take into account false negatives.\n",
    "    Recall looks at only relevant items ignoring false postives predicted.\n",
    "    F1 score considers both false positive and false negative to compute the accuracy."
   ]
  },
  {
   "cell_type": "code",
   "execution_count": null,
   "id": "ac8e2625-6aa6-44a0-aeab-cb7ed8514499",
   "metadata": {},
   "outputs": [],
   "source": [
    "Q3. What is ROC and AUC, and how are they used to evaluate the performance of classification models?"
   ]
  },
  {
   "cell_type": "code",
   "execution_count": null,
   "id": "f379ad6d-2169-4c85-bc98-55b936af663f",
   "metadata": {},
   "outputs": [],
   "source": [
    "A3. ROC is receiver operating characteristic and AUC area under curve are evaluation metrics used for \n",
    "    classification models. \n",
    "    The ROC curves are plotted with true positive on y axis and false positive on x axis. \n",
    "    AUC is the area under ROC curve representing the model's ability to distinguish between classes. AUC of\n",
    "    1 is perfect while 0.5 is equivalent to random guessing.\n",
    "    ROC curves visualize the tradeoff between true positive and false positive. Higher curves are better.\n",
    "    AUC summarizes the ROC curve into single metric of model accuracy. Higher AUC is better. \n",
    "    AUC is useful for imbalanced classes as it measures how well positives are ranked higher than negatives.\n",
    "    ROC and AUC helps choose models that maximize true positives while minimizing false positives. The higher\n",
    "    the AUC, better the model at distinguishing signal from noise."
   ]
  },
  {
   "cell_type": "code",
   "execution_count": null,
   "id": "3ceb35d9-dc07-473f-b654-70bd30fc2f3b",
   "metadata": {},
   "outputs": [],
   "source": [
    "Q4. How do you choose the best metric to evaluate the performance of a classification model? What is \n",
    "    multiclass classification and how is it different from binary classification?"
   ]
  },
  {
   "cell_type": "code",
   "execution_count": null,
   "id": "37a2b7dc-43f4-426e-9a88-455530d36a0c",
   "metadata": {},
   "outputs": [],
   "source": [
    "A4. With balanced classes accuracy is simple and effective metric but with imbalanced classes accuracy is \n",
    "    misleading.\n",
    "    For imbalanced binary classification, ROC and AUC is better metric than accuracy, as it evaluates the \n",
    "    model's ability to discriminate between classes.\n",
    "    For multiclass problems, macro/micro average recall, precision and F1 provide insight into performance\n",
    "    per class.\n",
    "    \n",
    "    We need to consider model objectives, data characteristics and business needs when selecting evaluation\n",
    "    metrics. We need to track multiple metrics to get a holistic view of performance.\n",
    "    \n",
    "    Multi class classification is a type of classification where there are more than two types of classes to \n",
    "    predict. Ex: Classifying images as cat, dog, bird. Detecting different types of defects in manufacturing.\n",
    "    The differences are:\n",
    "        In binary classification, there are two types of classes (0/1) but in multiclass there are 3 or more.\n",
    "        The classification algorithm has to be able to distinguish between more classes and learn multiple\n",
    "        decision boundaries instead of just one. \n",
    "        Performance metrics need to account for all classes rather than just positive and negative. \n",
    "        Learning can be more complex as some classes may be highly similar or imbalanced. "
   ]
  },
  {
   "cell_type": "code",
   "execution_count": null,
   "id": "1065e045-6169-4c8a-8b4a-ea180f8fa81c",
   "metadata": {},
   "outputs": [],
   "source": [
    "Q5. Explain how logistic regression can be used for multiclass classification."
   ]
  },
  {
   "cell_type": "code",
   "execution_count": null,
   "id": "5a8558d0-1ecd-4835-902c-88fdb2ca5034",
   "metadata": {},
   "outputs": [],
   "source": [
    "A5. Logistic regression can be applied by :\n",
    "    One vs All - Train K seperate binary classifiers, one for each class. \n",
    "    Each classifier predicts whether an example belongs to its class or not.\n",
    "    The output will have K prediction scores that are converted to probabilities.\n",
    "    The class with highest probability is the final prediction.\n",
    "    \n",
    "    One vs One - Train a binary classifier for every pair of classes. \n",
    "    This results in k(k-1)/2 classifiers. \n",
    "    Each classifier votes for one of the two classes. \n",
    "    The class with most votes is the final prediction.\n",
    "    \n",
    "    Softmax Regression - Extends logistic regression by adding a softmax activation function.\n",
    "    Outputs probability distribution over all classes that sums to 1.\n",
    "    The class with highest probability is prediction.\n",
    "    \n",
    "    Logistic regression can handle multiclass via OvA, OvO, or directly through softmax \n",
    "    regression. This extends it beyond just binary classification. The softmax output is \n",
    "    usually preferred over OvA or OvO."
   ]
  },
  {
   "cell_type": "code",
   "execution_count": null,
   "id": "623ec508-6c9b-4818-96c4-41b121265591",
   "metadata": {},
   "outputs": [],
   "source": [
    "Q6. Describe the steps involved in an end-to-end project for multiclass classification."
   ]
  },
  {
   "cell_type": "code",
   "execution_count": null,
   "id": "f4b2ecb7-4481-47d5-804e-2066d87f1f0b",
   "metadata": {},
   "outputs": [],
   "source": [
    "A6. The steps are:\n",
    "    Data collection - Gather the data for different classes, ensure they are sufficient and split data into\n",
    "    train, validation and test.\n",
    "    \n",
    "    Data cleaning and preprocessing - Handle the missing values, encode the categorical variables, standardize\n",
    "    or normalize the features and address class imbalance if needed.\n",
    "    \n",
    "    Feature engineering - Extract relevant features, use domain expertise to identify necessary features, perform\n",
    "    feature selection to remove irrelevant features.\n",
    "    \n",
    "    Model training and evaluation - Train models like regression, SVM, tune parameters using grid/random search,\n",
    "    evaluate models with accuracy, precision and recall.\n",
    "    \n",
    "    Final evaluation - Assess model on unseen data, report final performance metrics, analyze the confusion \n",
    "    matrix.\n",
    "    \n",
    "    Deployment - Export model to production environment, set up infrastructure for inferencing."
   ]
  },
  {
   "cell_type": "code",
   "execution_count": null,
   "id": "6ccd0ad3-78ec-4a33-9ea9-96a6800fac8d",
   "metadata": {},
   "outputs": [],
   "source": [
    "Q7. What is model deployment and why is it important?"
   ]
  },
  {
   "cell_type": "code",
   "execution_count": null,
   "id": "e02b3786-0cc1-42c8-bfe3-b5de3de83fd9",
   "metadata": {},
   "outputs": [],
   "source": [
    "A7. Model deployment is the process of integrating a trained machine learning model into a production \n",
    "    environment so it can be used to make predictions in real time. It is an important step to utilize ML \n",
    "    models. Deployment of models unlocks the business aspect of it. Deployment addresses the IT infrastructure\n",
    "    and integration requirements to actually operationalize ML models so they can drive the real business \n",
    "    impact without which they remain theoretical and cannot create value at scale.    "
   ]
  },
  {
   "cell_type": "code",
   "execution_count": null,
   "id": "c071ed71-d6f3-4251-be8a-3d2e06c9e192",
   "metadata": {},
   "outputs": [],
   "source": [
    "Q8. Explain how multi-cloud platforms are used for model deployment."
   ]
  },
  {
   "cell_type": "code",
   "execution_count": null,
   "id": "173e0d62-91f5-4c11-9ae3-f87014ab7ef5",
   "metadata": {},
   "outputs": [],
   "source": [
    "A8. Multi cloud platforms like AWS, GCP, Azure are used for deploying the machine learning models.\n",
    "    Deploying models on cloud platforms best meets the requirements like cost, scalability or geographic \n",
    "    availability.\n",
    "    We can compare price across providers and deploy models to lowest cost regions.\n",
    "    We can replicate models across clouds for disaster recovery needs. \n",
    "    Finally multicloud deployment provides flexibility to build across platforms, take advantage of unique\n",
    "    capabilities, reduce vendor lock-in and optimize for performance, scale, compliance and cost. "
   ]
  },
  {
   "cell_type": "code",
   "execution_count": null,
   "id": "f79b401d-641d-403c-b4bc-2174d4043d92",
   "metadata": {},
   "outputs": [],
   "source": [
    "Q9. Discuss the benefits and challenges of deploying machine learning models in a multi-cloud\n",
    "environment."
   ]
  },
  {
   "cell_type": "code",
   "execution_count": null,
   "id": "e1c088ea-06b5-4be0-be6e-cb948be4aebe",
   "metadata": {},
   "outputs": [],
   "source": [
    "A9. Benefits:\n",
    "    We can choose the optimal cloud platform for each model based on specific requirements which provides\n",
    "    more deployment options.\n",
    "    Deploying models on multiple clouds adds redundancy against outages and if one cloud goes down, the model\n",
    "    is still working on another.\n",
    "    We can compare pricing and opimize cost by deploying in the most cost - efficient regions.\n",
    "    \n",
    "    Challenges:\n",
    "    Managing and monitoring deployments across multiple cloud platforms, increases complexity.\n",
    "    Moving data between clouds can be challenging due to bandwidth limits.\n",
    "    Issues may be harder to isolate and troubleshoot across cloud boundaries."
   ]
  }
 ],
 "metadata": {
  "kernelspec": {
   "display_name": "Python 3 (ipykernel)",
   "language": "python",
   "name": "python3"
  },
  "language_info": {
   "codemirror_mode": {
    "name": "ipython",
    "version": 3
   },
   "file_extension": ".py",
   "mimetype": "text/x-python",
   "name": "python",
   "nbconvert_exporter": "python",
   "pygments_lexer": "ipython3",
   "version": "3.10.8"
  }
 },
 "nbformat": 4,
 "nbformat_minor": 5
}
