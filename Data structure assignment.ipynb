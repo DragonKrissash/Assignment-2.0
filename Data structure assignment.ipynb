{
 "cells": [
  {
   "cell_type": "code",
   "execution_count": null,
   "id": "839c6615-0e74-4014-a54e-64008f94c006",
   "metadata": {},
   "outputs": [],
   "source": [
    "Q1. How do you comment code in Python? What are the different types of comments?\n",
    "A1. We can comment in Python using the '#' character.\n",
    "    Single line comment - This comment can be done using the '#' character.\n",
    "    Multi line comment - This comment can be done using triple quotes ' ' '."
   ]
  },
  {
   "cell_type": "code",
   "execution_count": null,
   "id": "6dff6ec8-c36d-45e6-afb7-32828e69b24c",
   "metadata": {},
   "outputs": [],
   "source": [
    "Q2. What are variables in Python? How do you declare and assign values to variables?\n",
    "A2. Variables are named memory locations in Python which store a data. \n",
    "    We can declare the variables by just giving them a variable name and assigning a value.\n",
    "    We can assign a value to variables using the assignment operator.\n",
    "    Ex: a=100"
   ]
  },
  {
   "cell_type": "code",
   "execution_count": null,
   "id": "7a4c1b88-2a22-431f-8ccc-855716784840",
   "metadata": {},
   "outputs": [],
   "source": [
    "Q3. How do you convert one data type to another in Python?\n",
    "A3. To convert one data type into another we need to mention the desired data type name and the variable \n",
    "    whose data type to be converted in brackets beside it.\n",
    "    Ex: word='2020'\n",
    "        num=int(word)"
   ]
  },
  {
   "cell_type": "code",
   "execution_count": null,
   "id": "2d10e314-b335-4046-bbf8-41f0e86c57e5",
   "metadata": {},
   "outputs": [],
   "source": [
    "Q4. How do you write and execute a Python script from the command line?\n",
    "A4. First we need to write our python program in a script editor or ide file followed by saving it with\n",
    "    .py extension. Then we need to open command prompt and locate the python file using the cd operation.\n",
    "    Then we need to type python <filename>.py and our program will be executed."
   ]
  },
  {
   "cell_type": "code",
   "execution_count": 3,
   "id": "20911b59-30ae-4d7b-8d3a-d9ae8cb3266a",
   "metadata": {},
   "outputs": [
    {
     "name": "stdout",
     "output_type": "stream",
     "text": [
      "[2, 3]\n"
     ]
    }
   ],
   "source": [
    "#Q5. Given a list my_list = [1, 2, 3, 4, 5], write the code to slice the list and obtain the sub-list [2, 3].\n",
    "my_list=[1,2,3,4,5]\n",
    "sub_list=my_list[1:3]\n",
    "print(sub_list)"
   ]
  },
  {
   "cell_type": "code",
   "execution_count": null,
   "id": "018bea79-02d7-4797-8cc8-caee03fb4797",
   "metadata": {},
   "outputs": [],
   "source": [
    "Q6. What is a complex number in mathematics, and how is it represented in Python?\n",
    "A6. Complex number is a number which has real part and imaginary part being square root of negative 1 called\n",
    "    as iota. It is represented as x+yj where x and y are real number and j is iota in python.\n",
    "    Ex: 5+6j"
   ]
  },
  {
   "cell_type": "code",
   "execution_count": 5,
   "id": "85aadf48-c2c4-4b94-b16c-0f5bad781b8a",
   "metadata": {},
   "outputs": [],
   "source": [
    "Q7. What is the correct way to declare a variable named age and assign the value 25 to it?"
   ]
  },
  {
   "cell_type": "code",
   "execution_count": 6,
   "id": "2f91b325-018b-43a6-9afd-7225c5a0a1de",
   "metadata": {},
   "outputs": [],
   "source": [
    "age=25"
   ]
  },
  {
   "cell_type": "code",
   "execution_count": null,
   "id": "baafdd35-35ca-4153-a9c4-91f577358e19",
   "metadata": {},
   "outputs": [],
   "source": [
    "Q8. Declare a variable named price and assign the value 9.99 to it. What data type does this variable belong\n",
    "    to?"
   ]
  },
  {
   "cell_type": "code",
   "execution_count": 7,
   "id": "03403a82-5b16-4690-9d9b-764d7e2f3c78",
   "metadata": {},
   "outputs": [],
   "source": [
    "price=9.99"
   ]
  },
  {
   "cell_type": "code",
   "execution_count": 8,
   "id": "eb2e0c63-4ee2-4c6a-8d4f-d76e7a207c0c",
   "metadata": {},
   "outputs": [
    {
     "data": {
      "text/plain": [
       "float"
      ]
     },
     "execution_count": 8,
     "metadata": {},
     "output_type": "execute_result"
    }
   ],
   "source": [
    "type(price)"
   ]
  },
  {
   "cell_type": "code",
   "execution_count": null,
   "id": "4fe048a6-e40d-4359-8e02-6e93d6d56481",
   "metadata": {},
   "outputs": [],
   "source": [
    "This variable price belongs to float data type."
   ]
  },
  {
   "cell_type": "code",
   "execution_count": null,
   "id": "01383b7b-27ad-4fee-a994-7feadcda018d",
   "metadata": {},
   "outputs": [],
   "source": [
    "Q9. Create a variable named name and assign your full name to it as a string. How would you print the value \n",
    "    of this variable?"
   ]
  },
  {
   "cell_type": "code",
   "execution_count": 9,
   "id": "6342e511-1aff-4522-a96f-2b8994ff84b1",
   "metadata": {},
   "outputs": [
    {
     "name": "stdout",
     "output_type": "stream",
     "text": [
      "krishna\n"
     ]
    }
   ],
   "source": [
    "name='krishna'\n",
    "print(name)"
   ]
  },
  {
   "cell_type": "code",
   "execution_count": null,
   "id": "0c6b3917-1e80-44ae-882a-d38e34df73e2",
   "metadata": {},
   "outputs": [],
   "source": [
    "We can print the value of the variable using print statement."
   ]
  },
  {
   "cell_type": "code",
   "execution_count": null,
   "id": "5b5652b2-4b1a-437f-a339-8feaa429992c",
   "metadata": {},
   "outputs": [],
   "source": [
    "Q10. Given the string \"Hello, World!\", extract the substring \"World\"."
   ]
  },
  {
   "cell_type": "code",
   "execution_count": 13,
   "id": "f55e9c3a-9064-4c02-8104-3cbecfcf77cf",
   "metadata": {},
   "outputs": [
    {
     "data": {
      "text/plain": [
       "'World!'"
      ]
     },
     "execution_count": 13,
     "metadata": {},
     "output_type": "execute_result"
    }
   ],
   "source": [
    "'Hello, World!'[7:]"
   ]
  },
  {
   "cell_type": "code",
   "execution_count": null,
   "id": "5d9c189d-0716-42dc-b3f3-d9c2b5e75ac1",
   "metadata": {},
   "outputs": [],
   "source": [
    "Q11.Create a variable named \"is_student\" and assign it a boolean value indicating whether you are currently\n",
    "    a student or not."
   ]
  },
  {
   "cell_type": "code",
   "execution_count": 14,
   "id": "234ee307-64db-4ced-af9f-8e00590803fc",
   "metadata": {},
   "outputs": [],
   "source": [
    "is_student=True"
   ]
  },
  {
   "cell_type": "code",
   "execution_count": null,
   "id": "36c95ce2-862d-4f57-bb0d-2fc410558173",
   "metadata": {},
   "outputs": [],
   "source": []
  }
 ],
 "metadata": {
  "kernelspec": {
   "display_name": "Python 3 (ipykernel)",
   "language": "python",
   "name": "python3"
  },
  "language_info": {
   "codemirror_mode": {
    "name": "ipython",
    "version": 3
   },
   "file_extension": ".py",
   "mimetype": "text/x-python",
   "name": "python",
   "nbconvert_exporter": "python",
   "pygments_lexer": "ipython3",
   "version": "3.10.8"
  }
 },
 "nbformat": 4,
 "nbformat_minor": 5
}
