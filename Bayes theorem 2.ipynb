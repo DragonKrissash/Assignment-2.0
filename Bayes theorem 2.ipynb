{
 "cells": [
  {
   "cell_type": "code",
   "execution_count": null,
   "id": "68f8f1f4-029c-42ee-a93b-ed7ea9013b82",
   "metadata": {},
   "outputs": [],
   "source": [
    "Q1. A company conducted a survey of its employees and found that 70% of the employees use the\n",
    "company's health insurance plan, while 40% of the employees who use the plan are smokers. What is the\n",
    "probability that an employee is a smoker given that he/she uses the health insurance plan?"
   ]
  },
  {
   "cell_type": "code",
   "execution_count": null,
   "id": "8bed7422-df40-4c37-a54d-fd84fe384875",
   "metadata": {},
   "outputs": [],
   "source": [
    "A1. Given: P(HI) = 70/100 = 7/10\n",
    "           P(S|HI) = 40/100 = 4/10\n",
    "           P(S) = P(HI) * P(S|HI) = 7/10 * 4/10 = 28/100\n",
    "    Therefore the probability that an employee is a smoker given that he or she uses the health insurance plan\n",
    "    is 28/100."
   ]
  },
  {
   "cell_type": "code",
   "execution_count": null,
   "id": "c76f550d-41c2-4d90-9c40-af2df3d91a6e",
   "metadata": {},
   "outputs": [],
   "source": [
    "Q2. What is the difference between Bernoulli Naive Bayes and Multinomial Naive Bayes?"
   ]
  },
  {
   "cell_type": "code",
   "execution_count": null,
   "id": "6ddc88e2-471a-4b27-abdd-f15cc7c8ae18",
   "metadata": {},
   "outputs": [],
   "source": [
    "A2. The main differences are:\n",
    "    Bernoulli naive bayes is used when features have binary or boolean values and multinomial naive bayes is \n",
    "    used when features have discrete or count values.\n",
    "    Bernoulli models presence or absence of a feature. Multinomial models the frequency of features occuring.\n",
    "    Bernoulli models the probability of feature being active. Multinomial models the probability of each \n",
    "    feature value.\n",
    "    Bernoulli is good for binary/boolean sparse data like text classification. Multinomial is effective for\n",
    "    document classification using word counts."
   ]
  },
  {
   "cell_type": "code",
   "execution_count": null,
   "id": "af7aef34-cdda-4c1e-bb3a-86d5fd4b69a5",
   "metadata": {},
   "outputs": [],
   "source": [
    "Q3. How does Bernoulli Naive Bayes handle missing values?"
   ]
  },
  {
   "cell_type": "code",
   "execution_count": null,
   "id": "e026a612-05b7-4461-afac-729224c0b14e",
   "metadata": {},
   "outputs": [],
   "source": [
    "A3. For binary or boolean features a missing value is typically treated as negative or zero value. This \n",
    "    assumes the feature is missing or not present rather than active or present. The likelihood calculation\n",
    "    only considers the probabilities of features being active, any missing values do not contribute to the \n",
    "    likelihood."
   ]
  },
  {
   "cell_type": "code",
   "execution_count": null,
   "id": "ee1d3d13-04c3-4a8a-987a-d2768f7453b4",
   "metadata": {},
   "outputs": [],
   "source": [
    "Q4. Can Gaussian Naive Bayes be used for multi-class classification?"
   ]
  },
  {
   "cell_type": "code",
   "execution_count": null,
   "id": "16cb53b5-697e-4bae-b1e6-b4c3141cf426",
   "metadata": {},
   "outputs": [],
   "source": [
    "A4. Yes, Gaussian naive bayes can be used for multi class classification by:\n",
    "    The mean and variance of each feature is calculated based on training data for that class. These mean and\n",
    "    variance parameters model the Gaussian distribution of features withing each class. For a new data point \n",
    "    the probability of that data belonging to each class is calculated using the Gaussian distribution for \n",
    "    that class. "
   ]
  },
  {
   "cell_type": "code",
   "execution_count": null,
   "id": "5b932d57-49fa-4ca7-90fd-d075e66535a5",
   "metadata": {},
   "outputs": [],
   "source": [
    "Q5. Assignment:\n",
    "Data preparation:\n",
    "Download the \"Spambase Data Set\" from the UCI Machine Learning Repository (https://archive.ics.uci.edu/ml/\n",
    "datasets/Spambase). This dataset contains email messages, where the goal is to predict whether a message\n",
    "is spam or not based on several input features.\n",
    "Implementation:\n",
    "Implement Bernoulli Naive Bayes, Multinomial Naive Bayes, and Gaussian Naive Bayes classifiers using the\n",
    "scikit-learn library in Python. Use 10-fold cross-validation to evaluate the performance of each classifier on the\n",
    "dataset. You should use the default hyperparameters for each classifier.\n",
    "Results:\n",
    "Report the following performance metrics for each classifier:\n",
    "Accuracy\n",
    "Precision\n",
    "Recall\n",
    "F1 score\n",
    "Discussion:\n",
    "Discuss the results you obtained. Which variant of Naive Bayes performed the best? Why do you think that is\n",
    "the case? Are there any limitations of Naive Bayes that you observed?\n",
    "Conclusion:\n",
    "Summarise your findings and provide some suggestions for future work."
   ]
  },
  {
   "cell_type": "code",
   "execution_count": 1,
   "id": "6f09070b-1034-40e7-92a2-6bdcbfc77896",
   "metadata": {},
   "outputs": [],
   "source": [
    "import pandas as pd"
   ]
  },
  {
   "cell_type": "code",
   "execution_count": 2,
   "id": "bc34e6db-431d-46d6-bc0d-f3f6d677a444",
   "metadata": {},
   "outputs": [],
   "source": [
    "l=['word_freq_make',\n",
    "'word_freq_address',\n",
    "'word_freq_all',\n",
    "'word_freq_3d',\n",
    "'word_freq_our',\n",
    "'word_freq_over',\n",
    "'word_freq_remove',\n",
    "'word_freq_internet',\n",
    "'word_freq_order',\n",
    "'word_freq_mail',\n",
    "'word_freq_receive',\n",
    "'word_freq_will',\n",
    "'word_freq_people',\n",
    "'word_freq_report',\n",
    "'word_freq_addresses',\n",
    "'word_freq_free',\n",
    "'word_freq_business',\n",
    "'word_freq_email',\n",
    "'word_freq_you',\n",
    "'word_freq_credit',\n",
    "'word_freq_your',\n",
    "'word_freq_font',\n",
    "'word_freq_000',\n",
    "'word_freq_money',\n",
    "'word_freq_hp',\n",
    "'word_freq_hpl',\n",
    "'word_freq_george',\n",
    "'word_freq_650',\n",
    "'word_freq_lab',\n",
    "'word_freq_labs',\n",
    "'word_freq_telnet',\n",
    "'word_freq_857',\n",
    "'word_freq_data',\n",
    "'word_freq_415',\n",
    "'word_freq_85',\n",
    "'word_freq_technology',\n",
    "'word_freq_1999',\n",
    "'word_freq_parts',\n",
    "'word_freq_pm',\n",
    "'word_freq_direct',\n",
    "'word_freq_cs',\n",
    "'word_freq_meeting',\n",
    "'word_freq_original',\n",
    "'word_freq_project',\n",
    "'word_freq_re',\n",
    "'word_freq_edu',\n",
    "'word_freq_table',\n",
    "'word_freq_conference',\n",
    "'char_freq_;',\n",
    "'char_freq_(',\n",
    "'char_freq_[',\n",
    "'char_freq_!',\n",
    "'char_freq_$',\n",
    "'char_freq_#',\n",
    "'capital_run_length_average',\n",
    "'capital_run_length_longest',\n",
    "'capital_run_length_total']"
   ]
  },
  {
   "cell_type": "code",
   "execution_count": 3,
   "id": "f1de819a-0fa7-45d6-a0fe-9cc60e74eb88",
   "metadata": {},
   "outputs": [],
   "source": [
    "data=pd.read_csv('spambase.csv',names=l)"
   ]
  },
  {
   "cell_type": "code",
   "execution_count": 4,
   "id": "3be8cbb6-5f09-4c5b-bc01-cfc16dea0cce",
   "metadata": {},
   "outputs": [
    {
     "data": {
      "text/html": [
       "<div>\n",
       "<style scoped>\n",
       "    .dataframe tbody tr th:only-of-type {\n",
       "        vertical-align: middle;\n",
       "    }\n",
       "\n",
       "    .dataframe tbody tr th {\n",
       "        vertical-align: top;\n",
       "    }\n",
       "\n",
       "    .dataframe thead th {\n",
       "        text-align: right;\n",
       "    }\n",
       "</style>\n",
       "<table border=\"1\" class=\"dataframe\">\n",
       "  <thead>\n",
       "    <tr style=\"text-align: right;\">\n",
       "      <th></th>\n",
       "      <th>word_freq_make</th>\n",
       "      <th>word_freq_address</th>\n",
       "      <th>word_freq_all</th>\n",
       "      <th>word_freq_3d</th>\n",
       "      <th>word_freq_our</th>\n",
       "      <th>word_freq_over</th>\n",
       "      <th>word_freq_remove</th>\n",
       "      <th>word_freq_internet</th>\n",
       "      <th>word_freq_order</th>\n",
       "      <th>word_freq_mail</th>\n",
       "      <th>...</th>\n",
       "      <th>word_freq_conference</th>\n",
       "      <th>char_freq_;</th>\n",
       "      <th>char_freq_(</th>\n",
       "      <th>char_freq_[</th>\n",
       "      <th>char_freq_!</th>\n",
       "      <th>char_freq_$</th>\n",
       "      <th>char_freq_#</th>\n",
       "      <th>capital_run_length_average</th>\n",
       "      <th>capital_run_length_longest</th>\n",
       "      <th>capital_run_length_total</th>\n",
       "    </tr>\n",
       "  </thead>\n",
       "  <tbody>\n",
       "    <tr>\n",
       "      <th>0.00</th>\n",
       "      <td>0.64</td>\n",
       "      <td>0.64</td>\n",
       "      <td>0.0</td>\n",
       "      <td>0.32</td>\n",
       "      <td>0.00</td>\n",
       "      <td>0.00</td>\n",
       "      <td>0.00</td>\n",
       "      <td>0.00</td>\n",
       "      <td>0.00</td>\n",
       "      <td>0.00</td>\n",
       "      <td>...</td>\n",
       "      <td>0.00</td>\n",
       "      <td>0.000</td>\n",
       "      <td>0.0</td>\n",
       "      <td>0.778</td>\n",
       "      <td>0.000</td>\n",
       "      <td>0.000</td>\n",
       "      <td>3.756</td>\n",
       "      <td>61</td>\n",
       "      <td>278</td>\n",
       "      <td>1</td>\n",
       "    </tr>\n",
       "    <tr>\n",
       "      <th>0.21</th>\n",
       "      <td>0.28</td>\n",
       "      <td>0.50</td>\n",
       "      <td>0.0</td>\n",
       "      <td>0.14</td>\n",
       "      <td>0.28</td>\n",
       "      <td>0.21</td>\n",
       "      <td>0.07</td>\n",
       "      <td>0.00</td>\n",
       "      <td>0.94</td>\n",
       "      <td>0.21</td>\n",
       "      <td>...</td>\n",
       "      <td>0.00</td>\n",
       "      <td>0.132</td>\n",
       "      <td>0.0</td>\n",
       "      <td>0.372</td>\n",
       "      <td>0.180</td>\n",
       "      <td>0.048</td>\n",
       "      <td>5.114</td>\n",
       "      <td>101</td>\n",
       "      <td>1028</td>\n",
       "      <td>1</td>\n",
       "    </tr>\n",
       "    <tr>\n",
       "      <th>0.06</th>\n",
       "      <td>0.00</td>\n",
       "      <td>0.71</td>\n",
       "      <td>0.0</td>\n",
       "      <td>1.23</td>\n",
       "      <td>0.19</td>\n",
       "      <td>0.19</td>\n",
       "      <td>0.12</td>\n",
       "      <td>0.64</td>\n",
       "      <td>0.25</td>\n",
       "      <td>0.38</td>\n",
       "      <td>...</td>\n",
       "      <td>0.01</td>\n",
       "      <td>0.143</td>\n",
       "      <td>0.0</td>\n",
       "      <td>0.276</td>\n",
       "      <td>0.184</td>\n",
       "      <td>0.010</td>\n",
       "      <td>9.821</td>\n",
       "      <td>485</td>\n",
       "      <td>2259</td>\n",
       "      <td>1</td>\n",
       "    </tr>\n",
       "    <tr>\n",
       "      <th>0.00</th>\n",
       "      <td>0.00</td>\n",
       "      <td>0.00</td>\n",
       "      <td>0.0</td>\n",
       "      <td>0.63</td>\n",
       "      <td>0.00</td>\n",
       "      <td>0.31</td>\n",
       "      <td>0.63</td>\n",
       "      <td>0.31</td>\n",
       "      <td>0.63</td>\n",
       "      <td>0.31</td>\n",
       "      <td>...</td>\n",
       "      <td>0.00</td>\n",
       "      <td>0.137</td>\n",
       "      <td>0.0</td>\n",
       "      <td>0.137</td>\n",
       "      <td>0.000</td>\n",
       "      <td>0.000</td>\n",
       "      <td>3.537</td>\n",
       "      <td>40</td>\n",
       "      <td>191</td>\n",
       "      <td>1</td>\n",
       "    </tr>\n",
       "    <tr>\n",
       "      <th>0.00</th>\n",
       "      <td>0.00</td>\n",
       "      <td>0.00</td>\n",
       "      <td>0.0</td>\n",
       "      <td>0.63</td>\n",
       "      <td>0.00</td>\n",
       "      <td>0.31</td>\n",
       "      <td>0.63</td>\n",
       "      <td>0.31</td>\n",
       "      <td>0.63</td>\n",
       "      <td>0.31</td>\n",
       "      <td>...</td>\n",
       "      <td>0.00</td>\n",
       "      <td>0.135</td>\n",
       "      <td>0.0</td>\n",
       "      <td>0.135</td>\n",
       "      <td>0.000</td>\n",
       "      <td>0.000</td>\n",
       "      <td>3.537</td>\n",
       "      <td>40</td>\n",
       "      <td>191</td>\n",
       "      <td>1</td>\n",
       "    </tr>\n",
       "  </tbody>\n",
       "</table>\n",
       "<p>5 rows × 57 columns</p>\n",
       "</div>"
      ],
      "text/plain": [
       "      word_freq_make  word_freq_address  word_freq_all  word_freq_3d  \\\n",
       "0.00            0.64               0.64            0.0          0.32   \n",
       "0.21            0.28               0.50            0.0          0.14   \n",
       "0.06            0.00               0.71            0.0          1.23   \n",
       "0.00            0.00               0.00            0.0          0.63   \n",
       "0.00            0.00               0.00            0.0          0.63   \n",
       "\n",
       "      word_freq_our  word_freq_over  word_freq_remove  word_freq_internet  \\\n",
       "0.00           0.00            0.00              0.00                0.00   \n",
       "0.21           0.28            0.21              0.07                0.00   \n",
       "0.06           0.19            0.19              0.12                0.64   \n",
       "0.00           0.00            0.31              0.63                0.31   \n",
       "0.00           0.00            0.31              0.63                0.31   \n",
       "\n",
       "      word_freq_order  word_freq_mail  ...  word_freq_conference  char_freq_;  \\\n",
       "0.00             0.00            0.00  ...                  0.00        0.000   \n",
       "0.21             0.94            0.21  ...                  0.00        0.132   \n",
       "0.06             0.25            0.38  ...                  0.01        0.143   \n",
       "0.00             0.63            0.31  ...                  0.00        0.137   \n",
       "0.00             0.63            0.31  ...                  0.00        0.135   \n",
       "\n",
       "      char_freq_(  char_freq_[  char_freq_!  char_freq_$  char_freq_#  \\\n",
       "0.00          0.0        0.778        0.000        0.000        3.756   \n",
       "0.21          0.0        0.372        0.180        0.048        5.114   \n",
       "0.06          0.0        0.276        0.184        0.010        9.821   \n",
       "0.00          0.0        0.137        0.000        0.000        3.537   \n",
       "0.00          0.0        0.135        0.000        0.000        3.537   \n",
       "\n",
       "      capital_run_length_average  capital_run_length_longest  \\\n",
       "0.00                          61                         278   \n",
       "0.21                         101                        1028   \n",
       "0.06                         485                        2259   \n",
       "0.00                          40                         191   \n",
       "0.00                          40                         191   \n",
       "\n",
       "      capital_run_length_total  \n",
       "0.00                         1  \n",
       "0.21                         1  \n",
       "0.06                         1  \n",
       "0.00                         1  \n",
       "0.00                         1  \n",
       "\n",
       "[5 rows x 57 columns]"
      ]
     },
     "execution_count": 4,
     "metadata": {},
     "output_type": "execute_result"
    }
   ],
   "source": [
    "data.head()"
   ]
  },
  {
   "cell_type": "code",
   "execution_count": 5,
   "id": "35d7568c-dbd6-4115-ab3b-6a1785a95800",
   "metadata": {},
   "outputs": [],
   "source": [
    "x=data.iloc[:,:-1]\n",
    "y=data.iloc[:,-1]"
   ]
  },
  {
   "cell_type": "code",
   "execution_count": 6,
   "id": "18ba3b58-fbb8-4019-9eb8-1f07ecefd826",
   "metadata": {},
   "outputs": [],
   "source": [
    "from sklearn.model_selection import cross_val_score\n",
    "from sklearn.naive_bayes import BernoulliNB, MultinomialNB, GaussianNB\n",
    "from sklearn.metrics import accuracy_score, f1_score, precision_score, recall_score"
   ]
  },
  {
   "cell_type": "code",
   "execution_count": 28,
   "id": "3045f9a3-4c52-4dec-887c-a451b8d96391",
   "metadata": {},
   "outputs": [],
   "source": [
    "bnb=BernoulliNB()\n",
    "bnb_scores=cross_val_score(bnb,x,y,scoring='accuracy',cv=10)\n",
    "bnb_pres=cross_val_score(bnb,x,y,scoring='precision',cv=10)\n",
    "bnb_f1=cross_val_score(bnb,x,y,scoring='f1',cv=10)\n",
    "bnb_recall=cross_val_score(bnb,x,y,scoring='recall',cv=10)"
   ]
  },
  {
   "cell_type": "code",
   "execution_count": 29,
   "id": "868d9646-b2fd-4477-9e67-089c743894d8",
   "metadata": {},
   "outputs": [
    {
     "name": "stdout",
     "output_type": "stream",
     "text": [
      "Bernoulli NB Accuracy: 0.89 (+/- 0.10)\n",
      "Bernoulli NB Precision: 0.89 (+/- 0.17)\n",
      "Bernoulli NB F1 score: 0.85 (+/- 0.12)\n",
      "Bernoulli NB Recall: 0.82 (+/- 0.09)\n"
     ]
    }
   ],
   "source": [
    "print(\"Bernoulli NB Accuracy: %0.2f (+/- %0.2f)\" % (bnb_scores.mean(), bnb_scores.std() * 2))\n",
    "print(\"Bernoulli NB Precision: %0.2f (+/- %0.2f)\" % (bnb_pres.mean(), bnb_pres.std() * 2))\n",
    "print(\"Bernoulli NB F1 score: %0.2f (+/- %0.2f)\" % (bnb_f1.mean(), bnb_f1.std() * 2))\n",
    "print(\"Bernoulli NB Recall: %0.2f (+/- %0.2f)\" % (bnb_recall.mean(), bnb_recall.std() * 2))"
   ]
  },
  {
   "cell_type": "code",
   "execution_count": 31,
   "id": "b10ef16a-9d39-439a-a44c-5a34d2ee1b3b",
   "metadata": {},
   "outputs": [
    {
     "name": "stdout",
     "output_type": "stream",
     "text": [
      "Multinomial NB Accuracy: 0.79 (+/- 0.08)\n",
      "Multinomial NB Precision: 0.74 (+/- 0.13)\n",
      "Multinomial NB F1 score: 0.73 (+/- 0.08)\n",
      "Multinomial NB Recall: 0.72 (+/- 0.07)\n"
     ]
    }
   ],
   "source": [
    "mnb=MultinomialNB()\n",
    "mnb_scores=cross_val_score(mnb,x,y,scoring='accuracy',cv=10)\n",
    "mnb_pres=cross_val_score(mnb,x,y,scoring='precision',cv=10)\n",
    "mnb_f1=cross_val_score(mnb,x,y,scoring='f1',cv=10)\n",
    "mnb_recall=cross_val_score(mnb,x,y,scoring='recall',cv=10)\n",
    "print(\"Multinomial NB Accuracy: %0.2f (+/- %0.2f)\" % (mnb_scores.mean(), mnb_scores.std() * 2))\n",
    "print(\"Multinomial NB Precision: %0.2f (+/- %0.2f)\" % (mnb_pres.mean(), mnb_pres.std() * 2))\n",
    "print(\"Multinomial NB F1 score: %0.2f (+/- %0.2f)\" % (mnb_f1.mean(), mnb_f1.std() * 2))\n",
    "print(\"Multinomial NB Recall: %0.2f (+/- %0.2f)\" % (mnb_recall.mean(), mnb_recall.std() * 2))"
   ]
  },
  {
   "cell_type": "code",
   "execution_count": 32,
   "id": "d09d1c10-4a2a-4e32-be59-7678f6769bdb",
   "metadata": {},
   "outputs": [
    {
     "name": "stdout",
     "output_type": "stream",
     "text": [
      "Gaussian NB Accuracy: 0.82 (+/- 0.15)\n",
      "Gaussian NB Precision: 0.71 (+/- 0.17)\n",
      "Gaussian NB F1 score: 0.81 (+/- 0.13)\n",
      "Gaussian NB Recall: 0.96 (+/- 0.06)\n"
     ]
    }
   ],
   "source": [
    "gnb=GaussianNB()\n",
    "gnb_scores=cross_val_score(gnb,x,y,scoring='accuracy',cv=10)\n",
    "gnb_pres=cross_val_score(gnb,x,y,scoring='precision',cv=10)\n",
    "gnb_f1=cross_val_score(gnb,x,y,scoring='f1',cv=10)\n",
    "gnb_recall=cross_val_score(gnb,x,y,scoring='recall',cv=10)\n",
    "print(\"Gaussian NB Accuracy: %0.2f (+/- %0.2f)\" % (gnb_scores.mean(), gnb_scores.std() * 2))\n",
    "print(\"Gaussian NB Precision: %0.2f (+/- %0.2f)\" % (gnb_pres.mean(), gnb_pres.std() * 2))\n",
    "print(\"Gaussian NB F1 score: %0.2f (+/- %0.2f)\" % (gnb_f1.mean(), gnb_f1.std() * 2))\n",
    "print(\"Gaussian NB Recall: %0.2f (+/- %0.2f)\" % (gnb_recall.mean(), gnb_recall.std() * 2))"
   ]
  },
  {
   "cell_type": "code",
   "execution_count": 38,
   "id": "b52207b5-8443-4f77-babb-c513409e9e80",
   "metadata": {},
   "outputs": [
    {
     "data": {
      "text/plain": [
       "<AxesSubplot: xlabel='word_freq_make', ylabel='Count'>"
      ]
     },
     "execution_count": 38,
     "metadata": {},
     "output_type": "execute_result"
    },
    {
     "data": {
      "image/png": "[encoded data removed]",
      "text/plain": [
       "<Figure size 640x480 with 1 Axes>"
      ]
     },
     "metadata": {},
     "output_type": "display_data"
    }
   ],
   "source": [
    "import seaborn as sns\n",
    "sns.histplot(x['word_freq_make'],kde=True)"
   ]
  },
  {
   "cell_type": "code",
   "execution_count": null,
   "id": "4c26fc50-9816-4130-aba6-5416277cfb96",
   "metadata": {},
   "outputs": [],
   "source": [
    "Bernoulli Naive Bayes performed the best and gave maximum accuracy. \n",
    "The input data in the dataset are binary or boolean indicating presence or absence of a word or attribute. \n",
    "This aligns well with feature assumptions of Bernoulli. \n",
    "Multinomial may not be as effective here as the word counts are already converted to binary values.\n",
    "Gaussian NB doesn't fit here as the data points are right skewed\n",
    "\n",
    "The limitations of Bernoulli distributions are:\n",
    "The assumptions of independent features is often unrealistic for real data. Features may be correlated.\n",
    "Naive Bayes can struggle with redundant and uninformative features. \n",
    "Models are sensitive to skewed data and class imbalance can impact results."
   ]
  }
 ],
 "metadata": {
  "kernelspec": {
   "display_name": "Python 3 (ipykernel)",
   "language": "python",
   "name": "python3"
  },
  "language_info": {
   "codemirror_mode": {
    "name": "ipython",
    "version": 3
   },
   "file_extension": ".py",
   "mimetype": "text/x-python",
   "name": "python",
   "nbconvert_exporter": "python",
   "pygments_lexer": "ipython3",
   "version": "3.10.8"
  }
 },
 "nbformat": 4,
 "nbformat_minor": 5
}
