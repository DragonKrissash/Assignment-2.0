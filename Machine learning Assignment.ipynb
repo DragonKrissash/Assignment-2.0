{
 "cells": [
  {
   "cell_type": "code",
   "execution_count": null,
   "id": "0a9b335b-656e-4206-abc6-77bcd32674c5",
   "metadata": {},
   "outputs": [],
   "source": [
    "Q1. Explain the following with an example.\n",
    "1) Artificial Intelligence\n",
    "2) Machine Learning\n",
    "3) Deep Learning"
   ]
  },
  {
   "cell_type": "code",
   "execution_count": null,
   "id": "bc2fcd48-7c3c-437a-8a6b-1a73c8a4887d",
   "metadata": {},
   "outputs": [],
   "source": [
    "A1. Artificial intelligence - Artificial intelligence is a broad field of computer science that focuses on \n",
    "    creating machines or systems, that can perform tasks which require human intelligence. AI aims to mimic\n",
    "    human like problem solving, learning, decision making, language understanding.\n",
    "    Eg; A chatbot is an AI which uses NLP (Natural Language Processing) and machine learning algorithms to \n",
    "    interact with users in a human like manner. It can answer questions, provide customer support and engage\n",
    "    in conversations.\n",
    "    \n",
    "    Machine Learning - Machine learning is a subset of AI that involves developing algorithms and statistical\n",
    "    models that enable computers to learn and improve their performance on a specific task without being \n",
    "    programmed. It focuses on allowing machines to recognize patterns in data and make predictions or \n",
    "    decisions based on those patterns.\n",
    "    EG: Email spam filters are popular application of machine learning. When you mark emails as spam or not\n",
    "    spam, the email system uses this feedback to learn patterns and characteristics of spam emails.\n",
    "    \n",
    "    Deep learning - It is a subfield of machine learning that uses artificial neural networks to process and\n",
    "    learn from large amount of data. These neural networks are composed of multiple layers, allowing model \n",
    "    to automatically learn hierarchial representations of the data and make complex decisions.\n",
    "    Eg: Image recognition is a common application of deep learning. If a deep learning model is trained to \n",
    "    identify different types of animals by feeding it a large dataset of labeled animals, the model will learn\n",
    "    to identify specific features in each image and develop ability to classify new, unseen images of animals \n",
    "    with high accuracy."
   ]
  },
  {
   "cell_type": "code",
   "execution_count": null,
   "id": "91c4f504-4a69-483d-8d97-806a378bcfc9",
   "metadata": {},
   "outputs": [],
   "source": [
    "Q2. What is supervised learning? List some examples of supervised learning."
   ]
  },
  {
   "cell_type": "code",
   "execution_count": null,
   "id": "e33d5b38-ca05-43fd-aebd-c37e9166e13c",
   "metadata": {},
   "outputs": [],
   "source": [
    "A2. Supervised learning is a type of machine learning where the algorithm is trained on labeled dataset. In \n",
    "    this approach the input data and the corresponding correct outputs are provided to the algorithm during\n",
    "    training. Algorithm learns from labeled examples and tries to map the input data to the correct output, \n",
    "    making predictions on new, unseen data based on its learned knowledge.\n",
    "    Eg: If a labeled dataset of images of animals is given to train an algorithm, it learns to identify the \n",
    "    animals and if new, unseen images of animals are shown to the algorithm then it identifies using it's \n",
    "    known knowledge."
   ]
  },
  {
   "cell_type": "code",
   "execution_count": null,
   "id": "04c3f79c-a982-46be-aad5-e06aa75dae9e",
   "metadata": {},
   "outputs": [],
   "source": [
    "Q3. What is unsupervised learning? List some examples of unsupervised learning."
   ]
  },
  {
   "cell_type": "code",
   "execution_count": null,
   "id": "f987e89a-064b-4fdf-8cbf-59f2642770cb",
   "metadata": {},
   "outputs": [],
   "source": [
    "A3. Unsupervised data is a type of machine learning where the algorithm is trained on an unlabeled data. \n",
    "    Unlike supervised learning, there are no corresponding outputs provided during training. Instead the \n",
    "    algorithm tries to identify patterns, relationships, and structures within data on its own.\n",
    "    In unsupervised learning, the goal is to find meaningful representations or clusters in the data without\n",
    "    specific guidance, allowing the algorithm to explore the underlying structure of the dataset without \n",
    "    human intervention.\n",
    "    Eg: Clustering - The algorithm groups similar data points together based on their features. It tries to\n",
    "    identify natural clusters or segments within the data.\n",
    "    Anomaly detection - Unsupervised learning can be used to detect rare or abnormal data points that differ\n",
    "    from rest of the data."
   ]
  },
  {
   "cell_type": "code",
   "execution_count": null,
   "id": "a11cafcb-7f19-48bc-b5e1-8a6cde8fdf09",
   "metadata": {},
   "outputs": [],
   "source": [
    "Q4. What is the difference between AI, ML, DL, and DS?"
   ]
  },
  {
   "cell_type": "code",
   "execution_count": null,
   "id": "ca76d414-3097-4d1a-ba0b-b5f186018aea",
   "metadata": {},
   "outputs": [],
   "source": [
    "A4. AI is the final product or machine which has human like intelligence and is capable of making decisions, \n",
    "    language analysis, pattern recognition etc. ML is a part of AI which provides algorithms and statistical\n",
    "    data models that enables computers to learn and improve on a specific task without programming. DL is \n",
    "    sub part of ML which uses artificial neural networks to process and learn from large amount of data. \n",
    "    DS or Data Science consists of all the three and data scientist needs to work using them to solve a problem."
   ]
  },
  {
   "cell_type": "code",
   "execution_count": null,
   "id": "0d344c86-a4c8-40f6-988f-8f466c957cb2",
   "metadata": {},
   "outputs": [],
   "source": [
    "Q5. What are the main differences between supervised, unsupervised, and semi-supervised learning?"
   ]
  },
  {
   "cell_type": "code",
   "execution_count": null,
   "id": "1aad1248-8fc7-4b59-acd8-0476f6717f89",
   "metadata": {},
   "outputs": [],
   "source": [
    "A5. In supervised learning the algorithm is trained on labeled dataset where each data point has corresponding\n",
    "    correct output or target label.\n",
    "    The main goal is to learn a mapping between input features and their corresponding output labels, enabling \n",
    "    the algorithms to make predictions on new, unseen data.\n",
    "    \n",
    "    In un-supervised learning, the algorithm is trained on unlabeled dataset, where there are no corresponding \n",
    "    correct labels provided suring training.\n",
    "    The main goal is to identify patterns, structures, or meaningful representations, within the data without \n",
    "    specific guidance. The algorithm tries to uncover hidden relationships or clusters in the data.\n",
    "    \n",
    "    In semi-supervised learning, the algorithm is trained on combination of labeled and unlabeled dataset. The\n",
    "    labeled data provides some guidance but most of the data remains unlabeled.\n",
    "    The main goal is to use both labeled and unlabeled data to improve the learning process. The algorithm may\n",
    "    try to use the labeled data to guide its exploration of unlabeled data."
   ]
  },
  {
   "cell_type": "code",
   "execution_count": null,
   "id": "35650407-9bfc-4aaf-b8cb-53190d8106c2",
   "metadata": {},
   "outputs": [],
   "source": [
    "Q6. What is train, test and validation split? Explain the importance of each term."
   ]
  },
  {
   "cell_type": "code",
   "execution_count": null,
   "id": "6386d0a3-1a03-486c-aac7-76bd04864dec",
   "metadata": {},
   "outputs": [],
   "source": [
    "A6. The dataset is divided into 3 sets, train, validation and test subsets. Each subset serves a specific \n",
    "    purpose in the model development process, and the proper split is crucial for building effective and \n",
    "    generalizable machine learning models.\n",
    "    \n",
    "    Train set - A well sized training set is crucial for the model to learn complex patterns and avoid \n",
    "    overfitting (memorizing the data instead of generalizing). It ensures that the model gains a good \n",
    "    understanding of underlying data distribution, enabling it to make accurate predictions on future data.\n",
    "    \n",
    "    Validation set - By evaluating the model on validation set, researchers and developers can make informed \n",
    "    decisions about adjusting hyper parameters, choosing the best model or even rethinking the model's \n",
    "    architecture to improve generalization performance. It helps avoid \"data leakage\" by not using the test \n",
    "    set for tuning, which could lead to overly optimistic evaluation results.\n",
    "    \n",
    "    Test set - The test set helps measure the model's performance on unseen data, providing an estimate of \n",
    "    how well the model will perform in real world scenario. Evaluating the model on a seperate test set helps\n",
    "    identify if the model is overfitting to the training data and provides insights into its overall effectiveness."
   ]
  },
  {
   "cell_type": "code",
   "execution_count": null,
   "id": "551d27c1-d455-4aad-994e-a3cbff159242",
   "metadata": {},
   "outputs": [],
   "source": [
    "Q7. How can unsupervised learning be used in anomaly detection?"
   ]
  },
  {
   "cell_type": "code",
   "execution_count": null,
   "id": "a0c0a553-3668-4835-955f-fda959d5e6a0",
   "metadata": {},
   "outputs": [],
   "source": [
    "A7. Unsupervised learning helps in discovering patterns and structures within the data without the need for \n",
    "    labeled examples of anomalies. Anomalies are data points that deviate significantly from the majority of\n",
    "    the data and are typically rare occurances.\n",
    "    In unsupervised learning, clustering algorithms can group similar data points together based on their \n",
    "    features. Anomalies are often considered as data points that do not belong to any well defined cluster.\n",
    "    By clustering techniques like k-means, DBSCAN or Gaussian mixture model anomalies can be identified as points\n",
    "    that have a low probability of belonging to any cluster or distant from all clusters."
   ]
  },
  {
   "cell_type": "code",
   "execution_count": null,
   "id": "658c07d8-3163-4b01-b28b-b2a4b9ed5e06",
   "metadata": {},
   "outputs": [],
   "source": [
    "Q8. List down some commonly used supervised learning algorithms and unsupervised learning algorithms."
   ]
  },
  {
   "cell_type": "code",
   "execution_count": null,
   "id": "13b6db0d-c75c-46ec-ab04-5bb1911e52bf",
   "metadata": {},
   "outputs": [],
   "source": [
    "A8. Supervised learning:\n",
    "    Linear regression - A regression algorithm used to model relationship between dependent and independent\n",
    "    variables, assuming a linear relationship.\n",
    "    Logistic regression - A classification algorithm used to predict binary outcomes or probabilities of \n",
    "    categorical classes.\n",
    "    \n",
    "    Unsupervised learning:\n",
    "    k-means clustering - A partitioning algorithm that groups data points into k clusters based on thier similarity.\n",
    "    Hierarchial clustering - A clustering algorithm that builds a tree like hierachy of clusters by merging or \n",
    "    splitting them based on their similarity."
   ]
  }
 ],
 "metadata": {
  "kernelspec": {
   "display_name": "Python 3 (ipykernel)",
   "language": "python",
   "name": "python3"
  },
  "language_info": {
   "codemirror_mode": {
    "name": "ipython",
    "version": 3
   },
   "file_extension": ".py",
   "mimetype": "text/x-python",
   "name": "python",
   "nbconvert_exporter": "python",
   "pygments_lexer": "ipython3",
   "version": "3.10.8"
  }
 },
 "nbformat": 4,
 "nbformat_minor": 5
}
