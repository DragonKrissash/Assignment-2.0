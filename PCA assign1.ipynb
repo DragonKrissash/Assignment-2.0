{
 "cells": [
  {
   "cell_type": "code",
   "execution_count": null,
   "id": "731537c8-f74e-4031-8b21-15e8330a65a0",
   "metadata": {},
   "outputs": [],
   "source": [
    "Q1. What is the curse of dimensionality reduction and why is it important in machine learning?"
   ]
  },
  {
   "cell_type": "code",
   "execution_count": null,
   "id": "385cb7d8-d5a2-4515-915b-00f824604911",
   "metadata": {},
   "outputs": [],
   "source": [
    "A1. The curse of dimensionality refers to problems that arise when working with high dimensional data in \n",
    "    machine learning and statistics. As the number of dimensions or features increase, the volume of space \n",
    "    increases rapidly, making the available data sparse. This makes the model more complex and requires more \n",
    "    data to prevent overfitting.\n",
    "    \n",
    "    The dimensionality reduction is important as it reduces complexity of models and reduces overfitting.\n",
    "    Mitigates the impact of the curse of dimensionality.\n",
    "    Improves computational efficiency and model interpretability."
   ]
  },
  {
   "cell_type": "code",
   "execution_count": null,
   "id": "d3c897aa-e1b5-48b7-8893-8069be469e79",
   "metadata": {},
   "outputs": [],
   "source": [
    "Q2. How does the curse of dimensionality impact the performance of machine learning algorithms?"
   ]
  },
  {
   "cell_type": "code",
   "execution_count": null,
   "id": "c9207faa-ae56-432a-871e-0a898add224d",
   "metadata": {},
   "outputs": [],
   "source": [
    "A2. It increases the risk of overfitting as more complex models are needed to fit high dimensional data.\n",
    "    It makes algorithm inefficient as manipulating and analyzing data in high dimensions requires more memory\n",
    "    and computational power. \n",
    "    It dilutes the signal in the data, as each feature contains less information. This makes it harder for \n",
    "    models to learn the relevant pattern. "
   ]
  },
  {
   "cell_type": "code",
   "execution_count": null,
   "id": "7c6522db-ccd8-4001-9c59-f862b52812ac",
   "metadata": {},
   "outputs": [],
   "source": [
    "Q3. What are some of the consequences of the curse of dimensionality in machine learning, and how do\n",
    "they impact model performance?"
   ]
  },
  {
   "cell_type": "code",
   "execution_count": null,
   "id": "62509cfb-3cdc-45dc-968d-1855741b382e",
   "metadata": {},
   "outputs": [],
   "source": [
    "A3. With more dimensions, the data becomes increasingly sparse. Models need more data points to properly learn\n",
    "    patterns and avoid overfitting.\n",
    "    More dimensions mean more potential irrelavant or redundant features.\n",
    "    Euclidean distance become less meaningful in high dimensions.\n",
    "    Analyzing and manipulating high dimensional data is more computationally intensive. "
   ]
  },
  {
   "cell_type": "code",
   "execution_count": null,
   "id": "0da9f71d-b99c-40e5-b0be-b8ba54ce18ff",
   "metadata": {},
   "outputs": [],
   "source": [
    "Q4. Can you explain the concept of feature selection and how it can help with dimensionality reduction?"
   ]
  },
  {
   "cell_type": "code",
   "execution_count": null,
   "id": "04f3d0d1-0c7c-491b-91cc-bbfcd782adc7",
   "metadata": {},
   "outputs": [],
   "source": [
    "A4. Feature selection is the process of selecting a subset of relevant features from the original feature set\n",
    "    to use for model training. It helps reduce dimensionality by removing irrelevant, redundant or uninformative\n",
    "    features.\n",
    "    Feature selection works by searching through different combinations of features, training a model on those \n",
    "    and comparing the model performance. The idea is to find the smallest subset of features that still retains \n",
    "    most of model accuracy.\n",
    "    \n",
    "    Benefits are:\n",
    "        Reduces overfitting.\n",
    "        Improves accuracy.\n",
    "        Reduces training time.\n",
    "        Enhances interpretability.\n",
    "        Simplifies models."
   ]
  },
  {
   "cell_type": "code",
   "execution_count": null,
   "id": "825d8036-346b-4cf3-9445-f90c3a760364",
   "metadata": {},
   "outputs": [],
   "source": [
    "Q5. What are some limitations and drawbacks of using dimensionality reduction techniques in machine\n",
    "learning?"
   ]
  },
  {
   "cell_type": "code",
   "execution_count": null,
   "id": "95945aa6-4390-4b19-b26e-0c97dbe78a3c",
   "metadata": {},
   "outputs": [],
   "source": [
    "A5. The limitations are - \n",
    "    Information loss - Reducing dimensions inevitably loses some information, even if redundant or irrelevant.\n",
    "    Over simplification - Too aggressive reduction can oversimplify the data and remove important nuances.\n",
    "    Higher error - Projecting data into lower dimensions can introduce errors and distortions.\n",
    "    Data specific - Many techniques like PCA identify best dimensions on current dataset which may not \n",
    "    generalize to new unseen data."
   ]
  },
  {
   "cell_type": "code",
   "execution_count": null,
   "id": "786cb085-d1b2-4fd4-98b0-b2289468ff05",
   "metadata": {},
   "outputs": [],
   "source": [
    "Q6. How does the curse of dimensionality relate to overfitting and underfitting in machine learning?"
   ]
  },
  {
   "cell_type": "code",
   "execution_count": null,
   "id": "8e68ee88-f3e3-46fa-b005-9b94d9271765",
   "metadata": {},
   "outputs": [],
   "source": [
    "A6. Overfitting - More dimensions means more model complexity is needed to fit the data well. This increases \n",
    "    the risk of overfitting.\n",
    "    With more features, it is increasingly likely that spurious correlations will occur just by chance. Models\n",
    "    latch on these accidental correlations and overfit. \n",
    "    The exponential growth of feature interactions makes it impossible to model them all. \n",
    "    \n",
    "    Underfitting - Important features and patterns become diluted in high dimensions. Models fail to capture\n",
    "    enough signal to fit well. \n",
    "    Distance metrics used internally in many algorithms become less effective in high dimensions. \n",
    "    The curse of dimensionality makes collecting balanced, representative data very challenging. "
   ]
  },
  {
   "cell_type": "code",
   "execution_count": null,
   "id": "1bb60d18-4338-40d6-b83d-cc5ad31c239a",
   "metadata": {},
   "outputs": [],
   "source": [
    "Q7. How can one determine the optimal number of dimensions to reduce data to when using\n",
    "dimensionality reduction techniques?"
   ]
  },
  {
   "cell_type": "code",
   "execution_count": null,
   "id": "2d1e6971-ecb0-415d-983d-7f807fbba8b5",
   "metadata": {},
   "outputs": [],
   "source": [
    "A7. Percentage of variance explained - For PCA, choose the number of components that explain a high \n",
    "    percentage (eg 90%) of the total variance.\n",
    "    Elbow method - Look at the graph of explained variance vs number of dimensions. The \"elbow\" where curve \n",
    "    flattens is the optimal dimension.\n",
    "    Incremental training - Progressively reduce dimensions and evaluate model performance. Choose target \n",
    "    dimensions where performance stops improving.\n",
    "    Domain knowledge - Leverage understanding of the data to determine relevant dimensions to retain based \n",
    "    on what's needed for the problem."
   ]
  }
 ],
 "metadata": {
  "kernelspec": {
   "display_name": "Python 3 (ipykernel)",
   "language": "python",
   "name": "python3"
  },
  "language_info": {
   "codemirror_mode": {
    "name": "ipython",
    "version": 3
   },
   "file_extension": ".py",
   "mimetype": "text/x-python",
   "name": "python",
   "nbconvert_exporter": "python",
   "pygments_lexer": "ipython3",
   "version": "3.10.8"
  }
 },
 "nbformat": 4,
 "nbformat_minor": 5
}
