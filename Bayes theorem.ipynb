{
 "cells": [
  {
   "cell_type": "code",
   "execution_count": null,
   "id": "0dca2c08-ae1b-4206-9eae-e4762772ad44",
   "metadata": {},
   "outputs": [],
   "source": [
    "Q1. What is Bayes' theorem?"
   ]
  },
  {
   "cell_type": "code",
   "execution_count": null,
   "id": "b3561610-6973-487f-9b94-e50d632e2eac",
   "metadata": {},
   "outputs": [],
   "source": [
    "A1. Baye's theorem is a formula for calculating conditional probabilities. It states:\n",
    "    P(A|B) = P(B|A) * P(A) / P(B)\n",
    "    \n",
    "    P(A|B) is the conditional probability of event A occuring given that event B has occured. \n",
    "    P(B|A) is the conditional probability of event B occuring given that event A has occured. \n",
    "    P(A) is the marginal probability of A occuring regardless of B. \n",
    "    P(B) is the marginal probability of B occuring regardless of A.\n",
    "    \n",
    "    Baye's theorem allows us to calculate the probability of A happening given B is true, based on individual\n",
    "    probabilities of A and B."
   ]
  },
  {
   "cell_type": "code",
   "execution_count": null,
   "id": "2b1ef35b-8223-4564-add6-b62deefcda7e",
   "metadata": {},
   "outputs": [],
   "source": [
    "Q2. What is the formula for Bayes' theorem?"
   ]
  },
  {
   "cell_type": "code",
   "execution_count": null,
   "id": "eeadadd0-cd84-42f1-8a60-675dac5ea8d6",
   "metadata": {},
   "outputs": [],
   "source": [
    "A2. The formula for Baye's theorem is:\n",
    "    P(A|B) = P(B|A) * P(A) / P(B)\n",
    "    \n",
    "    P(A|B) is the conditional probability of event A occuring given that event B has occured. \n",
    "    P(B|A) is the conditional probability of event B occuring given that event A has occured. \n",
    "    P(A) is the marginal probability of A occuring regardless of B. \n",
    "    P(B) is the marginal probability of B occuring regardless of A."
   ]
  },
  {
   "cell_type": "code",
   "execution_count": null,
   "id": "5df6824f-1b55-44e7-9f6a-997f0b5048eb",
   "metadata": {},
   "outputs": [],
   "source": [
    "Q3. How is Bayes' theorem used in practice?"
   ]
  },
  {
   "cell_type": "code",
   "execution_count": null,
   "id": "81d045a0-ea88-49a7-a87d-4305ca827d53",
   "metadata": {},
   "outputs": [],
   "source": [
    "A3. Bayes' theorem is used in the following practices:\n",
    "    Diagnostic testing - Bayes theorem is used to calculate the probability of someone having a disease based\n",
    "    on result of diagnostic test. It takes into account the accuracy of the test and the existing probability\n",
    "    of the disease in the population. \n",
    "    \n",
    "    Classification systems - Bayes theorem is used in statistical classifiers and machine learning algorithms \n",
    "    like naive bayes classifiers. These systems assign new data points to different classes or categories. \n",
    "    Bayes helps determine the likelihood an item belongs to certain class based on given evidence.\n",
    "    \n",
    "    Spam filtering - Bayes theorem is used by spam filters to classify emails as spam or not spam. It calculates\n",
    "    the probability an email is spam based on its contents compared to a training dataset of spam and not spam \n",
    "    emails."
   ]
  },
  {
   "cell_type": "code",
   "execution_count": null,
   "id": "31a8643a-de70-4f9c-b554-3a22a8514b3e",
   "metadata": {},
   "outputs": [],
   "source": [
    "Q4. What is the relationship between Bayes' theorem and conditional probability?"
   ]
  },
  {
   "cell_type": "code",
   "execution_count": null,
   "id": "af306059-84b4-498a-bc2f-22759fe053e5",
   "metadata": {},
   "outputs": [],
   "source": [
    "A4. Bayes theorem is used to calculate the conditional probability of an event A given event B, written P(A|B). \n",
    "    It finds this probability based on the known conditional probability. It lets you calculate P(A|B) when \n",
    "    you know P(B|A).\n",
    "    Conditional probability is an essential component of Bayes theorem. The theorem rearranges conditional\n",
    "    probability to find P(A|B). "
   ]
  },
  {
   "cell_type": "code",
   "execution_count": null,
   "id": "dd83e8b9-a527-4023-889f-122f273f4bae",
   "metadata": {},
   "outputs": [],
   "source": [
    "Q5. How do you choose which type of Naive Bayes classifier to use for any given problem?"
   ]
  },
  {
   "cell_type": "code",
   "execution_count": null,
   "id": "38287b87-98f6-4370-8284-712291b0cc51",
   "metadata": {},
   "outputs": [],
   "source": [
    "A5. We choose Bernoulli Bayes when the features are binary or boolean in nature. \n",
    "    Multinomial Naive Bayes worls better for discrete counts, such as word frequencies in a document or \n",
    "    categorical data.\n",
    "    Gaussian Naive Bayes is used when the data is continuous and properly fits gaussian distribution. \n",
    "    In general, we use Bernoulli when the data is binary, multinomial when the data is categorical and \n",
    "    gaussian when the data is continuous and follow normal distribution."
   ]
  },
  {
   "cell_type": "code",
   "execution_count": null,
   "id": "4f3ba5d9-cf8c-4318-8dde-236a58890d03",
   "metadata": {},
   "outputs": [],
   "source": [
    "Q6. You have a dataset with two features, X1 and X2, and two possible classes, A and B. You want to use Naive\n",
    "Bayes to classify a new instance with features X1 = 3 and X2 = 4. The following table shows the frequency of\n",
    "each feature value for each class:\n",
    "Class X1=1 X1=2 X1=3 X2=1 X2=2 X2=3 X2=4\n",
    "  A    3    3    4    4    3    3    3\n",
    "  B    2    2    1    2    2    2    3\n",
    "Assuming equal prior probabilities for each class, which class would Naive Bayes predict the new instance\n",
    "to belong to?"
   ]
  },
  {
   "cell_type": "code",
   "execution_count": null,
   "id": "50cc1330-6d73-4cd3-8c2e-045767c34e7d",
   "metadata": {},
   "outputs": [],
   "source": [
    "A6. Assuming equal prior probabilities;\n",
    "    P(X1=3|A) = 4/10 = 0.4\n",
    "    P(X2=4|A) = 3/13 = 0.23\n",
    "    P(X|A) = P(X1|A) * P(X2|A) = 0.4 * 0.23 = 0.092\n",
    "    \n",
    "    P(X1=3|B) = 1/5 = 0.2\n",
    "    P(X2=4|B) = 3/9 = 0.33\n",
    "    P(X|B) = P(X1|B) * P(X2|B) = 0.2 * 0.33 = 0.066\n",
    "    \n",
    "    Since P(X|B) < P(X|A) the new instance would belong to class B."
   ]
  }
 ],
 "metadata": {
  "kernelspec": {
   "display_name": "Python 3 (ipykernel)",
   "language": "python",
   "name": "python3"
  },
  "language_info": {
   "codemirror_mode": {
    "name": "ipython",
    "version": 3
   },
   "file_extension": ".py",
   "mimetype": "text/x-python",
   "name": "python",
   "nbconvert_exporter": "python",
   "pygments_lexer": "ipython3",
   "version": "3.10.8"
  }
 },
 "nbformat": 4,
 "nbformat_minor": 5
}
