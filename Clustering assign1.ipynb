{
 "cells": [
  {
   "cell_type": "code",
   "execution_count": null,
   "id": "de64a546-164a-4b4e-8086-da72ad5306dd",
   "metadata": {},
   "outputs": [],
   "source": [
    "Q1. What are the different types of clustering algorithms, and how do they differ in terms of their approach\n",
    "and underlying assumptions?"
   ]
  },
  {
   "cell_type": "code",
   "execution_count": null,
   "id": "d5f66e5b-3172-4c6a-b26f-f951e9eb14bc",
   "metadata": {},
   "outputs": [],
   "source": [
    "A1. There are various types of clustering algorithms and they are:\n",
    "    K-means clustering - It aims to partition data into k clusters where each data point belongs to the cluster\n",
    "    with the nearest mean. It requires specifying the number of clusters upfront and randomly initializes the \n",
    "    cluster centroids. The algorithm iterates between assigning points to their closest cluster and recalculating \n",
    "    the centroids until convergence. K means makes assumptions that clusters are convex and spherical.\n",
    "    \n",
    "    Hierarchial clustering - It builds hierarchy of clusters by either merging smaller clusters into bigger ones\n",
    "    (agglomerative) or dividing bigger clusters into smaller ones (divisive clustering). The hierarchy is represented\n",
    "    as a tree diagram called as dendogram. Hierarchial clustering require measuring the distance between data\n",
    "    points and doesn't require specifying the number of clusters upfront.\n",
    "    \n",
    "    Density based clustering - DBSCAN groups together dense region of points that are seperated by low density \n",
    "    region. Density based methods don't require specifying the number of clusters upfront. They make assumptions\n",
    "    about cluster density. "
   ]
  },
  {
   "cell_type": "code",
   "execution_count": null,
   "id": "0ee9b97b-f126-4928-ae64-a0838e890988",
   "metadata": {},
   "outputs": [],
   "source": [
    "Q2. What is K-means clustering, and how does it work?"
   ]
  },
  {
   "cell_type": "code",
   "execution_count": null,
   "id": "9c89fec2-2936-4cb0-88db-c68958282c58",
   "metadata": {},
   "outputs": [],
   "source": [
    "A2. The K means clustering is an un supervised machine learning algorithm that aims to partition observations\n",
    "    in a dataset into k clusters. The steps are:\n",
    "        1) Specify number of K clusters upfront\n",
    "        2) Initialize the K cluster centroids randomly in feature space. Centroids are the means of clusters.\n",
    "        3) Assign each data point to the nearest cluster centroid based on euclidean distance. \n",
    "        4) Recompute the cluster centroids by taking the mean of all data points assigned to that cluster.\n",
    "        5) Repeat the 3 - 4 steps until the cluster assignments stop changing or the maximum number of \n",
    "           iterations is reached.\n",
    "            \n",
    "        The k means algorithm attempts to find groups of similar data points by minimizing the total intra\n",
    "        cluster variance or the squared distance between points and the cluster centroid. The total variance\n",
    "        is computed as the sum of variance of each cluster."
   ]
  },
  {
   "cell_type": "code",
   "execution_count": null,
   "id": "142d9e90-6b7a-45c3-bcde-9d5558b12ccb",
   "metadata": {},
   "outputs": [],
   "source": [
    "Q3. What are some advantages and limitations of K-means clustering compared to other clustering\n",
    "techniques?"
   ]
  },
  {
   "cell_type": "code",
   "execution_count": null,
   "id": "65bf3711-7eed-44b5-98c2-3f20460013cd",
   "metadata": {},
   "outputs": [],
   "source": [
    "A3. Advantages - Simple and easy to implement as the algorithm is straightforward.\n",
    "    It is efficient for large datasets as the computational complexity O(nkt) where n is number of samples,\n",
    "    k is number of clusters and t is number of iterations, scales well to large datasets.\n",
    "    Often produces good results in practice and the resulting clusters capture similarities between data points.\n",
    "    \n",
    "    Limitations - Requires specifying the number of k clusters upfront which may be not known.\n",
    "    Sensitive to initialization of centroids as different initializations can lead to different final clustering.\n",
    "    Tends to find spherical and compact clusters and doesn't perform well for non - convex clusters."
   ]
  },
  {
   "cell_type": "code",
   "execution_count": null,
   "id": "3f490ffe-ea4f-4ec0-ace5-77369d3a9247",
   "metadata": {},
   "outputs": [],
   "source": [
    "Q4. How do you determine the optimal number of clusters in K-means clustering, and what are some\n",
    "common methods for doing so?"
   ]
  },
  {
   "cell_type": "code",
   "execution_count": null,
   "id": "23643166-fb86-4f0d-a9f5-24069b8406e8",
   "metadata": {},
   "outputs": [],
   "source": [
    "A4. Determining the number of clusters in K means is challenging. Some common methods are:\n",
    "    Elbow method - Compute K means with different K values and plot the total intra - cluster variance. The\n",
    "    elbow in the curve is considered the best k.\n",
    "    \n",
    "    Silhoutte analysis - Measure how well samples match their assigned cluster vs other cluster. Choose k with \n",
    "    highest average silhoutte score.\n",
    "    \n",
    "    Gap statistic - Compare intra cluster dispersion to a null reference distribution. Choose the smallest k with\n",
    "    gap statistic similar to reference.\n",
    "    \n",
    "    Cross validation - Split data into train / test set, run k means with different k on train, evaluate \n",
    "    clustering performance on test set. Choose k with best performance."
   ]
  },
  {
   "cell_type": "code",
   "execution_count": null,
   "id": "d9237571-d1ba-4c1e-bda7-6d26dbffd381",
   "metadata": {},
   "outputs": [],
   "source": [
    "Q5. What are some applications of K-means clustering in real-world scenarios, and how has it been used\n",
    "to solve specific problems?"
   ]
  },
  {
   "cell_type": "code",
   "execution_count": null,
   "id": "dbcb196e-94a8-4ee7-a071-f59697df344f",
   "metadata": {},
   "outputs": [],
   "source": [
    "A5. Customer segmentation - Cluster customers based on attributes like demographics and purchasing behaviour\n",
    "    to identify distinct segments for targeted marketing.\n",
    "    Recommendation systems - CLusters users by interest and preferences to make recommendation on movies,\n",
    "    music, products etc.\n",
    "    Image segmentation - Cluster pixels in images based on colour and intensity to segment images into \n",
    "    distinct region. Used in image compression and computer vision."
   ]
  },
  {
   "cell_type": "code",
   "execution_count": null,
   "id": "f504a1af-2d7d-4710-971a-7a160d89b012",
   "metadata": {},
   "outputs": [],
   "source": [
    "Q6. How do you interpret the output of a K-means clustering algorithm, and what insights can you derive\n",
    "from the resulting clusters?"
   ]
  },
  {
   "cell_type": "code",
   "execution_count": null,
   "id": "d4e3b4a4-84c1-4318-9800-cc0a4844f244",
   "metadata": {},
   "outputs": [],
   "source": [
    "A6. The goal is to translate the mathematical cluster assignments into tangible real world meaning about\n",
    "    patterns, relationships and types of observations in the data. This allows deriving actionable insights \n",
    "    from the unsupervised learning. \n",
    "    \n",
    "    Cluster centroids - The centroid of each cluster represents the center point of that cluster. Analyzing \n",
    "    the centroid values along each feature dimension gives an idea of common characteristics of points in that\n",
    "    cluster.\n",
    "    \n",
    "    CLuster composition - Looking at the data points assigned to each cluster reveals what kinds of observations\n",
    "    belong to it. Comparing the composition across clusters shows how the algorithm differentiates between groups.\n",
    "    \n",
    "    Distance from the centroid - Data points further away from their assigned centroids are likely outliers or\n",
    "    atypical examples. Minimal distances indicate points strongly belonging to that cluster."
   ]
  },
  {
   "cell_type": "code",
   "execution_count": null,
   "id": "4e62815d-e95e-46c1-be87-51b00325a819",
   "metadata": {},
   "outputs": [],
   "source": [
    "Q7. What are some common challenges in implementing K-means clustering, and how can you address\n",
    "them?"
   ]
  },
  {
   "cell_type": "code",
   "execution_count": null,
   "id": "63f4401f-0923-42ad-b67f-0aff251c355a",
   "metadata": {},
   "outputs": [],
   "source": [
    "A7. Some common challenges are:\n",
    "    Determining k - Picking the right k is tricky and we need to use a lot of different methods.\n",
    "    Initialization - Different initial centroid positions lead to different results. Can initialize randomly\n",
    "    many times and pick best solution. \n",
    "    Convergence - Algorithm can get stuck in local optima. Use more iterations and different initializations \n",
    "    to help avoid this.\n",
    "    Outliers - Outliers can skew centroids and cluster assignments. Removal of outliers as preprocessing can help."
   ]
  }
 ],
 "metadata": {
  "kernelspec": {
   "display_name": "Python 3 (ipykernel)",
   "language": "python",
   "name": "python3"
  },
  "language_info": {
   "codemirror_mode": {
    "name": "ipython",
    "version": 3
   },
   "file_extension": ".py",
   "mimetype": "text/x-python",
   "name": "python",
   "nbconvert_exporter": "python",
   "pygments_lexer": "ipython3",
   "version": "3.10.8"
  }
 },
 "nbformat": 4,
 "nbformat_minor": 5
}
