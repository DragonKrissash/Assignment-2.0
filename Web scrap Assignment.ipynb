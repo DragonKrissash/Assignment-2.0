{
 "cells": [
  {
   "cell_type": "code",
   "execution_count": null,
   "id": "5a30409d-62f9-432d-a75f-020ddab539ee",
   "metadata": {},
   "outputs": [],
   "source": [
    "Q1. What is Web Scraping? Why is it Used? Give three areas where Web Scraping is used to get data.\n",
    "A1. Web scraping is automated process of extracting data from website. It involves usage of softwares or\n",
    "    scripts and crwal through web pages, download html content and extract specific information from them.\n",
    "    Web scraping allows us to gather data from multiple sources and store them in structure format for \n",
    "    further analysis or use.\n",
    "    Web scrapping is widele used in:\n",
    "        E-Commerce price comparison and customer reviews\n",
    "        Market research and business intelligence\n",
    "        Data aggregation and content monitoring"
   ]
  },
  {
   "cell_type": "code",
   "execution_count": null,
   "id": "00569935-e8df-4638-8345-69a5ee5eb366",
   "metadata": {},
   "outputs": [],
   "source": [
    "Q2. What are the different methods used for Web Scraping?\n",
    "A2. 1) Manual copy pasting method is directly a user copying the data from website and pasting it in text \n",
    "       files or databases. It is time consuming and not suitable for large-scale web scraping.\n",
    "    2) Regular expressions (Regex) is used to identify and extract specific patterns or content from HTML\n",
    "       source code. \n",
    "    3) HTML parsing libraries like BeautifulSoup and JSoup simplify the process of navigating and extracting \n",
    "       data from websites. They allow us to navigate the elements based on their tags, attributes and classes.\n",
    "    4) Web scraping frameworks like Scrapy (python) and Playwright (Javascript) provide tools for automating \n",
    "       web scraping tasks."
   ]
  },
  {
   "cell_type": "code",
   "execution_count": null,
   "id": "73c03779-8f33-4db0-8854-9561824ff928",
   "metadata": {},
   "outputs": [],
   "source": [
    "Q3. What is Beautiful Soup? Why is it used?\n",
    "A3. BeautifulSoup is a python library used for web scraping and parsing HTML and XML documents. It provides \n",
    "    convenient and intuitive way to navigate, search and extract data from HTML or XML content. With \n",
    "    BeautifulSoup we can parse HTML or XML files and extract specific elements or data based on tags, \n",
    "    attributes. It can structure a unstructured raw html content into a proper manner for manipulation."
   ]
  },
  {
   "cell_type": "code",
   "execution_count": null,
   "id": "9ebf5809-b80d-43a6-8393-68787fcdad11",
   "metadata": {},
   "outputs": [],
   "source": [
    "Q4. Why is flask used in this Web Scraping project?\n",
    "A4. Flask provides lightweight and flexible framework for building web application. Flask offers features for\n",
    "    URL routing, template rendering, request handling, error handling. These features are useful for building\n",
    "    an application for web scraping. "
   ]
  },
  {
   "cell_type": "code",
   "execution_count": null,
   "id": "52040125-0b33-491d-9bd8-1e6d3470ca39",
   "metadata": {},
   "outputs": [],
   "source": [
    "Q5. Write the names of AWS services used in this project. Also, explain the use of each service.\n",
    "A5. AWS IAM - This enables us to manage access to aws resource securely. IAM also allows us to create and \n",
    "              control AWS users, groups, roles and their corresponding permissions.\n",
    "    AWS Elastic Beanstalk - This simplifies the deployment and management of web applications and services.\n",
    "    AWS CodePipeline - It is a continuos integration and continuous delivery system which helps us to \n",
    "                       automate the build, test, deployment processes. It helps us to create custom workflows\n",
    "                       to automate entire software process."
   ]
  }
 ],
 "metadata": {
  "kernelspec": {
   "display_name": "Python 3 (ipykernel)",
   "language": "python",
   "name": "python3"
  },
  "language_info": {
   "codemirror_mode": {
    "name": "ipython",
    "version": 3
   },
   "file_extension": ".py",
   "mimetype": "text/x-python",
   "name": "python",
   "nbconvert_exporter": "python",
   "pygments_lexer": "ipython3",
   "version": "3.10.8"
  }
 },
 "nbformat": 4,
 "nbformat_minor": 5
}
