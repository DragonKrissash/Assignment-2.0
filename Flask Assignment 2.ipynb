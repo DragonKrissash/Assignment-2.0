{
 "cells": [
  {
   "cell_type": "code",
   "execution_count": null,
   "id": "12b2b775-82ac-4eb1-9016-8fec8da9a92b",
   "metadata": {},
   "outputs": [],
   "source": [
    "Q1. Explain GET and POST methods.\n",
    "A1. GET - It is a HTTP method for communication between server and client.\n",
    "          This method is used to send data to the server in the URL. \n",
    "    POST - The post method is used to send data to the server in form of a body of the request.\n",
    "           The data sent in post request is not visible in url making it more secure."
   ]
  },
  {
   "cell_type": "code",
   "execution_count": null,
   "id": "c2c34ab2-1075-48b5-acb7-d2e01da98b6b",
   "metadata": {},
   "outputs": [],
   "source": [
    "Q2. Why is request used in Flask?\n",
    "A2. In Flask, the request is used to handle incoming HTTP requests made to the web application. It allows us to\n",
    "    access and manipulate data sent by the client, such as form data, query parameters, and headers."
   ]
  },
  {
   "cell_type": "code",
   "execution_count": null,
   "id": "c0685b73-d283-4b40-b6db-7a3b8237c3ad",
   "metadata": {},
   "outputs": [],
   "source": [
    "Q3. Why is redirect() used in Flask?\n",
    "A3. In Flask, the redirect function is used to perform a redirect to another URL. It is commonly used when \n",
    "    handling web requests to redirect the user to a different page or endpoint."
   ]
  },
  {
   "cell_type": "code",
   "execution_count": null,
   "id": "9dda3599-2747-445d-a167-1510db5606cc",
   "metadata": {},
   "outputs": [],
   "source": [
    "Q4. What are templates in Flask? Why is the render_template() function used?\n",
    "A4. Templates are used to generate html pages which are returned as response to client requests. Templates\n",
    "    allow us to seperate presentation logic (HTML code) from application logic (Python code)."
   ]
  },
  {
   "cell_type": "code",
   "execution_count": null,
   "id": "77e94e82-72ea-4a2a-bee4-c7166938ae96",
   "metadata": {},
   "outputs": [],
   "source": [
    "Q5. Create a simple API. Use Postman to test it. Attach the screenshot of the output in the Jupyter Notebook.\n",
    "A5. https://github.com/DragonKrissash/Assignment-2.0/blob/main/Screenshot%202023-06-25%20171346.png"
   ]
  }
 ],
 "metadata": {
  "kernelspec": {
   "display_name": "Python 3 (ipykernel)",
   "language": "python",
   "name": "python3"
  },
  "language_info": {
   "codemirror_mode": {
    "name": "ipython",
    "version": 3
   },
   "file_extension": ".py",
   "mimetype": "text/x-python",
   "name": "python",
   "nbconvert_exporter": "python",
   "pygments_lexer": "ipython3",
   "version": "3.10.8"
  }
 },
 "nbformat": 4,
 "nbformat_minor": 5
}
