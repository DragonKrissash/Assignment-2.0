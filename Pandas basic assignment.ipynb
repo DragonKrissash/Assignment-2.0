{
 "cells": [
  {
   "cell_type": "code",
   "execution_count": 1,
   "id": "0ab052e0-3df9-439a-932e-dbf75ae2d168",
   "metadata": {},
   "outputs": [],
   "source": [
    "#Q1. Create a Pandas Series that contains the following data: 4, 8, 15, 16, 23, and 42. Then, print the series."
   ]
  },
  {
   "cell_type": "code",
   "execution_count": 2,
   "id": "bbc3bfb7-ee26-4bc7-9e60-dae5987f6a44",
   "metadata": {},
   "outputs": [],
   "source": [
    "import pandas as pd"
   ]
  },
  {
   "cell_type": "code",
   "execution_count": 1,
   "id": "f3269fe6-2b11-42b2-b668-8d533b8010fd",
   "metadata": {},
   "outputs": [],
   "source": [
    "l=[4,8,15,16,23,42]"
   ]
  },
  {
   "cell_type": "code",
   "execution_count": 3,
   "id": "e7afe790-ed1b-4de7-94cf-ad49dbc30b11",
   "metadata": {},
   "outputs": [],
   "source": [
    "series=pd.Series(l)"
   ]
  },
  {
   "cell_type": "code",
   "execution_count": 4,
   "id": "fc2b89f7-7ea1-4a09-9173-7341de8a389d",
   "metadata": {},
   "outputs": [
    {
     "name": "stdout",
     "output_type": "stream",
     "text": [
      "0     4\n",
      "1     8\n",
      "2    15\n",
      "3    16\n",
      "4    23\n",
      "5    42\n",
      "dtype: int64\n"
     ]
    }
   ],
   "source": [
    "print(series)"
   ]
  },
  {
   "cell_type": "code",
   "execution_count": null,
   "id": "bc8276d1-e34d-4547-873f-9777e2ac2554",
   "metadata": {},
   "outputs": [],
   "source": [
    "#Q2. Create a variable of list type containing 10 elements in it, and apply pandas.Series function on the\n",
    "#variable print it."
   ]
  },
  {
   "cell_type": "code",
   "execution_count": 5,
   "id": "1d9861bc-1f8b-4341-a12e-cf0c6cd75938",
   "metadata": {},
   "outputs": [],
   "source": [
    "var=[123,45.32,'krishna',3+5j,[1234],{'sudh'},(555),{99:'topper'},345,1000]"
   ]
  },
  {
   "cell_type": "code",
   "execution_count": 6,
   "id": "b467d286-1598-46b9-8d35-b9fb19899927",
   "metadata": {},
   "outputs": [],
   "source": [
    "series2=pd.Series(var)"
   ]
  },
  {
   "cell_type": "code",
   "execution_count": 7,
   "id": "c7be8633-a284-4ad6-9a74-d1d4db0d73fc",
   "metadata": {},
   "outputs": [
    {
     "name": "stdout",
     "output_type": "stream",
     "text": [
      "0               123\n",
      "1             45.32\n",
      "2           krishna\n",
      "3            (3+5j)\n",
      "4            [1234]\n",
      "5            {sudh}\n",
      "6               555\n",
      "7    {99: 'topper'}\n",
      "8               345\n",
      "9              1000\n",
      "dtype: object\n"
     ]
    }
   ],
   "source": [
    "print(series2)"
   ]
  },
  {
   "cell_type": "code",
   "execution_count": 8,
   "id": "ca29d03b-2ad7-4420-89a1-5dbcdfe77086",
   "metadata": {},
   "outputs": [],
   "source": [
    "#Q3. Create a Pandas DataFrame that contains the following data:\n",
    "data={'Name':['Alice','Bob','Claire'],\n",
    "      'Age':[25,30,27],\n",
    "      'Gender':['Female','Male','Female']}"
   ]
  },
  {
   "cell_type": "code",
   "execution_count": 9,
   "id": "899a64a8-cfa2-4097-a14d-ba6d0ae64203",
   "metadata": {},
   "outputs": [],
   "source": [
    "df=pd.DataFrame(data)"
   ]
  },
  {
   "cell_type": "code",
   "execution_count": 10,
   "id": "31630c18-1087-4a3b-a9c6-e2b7602553f7",
   "metadata": {},
   "outputs": [
    {
     "name": "stdout",
     "output_type": "stream",
     "text": [
      "     Name  Age  Gender\n",
      "0   Alice   25  Female\n",
      "1     Bob   30    Male\n",
      "2  Claire   27  Female\n"
     ]
    }
   ],
   "source": [
    "print(df)"
   ]
  },
  {
   "cell_type": "code",
   "execution_count": 11,
   "id": "9c50a7c6-ef94-4c71-8688-3b8083d22476",
   "metadata": {},
   "outputs": [],
   "source": [
    "data2=[['Alice',25,'Female'],\n",
    "       ['Bob',30,'Male'],\n",
    "       ['Claire',27,'Female']]"
   ]
  },
  {
   "cell_type": "code",
   "execution_count": 14,
   "id": "9c943eac-8b34-4cd5-a41e-61dbc93f51d1",
   "metadata": {},
   "outputs": [],
   "source": [
    "df2=pd.DataFrame(data2,columns=['Name','Age','City'])"
   ]
  },
  {
   "cell_type": "code",
   "execution_count": 15,
   "id": "ccd0cffb-5c0d-4422-939f-96a153f56ade",
   "metadata": {},
   "outputs": [
    {
     "name": "stdout",
     "output_type": "stream",
     "text": [
      "     Name  Age    City\n",
      "0   Alice   25  Female\n",
      "1     Bob   30    Male\n",
      "2  Claire   27  Female\n"
     ]
    }
   ],
   "source": [
    "print(df2)"
   ]
  },
  {
   "cell_type": "code",
   "execution_count": null,
   "id": "4bf8aa55-0c8b-45f0-aa58-80bfe0da14b7",
   "metadata": {},
   "outputs": [],
   "source": [
    "Q4. What is ‘DataFrame’ in pandas and how is it different from pandas.series? Explain with an example.\n",
    "A4. DataFrame is a 2d data structure which consists of rows and columns used for data storage and manipulation.\n",
    "    A series is a linear structure or array while dataframe is a 2d structure.\n",
    "    Ex: A series is like a linear array or a train which consists of passengers only in one row while \n",
    "        data frame is like a sleeper class train where there are 3 rows and many columns."
   ]
  },
  {
   "cell_type": "code",
   "execution_count": null,
   "id": "df6e59e6-b994-4e73-b881-d9778ee1e7ec",
   "metadata": {},
   "outputs": [],
   "source": [
    "Q5. What are some common functions you can use to manipulate data in a Pandas DataFrame? Can you give an \n",
    "    example of when you might use one of these functions?\n",
    "A5. head(): Returns the first 5 rows of the DataFrame.\n",
    "    tail(): Returns the last 5 rows of the DataFrame.\n",
    "    sort_values(): Sorts the DataFrame by one or more columns.\n",
    "    sum(): Computes the sum of values in each column or row.\n",
    "    mean(): Calculates the mean of values in each column or row.\n",
    "    Ex: If a column 9 in dataframe_studentmarks stores the marks of each individual student of class 9 and\n",
    "        we need to find the average marks of class 9 students then we can use mean() function to directly get\n",
    "        the average."
   ]
  },
  {
   "cell_type": "code",
   "execution_count": null,
   "id": "d73d185f-9890-4f1f-92e6-c9db36a45066",
   "metadata": {},
   "outputs": [],
   "source": [
    "Q6. Which of the following is mutable in nature Series, DataFrame, Panel?\n",
    "A6. All three are mutable data structures but series and dataframes are widely used these days."
   ]
  },
  {
   "cell_type": "code",
   "execution_count": 16,
   "id": "2377a48c-0e92-41d9-ae38-3d284f1d04b3",
   "metadata": {},
   "outputs": [],
   "source": [
    "#Q7. Create a DataFrame using multiple Series. Explain with an example.\n",
    "sr1=pd.Series([1,2,3,4,5])\n",
    "sr2=pd.Series(['one','two','three','four','five'])\n",
    "frame=pd.DataFrame({'numerals':sr1,'words':sr2})"
   ]
  },
  {
   "cell_type": "code",
   "execution_count": 17,
   "id": "120bf228-7a38-4914-9c45-39fb262dc63a",
   "metadata": {},
   "outputs": [
    {
     "data": {
      "text/html": [
       "<div>\n",
       "<style scoped>\n",
       "    .dataframe tbody tr th:only-of-type {\n",
       "        vertical-align: middle;\n",
       "    }\n",
       "\n",
       "    .dataframe tbody tr th {\n",
       "        vertical-align: top;\n",
       "    }\n",
       "\n",
       "    .dataframe thead th {\n",
       "        text-align: right;\n",
       "    }\n",
       "</style>\n",
       "<table border=\"1\" class=\"dataframe\">\n",
       "  <thead>\n",
       "    <tr style=\"text-align: right;\">\n",
       "      <th></th>\n",
       "      <th>numerals</th>\n",
       "      <th>words</th>\n",
       "    </tr>\n",
       "  </thead>\n",
       "  <tbody>\n",
       "    <tr>\n",
       "      <th>0</th>\n",
       "      <td>1</td>\n",
       "      <td>one</td>\n",
       "    </tr>\n",
       "    <tr>\n",
       "      <th>1</th>\n",
       "      <td>2</td>\n",
       "      <td>two</td>\n",
       "    </tr>\n",
       "    <tr>\n",
       "      <th>2</th>\n",
       "      <td>3</td>\n",
       "      <td>three</td>\n",
       "    </tr>\n",
       "    <tr>\n",
       "      <th>3</th>\n",
       "      <td>4</td>\n",
       "      <td>four</td>\n",
       "    </tr>\n",
       "    <tr>\n",
       "      <th>4</th>\n",
       "      <td>5</td>\n",
       "      <td>five</td>\n",
       "    </tr>\n",
       "  </tbody>\n",
       "</table>\n",
       "</div>"
      ],
      "text/plain": [
       "   numerals  words\n",
       "0         1    one\n",
       "1         2    two\n",
       "2         3  three\n",
       "3         4   four\n",
       "4         5   five"
      ]
     },
     "execution_count": 17,
     "metadata": {},
     "output_type": "execute_result"
    }
   ],
   "source": [
    "frame"
   ]
  },
  {
   "cell_type": "code",
   "execution_count": null,
   "id": "54fedf4c-b5ff-4e1d-a259-5d2700401b24",
   "metadata": {},
   "outputs": [],
   "source": []
  }
 ],
 "metadata": {
  "kernelspec": {
   "display_name": "Python 3 (ipykernel)",
   "language": "python",
   "name": "python3"
  },
  "language_info": {
   "codemirror_mode": {
    "name": "ipython",
    "version": 3
   },
   "file_extension": ".py",
   "mimetype": "text/x-python",
   "name": "python",
   "nbconvert_exporter": "python",
   "pygments_lexer": "ipython3",
   "version": "3.10.8"
  }
 },
 "nbformat": 4,
 "nbformat_minor": 5
}
