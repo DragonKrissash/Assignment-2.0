{
 "cells": [
  {
   "cell_type": "code",
   "execution_count": null,
   "id": "2569256a-9ce1-48db-bfef-015763e08c2e",
   "metadata": {},
   "outputs": [],
   "source": [
    "Q1. What is a database? Differentiate between SQL and NoSQL databases.\n",
    "A1. Database is a set of organized data which makes it easier for the user to store, manage, manipulate the \n",
    "    data. It is used to store a large amount of data which can be accessed, updated, retrieved and queried.\n",
    "    \n",
    "    SQL are structured like spreadsheets with rows and columns. They scale vertically and require more hardware\n",
    "    to handle more data.\n",
    "    NoSQL are flexible, unstructured manner allowing more data formats. They scale horizontally by adding more servers\n",
    "    or nodes to distribute the data."
   ]
  },
  {
   "cell_type": "code",
   "execution_count": null,
   "id": "a19afbed-aca7-46aa-ba06-d86eb85c1609",
   "metadata": {},
   "outputs": [],
   "source": [
    "Q2. What is DDL? Explain why CREATE, DROP, ALTER, and TRUNCATE are used with an example.\n",
    "A2. DDL means data definition language.It is a set of SQL commands used to define and manage structure and \n",
    "    organization of database.\n",
    "    DDL statements are responsible for creating, altering, and dropping database objects such as \n",
    "    tables, views, indexes, and constraints.\n",
    "    \n",
    "    Create - This statement is used to create a new databse object, such as table or view along with its \n",
    "             structure and attributes.\n",
    "    Ex - CREATE TABLE Persons(PhoneNum INT, Name VARCHAR(50), Age INT, Email VARCHAR(50));\n",
    "    \n",
    "    Drop - Drop is used to remove an existing database object such as table, view or index.\n",
    "    Ex - DROP TABLE Persons;\n",
    "    \n",
    "    Alter - It is used to add, drop, modify columns, constraints or indexes.\n",
    "    Ex - ALTER TABLE PERSONS ADD Salary INT;\n",
    "    \n",
    "    Truncate - It is used to delete data in the table and not the table itself.\n",
    "    Ex - TRUNCATE TABLE Persons"
   ]
  },
  {
   "cell_type": "code",
   "execution_count": null,
   "id": "e276eddf-a45e-4ef7-b755-60c9f4e62548",
   "metadata": {},
   "outputs": [],
   "source": [
    "Q3. What is DML? Explain INSERT, UPDATE, and DELETE with an example.\n",
    "A3. DML is data manipulation language used to manage and manipulate the data stored in a database.\n",
    "    \n",
    "    Insert - It is used to add new records or rows into a database table.\n",
    "    Update - It is used to modify the existing database in a table.\n",
    "    Delete - It is used to remove one more records from a database table."
   ]
  },
  {
   "cell_type": "code",
   "execution_count": null,
   "id": "a5e9562a-7325-4736-ad37-45f765687bb1",
   "metadata": {},
   "outputs": [],
   "source": [
    "Q4. What is DQL? Explain SELECT with an example.\n",
    "A4. DQL is data query language which mainly focuses on retrieving and querying data from a database.\n",
    "    Select - The select statement allows us to specify a column we want to retrieve from a table, as well \n",
    "             as filtering or sorting the criteria."
   ]
  },
  {
   "cell_type": "code",
   "execution_count": null,
   "id": "fca60283-92e1-4d7f-92c7-ae18924e23e7",
   "metadata": {},
   "outputs": [],
   "source": [
    "Q5. Explain Primary Key and Foreign Key.\n",
    "A5. Keys establish relationship between tables and ensure data integrity.\n",
    "\n",
    "    Primary key - Each table has one primary key. Each Row has a unique primary key and cannot be null.\n",
    "                  By using primary key it ensure data integrity and provides a way to uniquely identify\n",
    "                  the records.\n",
    "    \n",
    "    Foreign key - It establishes the relation between 2 tables. It refers to primary key of another table\n",
    "                  linking the records between the 2 tables. It represents a relationship and enforces referential\n",
    "                  integrity , ensuring that the values in foreign key column exist in referenced table's primary\n",
    "                  key column."
   ]
  },
  {
   "cell_type": "code",
   "execution_count": null,
   "id": "3744bcef-aa4e-4d68-9ad6-5c227071db48",
   "metadata": {},
   "outputs": [],
   "source": [
    "#Q6. Write a python code to connect MySQL to python. Explain the cursor() and execute() method.\n",
    "#Answer 6\n",
    "import mysql.connector\n",
    "mydb=mysql.connector.connect(host=\"localhost\",user=\"abc\",password=\"password\")\n",
    "mycursor=mydb.cursor()\n",
    "cursor() - This method allows us to iterate through a database using a cursor which will only execute a single\n",
    "           query.\n",
    "execute() - This method allows us to send a single sql statement to database for execution."
   ]
  },
  {
   "cell_type": "code",
   "execution_count": null,
   "id": "349a1fca-73a7-4a86-a465-2faa0251911e",
   "metadata": {},
   "outputs": [],
   "source": [
    "Q7. Give the order of execution of SQL clauses in an SQL query.\n",
    "A7. From > Join > Where > Group by > Having > Select > Distinct > Order by > Limit"
   ]
  }
 ],
 "metadata": {
  "kernelspec": {
   "display_name": "Python 3 (ipykernel)",
   "language": "python",
   "name": "python3"
  },
  "language_info": {
   "codemirror_mode": {
    "name": "ipython",
    "version": 3
   },
   "file_extension": ".py",
   "mimetype": "text/x-python",
   "name": "python",
   "nbconvert_exporter": "python",
   "pygments_lexer": "ipython3",
   "version": "3.10.8"
  }
 },
 "nbformat": 4,
 "nbformat_minor": 5
}
