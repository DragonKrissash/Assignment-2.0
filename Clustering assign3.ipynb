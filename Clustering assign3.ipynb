{
 "cells": [
  {
   "cell_type": "code",
   "execution_count": null,
   "id": "45debe99-a0f5-4e25-a2cf-fdbaa8c6b882",
   "metadata": {},
   "outputs": [],
   "source": [
    "Q1. Explain the basic concept of clustering and give examples of applications where clustering is useful."
   ]
  },
  {
   "cell_type": "code",
   "execution_count": null,
   "id": "96da7f92-40f5-406f-81b5-b04e60fac12e",
   "metadata": {},
   "outputs": [],
   "source": [
    "A1. Clustering is an unsupervised machine learning algorithm that groups similar data points together based \n",
    "    on some similarity or distance metric. The goal is to create clusters that data points within a cluster \n",
    "    are more similar to each other than points in different clusters. Ex:\n",
    "        \n",
    "    Customer segregation - Group customers into clusters based on attributes like demographics and purchasing \n",
    "    behaviour for targeted marketing campaigns.\n",
    "    \n",
    "    Recommendation system - Cluster users by their interest and preferences to recommend contents like movies,\n",
    "    music, products etc. \n",
    "    \n",
    "    Image segregation - Cluster pixels in images based on color, intensity and proximity to seperate foreground\n",
    "    from background. Useful in computer vision.\n",
    "    \n",
    "    Document clustering - Cluster document and text by topics so that semantically similar documents are grouped\n",
    "    together. Can help with search engines or document organization.\n",
    "    "
   ]
  },
  {
   "cell_type": "code",
   "execution_count": null,
   "id": "e8e11007-c73e-4bb9-b2c2-b04e5e0858cd",
   "metadata": {},
   "outputs": [],
   "source": [
    "Q2. What is DBSCAN and how does it differ from other clustering algorithms such as k-means and\n",
    "hierarchical clustering?"
   ]
  },
  {
   "cell_type": "code",
   "execution_count": null,
   "id": "bc767384-ea69-4dcb-8b0a-a831c3553648",
   "metadata": {},
   "outputs": [],
   "source": [
    "A2. DBSCAN is a density based clustering algorithm that groups together closely packed points. \n",
    "    It can identify clusters of arbitrary shapes and sizes, unlike k means which assumes spherical clusters.\n",
    "    It does not require specifying the number of k prior unlike k means.\n",
    "    It identifies noise points that do not belong to any cluster. K means would assign all points to clusters.\n",
    "    It uses density reachability and connectivety to group points, K means uses distance from centroid."
   ]
  },
  {
   "cell_type": "code",
   "execution_count": null,
   "id": "a96df5db-77f7-40b2-9cfb-c79ebda9111e",
   "metadata": {},
   "outputs": [],
   "source": [
    "Q3. How do you determine the optimal values for the epsilon and minimum points parameters in DBSCAN\n",
    "clustering?"
   ]
  },
  {
   "cell_type": "code",
   "execution_count": null,
   "id": "051d8a40-6604-4a34-bb76-af478200cf30",
   "metadata": {},
   "outputs": [],
   "source": [
    "A3. Determining optimal values and value of epsilon are critical for generating high quality clusters.\n",
    "    Plot k distance graph - Plot k dist value for each point and look for the elbow. Good eps is slightly \n",
    "    higher than elbow.\n",
    "    Adjust eps - Start with a reasonable guess for eps based on domain knowledge. Gradually increase or \n",
    "    decrease to check stability.\n",
    "    Consider feature scaling - Standardize the features so that distances are measured uniformly. \n",
    "    Use percentage for min points - Specify min point as % of total points. 1-2 % is common. Higher % gives \n",
    "    more conservative clusters."
   ]
  },
  {
   "cell_type": "code",
   "execution_count": null,
   "id": "c532cd2b-3677-433c-ae2c-21afd8b4c82d",
   "metadata": {},
   "outputs": [],
   "source": [
    "Q4. How does DBSCAN clustering handle outliers in a dataset?"
   ]
  },
  {
   "cell_type": "code",
   "execution_count": null,
   "id": "7954887c-5414-4bbe-91e4-9925e2153124",
   "metadata": {},
   "outputs": [],
   "source": [
    "A4. DBSCAN is a density based clustering algorithm which is robust to outliers.\n",
    "    It defines clusters as dense regions seperated by low denstity regions.\n",
    "    It requires 2 parameters eps and minPoints. Eps sets the radius of region and minPoints sets the minimum\n",
    "    number of points needed to make a region.\n",
    "    DBSCAN starts from an arbitrary unvisited point, computes neighbourhood density within eps radius and \n",
    "    forms a cluster if points are greater than minPoints.\n",
    "    The cluster expands to include density connected points and points not belonging are labeled as outliers."
   ]
  },
  {
   "cell_type": "code",
   "execution_count": null,
   "id": "22b1412f-2d3e-4f65-8563-4c799aba7964",
   "metadata": {},
   "outputs": [],
   "source": [
    "Q5. How does DBSCAN clustering differ from k-means clustering?"
   ]
  },
  {
   "cell_type": "code",
   "execution_count": null,
   "id": "3e923075-6e37-49c3-93fe-a81c9070d937",
   "metadata": {},
   "outputs": [],
   "source": [
    "A5. DBSCAN is a density based clustering algorithm while K means is centroid based.\n",
    "    DBSCAN can find arbitrary shaped clusters while K means finds globe shaped clusters.\n",
    "    DBSCAN doen't require specifying the number of clusters prior unlike K means which requires.\n",
    "    DBSCAN relies on density parameters like eps and minPoints while K means relies on K.\n",
    "    DBSCAN has higher time complexity O(n^2) compared to K means which is O(nkt) where n is number of points."
   ]
  },
  {
   "cell_type": "code",
   "execution_count": null,
   "id": "d2446774-08be-45e5-8ad4-904669e9a77a",
   "metadata": {},
   "outputs": [],
   "source": [
    "Q6. Can DBSCAN clustering be applied to datasets with high dimensional feature spaces? If so, what are\n",
    "some potential challenges?"
   ]
  },
  {
   "cell_type": "code",
   "execution_count": null,
   "id": "deac7aa6-fc42-419f-9f27-2a7779193d13",
   "metadata": {},
   "outputs": [],
   "source": [
    "A6. Yes DBSCAN can be applied to datasets with high dimensional feature spaces but challenges are:\n",
    "    \n",
    "    The curse of dimensionality - density measurements can become meaningless in very high dimensions as \n",
    "    distances between points tend to become similar. This makes DBSCAN harder to identify clusters and outliers.\n",
    "    \n",
    "    Setting up eps and minPoints - Determining suitable values for these parameters can be difficult in high \n",
    "    dimenions. The neighbourhood radius eps may need to be set higher in higher dim.\n",
    "    \n",
    "    Computational complexity - Distance calculations between a large number of high dimensional points increases \n",
    "    computational requirements. \n",
    "    \n",
    "    Feature selection - Removing irrelevant or redendent features can help reduce dimensionality before applying \n",
    "    DBSCAN."
   ]
  },
  {
   "cell_type": "code",
   "execution_count": null,
   "id": "955d4880-007b-4c66-b67e-57267c4f127f",
   "metadata": {},
   "outputs": [],
   "source": [
    "Q7. How does DBSCAN clustering handle clusters with varying densities?"
   ]
  },
  {
   "cell_type": "code",
   "execution_count": null,
   "id": "116202a2-f2ec-4373-9afa-4a23e36f9164",
   "metadata": {},
   "outputs": [],
   "source": [
    "A7. DBSCAN defines clusters based on a threshold density specified by eps and min Points rather than equal size.\n",
    "    Areas with density above eps and minpoints become part of a cluster, areas below the threshold are noise.\n",
    "    So clusters naturally form in high density areas and do not in low density regions, regardless of absoulute\n",
    "    densities.\n",
    "    Eps and minPoints can be tuned to control what is considered a high density cluster and what density is treated\n",
    "    as noise.\n",
    "    A larger eps value allow discovering low density clusters while smaller eps finds just high density clusters."
   ]
  },
  {
   "cell_type": "code",
   "execution_count": null,
   "id": "bf1837b5-e8af-4066-855b-aacf1c8c5e3b",
   "metadata": {},
   "outputs": [],
   "source": [
    "Q8. What are some common evaluation metrics used to assess the quality of DBSCAN clustering results?"
   ]
  },
  {
   "cell_type": "code",
   "execution_count": null,
   "id": "9d735cd2-c8ee-4c60-bd34-cc9b2bf38ae2",
   "metadata": {},
   "outputs": [],
   "source": [
    "A8. Silhouette score - Evaluates cluster cohesion and seperation. Higher values indicate better defined clusters.\n",
    "    Davies - Boulden index - Evaluate intra cluster similarity and inter cluster differences. Lower values are better.\n",
    "    Cluster purity - Measures the percentage of points correctly assigned to their true cluster label. \n",
    "    Execution time - Assesses computational efficiency, lower is better."
   ]
  },
  {
   "cell_type": "code",
   "execution_count": null,
   "id": "a78a99bd-8f9a-4f2d-bba3-b4f81f7c3b05",
   "metadata": {},
   "outputs": [],
   "source": [
    "Q9. Can DBSCAN clustering be used for semi-supervised learning tasks?"
   ]
  },
  {
   "cell_type": "code",
   "execution_count": null,
   "id": "d818d57a-51c1-423d-9690-a7a0d71658a1",
   "metadata": {},
   "outputs": [],
   "source": [
    "A9. Yes DBSCAN clustering can be used for semi supervised learning tasks:\n",
    "    \n",
    "    Label propagation - The clusters identified by DBSCAN on unlabeled data can be used to propagate labels \n",
    "    from a small set of labeled examples. Points in same cluster are likely to have same label.\n",
    "    \n",
    "    Data regularization - DBSCAN can help identify and remove outliers from the unlabeled data. This cleans\n",
    "    up the data for the learning algorithm.\n",
    "    \n",
    "    Feature extraction - DBSCAN clusters can be used as features to describe unlabeled data, in addition to \n",
    "    original features. This adds useful higher level features."
   ]
  },
  {
   "cell_type": "code",
   "execution_count": null,
   "id": "8b7aa86c-de47-46ea-a096-30e5098d6a6c",
   "metadata": {},
   "outputs": [],
   "source": [
    "Q10. How does DBSCAN clustering handle datasets with noise or missing values?"
   ]
  },
  {
   "cell_type": "code",
   "execution_count": null,
   "id": "0d364844-eec6-4fb2-9c6e-e8ff69c19cd4",
   "metadata": {},
   "outputs": [],
   "source": [
    "A10. Noise handling - DBSCAN treats points that do not belong to any cluster as outliers/noise. This isolates\n",
    "     the noise points rather than forcing them into clusters.\n",
    "     \n",
    "     Missing values - DBSCAN looks at local neighbourhood density, so can still cluster if missing values are\n",
    "     random. Though missing values may impact distance metrics.\n",
    "        \n",
    "     Strategies for missing values:\n",
    "        Imputation - Fill missing values with mean, median etc.\n",
    "        Case deletion - Remove samples with missing values.\n",
    "        Reduced feature set - Remove features with many missing values.\n",
    "        Distance modification - Use distance metrics like Gower's that account for missing data."
   ]
  },
  {
   "cell_type": "code",
   "execution_count": null,
   "id": "f97ac5fc-68c1-4282-9a9e-809b7313be80",
   "metadata": {},
   "outputs": [],
   "source": [
    "Q11. Implement the DBSCAN algorithm using a python programming language, and apply it to a sample\n",
    "dataset. Discuss the clustering results and interpret the meaning of the obtained clusters."
   ]
  },
  {
   "cell_type": "code",
   "execution_count": null,
   "id": "bdd3d3cc-cc0f-405c-8dfa-8bf7931073f0",
   "metadata": {},
   "outputs": [],
   "source": [
    "import numpy as np\n",
    "from sklearn.cluster import DBSCAN\n",
    "import matplotlib.pyplot as plt\n",
    "from sklearn.datasets import make_moons\n",
    "x,_=make_moons(n_samples=200,noise=0.5)\n",
    "db=DBSCAN(eps=0.25,min_samples=9)\n",
    "labels= db.fit_predict(x)"
   ]
  }
 ],
 "metadata": {
  "kernelspec": {
   "display_name": "Python 3 (ipykernel)",
   "language": "python",
   "name": "python3"
  },
  "language_info": {
   "codemirror_mode": {
    "name": "ipython",
    "version": 3
   },
   "file_extension": ".py",
   "mimetype": "text/x-python",
   "name": "python",
   "nbconvert_exporter": "python",
   "pygments_lexer": "ipython3",
   "version": "3.10.8"
  }
 },
 "nbformat": 4,
 "nbformat_minor": 5
}
