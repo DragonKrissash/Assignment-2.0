{
 "cells": [
  {
   "cell_type": "code",
   "execution_count": null,
   "id": "4e9e0628-05b4-467a-b74d-df810b0fd677",
   "metadata": {},
   "outputs": [],
   "source": [
    "Q1. What are the Probability Mass Function (PMF) and Probability Density Function (PDF)? Explain with an \n",
    "    example."
   ]
  },
  {
   "cell_type": "code",
   "execution_count": null,
   "id": "9316fc86-fd95-45d6-943a-8c9ac9bec2e3",
   "metadata": {},
   "outputs": [],
   "source": [
    "A1. The probability mass function or pmf is a function that provides the probability of a discrete random\n",
    "    variable taking on a specific value. In other words, it gives the probability that the random variable \n",
    "    equals a particular outcome. Eg: Rolling of die has 6 outcomes and each outcome is equal to 1/6.\n",
    "    \n",
    "    The probability density function is used to describe the probability distribution of a continuous random\n",
    "    variable. The pdf is applicable to continuous random variables, where possible values form a continuous \n",
    "    range and individual outcomes have infinitesimally small probabilities.\n",
    "    Eg: The heights of adult males can be considered a continuous random variable as height can take on any\n",
    "    value within certain range like between 150 and 200. "
   ]
  },
  {
   "cell_type": "code",
   "execution_count": null,
   "id": "6ccf0c96-9f60-4ff7-a81f-3518d1dd11e5",
   "metadata": {},
   "outputs": [],
   "source": [
    "Q2: What is Cumulative Density Function (CDF)? Explain with an example. Why CDF is used?"
   ]
  },
  {
   "cell_type": "code",
   "execution_count": null,
   "id": "ac0741c8-1e19-4987-9a9c-fd94b454cb30",
   "metadata": {},
   "outputs": [],
   "source": [
    "A2: The CDF gives the probability that a random variable will take on a value less than or equal to a specific\n",
    "    value. For discrete random variable, the CDF is sum of probabilities of all the outcomes less than or equal \n",
    "    to a given value. For a continuous random variable the cdf is defined as integral of probability density \n",
    "    function from -infinity to the value. \n",
    "    eg: Rolling a die has 6 outcomes. P(X<=3) = P(X=1)+P(X=2)+P(X=3) = 1/6 + 1/6 + 1/6 = 1/2\n",
    "    \n",
    "    It is used to find percentiles which indicate the value below which the given percentage of data falls.\n",
    "    CDF is an essential tool in hypothesis testing, confidence intervals, and statistical analysis."
   ]
  },
  {
   "cell_type": "code",
   "execution_count": null,
   "id": "489e2f56-9455-486c-982a-4569612a7547",
   "metadata": {},
   "outputs": [],
   "source": [
    "Q3: What are some examples of situations where the normal distribution might be used as a model?\n",
    "Explain how the parameters of the normal distribution relate to the shape of the distribution."
   ]
  },
  {
   "cell_type": "code",
   "execution_count": null,
   "id": "55f6beef-eb0e-47e2-916d-7d771ed33a7c",
   "metadata": {},
   "outputs": [],
   "source": [
    "A3: Human weights and heights when collected from a very large population tend to become approximately \n",
    "    bell-shaped. \n",
    "    When analyzing the test scores of large number of students the data tends to become normal distribution\n",
    "    and allows the educators to set appropriate cutoff levels. \n",
    "    In finance, stock prices, returns also other financial metrics tend to follow normal distribution, \n",
    "    especially while looking at large portfolios.\n",
    "    \n",
    "    Mean - The mean represents the center of entire bell curve, by moving the mean to right or left, entire\n",
    "           curve moves to right or left.\n",
    "    Standard deviation - The standard deviation tells about variability of distribution about mean. More the \n",
    "                         deviation, more the curve flattens, less the deviation, the curve becomes narrow."
   ]
  },
  {
   "cell_type": "code",
   "execution_count": null,
   "id": "527e306d-7500-443b-b733-fba0772fbba9",
   "metadata": {},
   "outputs": [],
   "source": [
    "Q4: Explain the importance of Normal Distribution. Give a few real-life examples of Normal Distribution."
   ]
  },
  {
   "cell_type": "code",
   "execution_count": null,
   "id": "1cba02a4-6183-4ad2-ac1e-28d4923eca92",
   "metadata": {},
   "outputs": [],
   "source": [
    "A4: The normal distribution has well-defined mathematical peoperties, which makes it analytically tractable.\n",
    "    The mean, median, mode are all equal and the distribution is characterized by only mean and standard \n",
    "    deviation. These properties simplify calculations and make statistical calculations more accessible.\n",
    "    The normal distribution provides a good approximation for real-world data even if the data does not follow\n",
    "    normal distribution. This approximation becomes more accurate as the sample size increases, thanks to \n",
    "    central limit theorem.\n",
    "    \n",
    "    Eg: Heights and weights of a large population follow a normal distribution and most people tend to lie around\n",
    "        average height and the distribution tends to become a bell shaped curve around mean height.\n",
    "        \n",
    "        Exam scores of large number of students is often closed to normal distribution and many students come near\n",
    "        the average score."
   ]
  },
  {
   "cell_type": "code",
   "execution_count": null,
   "id": "e106cd8a-84ea-4f86-b132-ac0ecd091667",
   "metadata": {},
   "outputs": [],
   "source": [
    "Q5: What is Bernaulli Distribution? Give an Example. What is the difference between Bernoulli Distribution \n",
    "    and Binomial Distribution?"
   ]
  },
  {
   "cell_type": "code",
   "execution_count": null,
   "id": "3e84cd77-26af-4c00-bc55-6072797b315e",
   "metadata": {},
   "outputs": [],
   "source": [
    "A5: The Bernaulli distribution is a probability distribution that represents a random experiment with only\n",
    "    2 outcomes, success or failure. \n",
    "    Eg: If we toss a coin and imagine heads to be success, then every toss can be considered under success \n",
    "        or failure with the probability of getting heads is 0.5.\n",
    "    \n",
    "    The bernoulli distribution has has only two possible outcomes, success or failure.\n",
    "    The binomial distribution deals with number of successes in a fixed number of independent bernoulli trials.\n",
    "    \n",
    "    The bernoulli distribution has single parameter p which represents the probability of success in single trial.\n",
    "    The binomial distribution has 2 parameters, p which represents the probability of success and n the number of trials.\n",
    "    "
   ]
  },
  {
   "cell_type": "code",
   "execution_count": null,
   "id": "d1825e6d-b50b-43d5-a6b0-582d7558fd6f",
   "metadata": {},
   "outputs": [],
   "source": [
    "Q6. Consider a dataset with a mean of 50 and a standard deviation of 10. If we assume that the dataset\n",
    "is normally distributed, what is the probability that a randomly selected observation will be greater\n",
    "than 60? Use the appropriate formula and show your calculations."
   ]
  },
  {
   "cell_type": "code",
   "execution_count": null,
   "id": "7753495c-35e2-4af1-934d-0ad0e61691a2",
   "metadata": {},
   "outputs": [],
   "source": [
    "A6: https://github.com/DragonKrissash/Assignment-2.0/blob/main/WhatsApp%20Image%202023-07-25%20at%202.14.54%20PM.jpeg"
   ]
  },
  {
   "cell_type": "code",
   "execution_count": null,
   "id": "df89317b-4cb4-4916-90e8-79b204df74e4",
   "metadata": {},
   "outputs": [],
   "source": [
    "Q7: Explain uniform Distribution with an example."
   ]
  },
  {
   "cell_type": "code",
   "execution_count": null,
   "id": "8f8d04cf-3f79-4b2f-910f-5508284eea3b",
   "metadata": {},
   "outputs": [],
   "source": [
    "A7: A uniform distribution or rectangular distribution is a probability distribution where the probability of\n",
    "    all outcomes are equally likely to occur. It means that each value within specific interval has same \n",
    "    probability. The probability density function of a continuous random variable is defined as:\n",
    "        f(x) = 1/(b-a) for a<=x<=b\n",
    "        \n",
    "    Eg: For rolling a die, the possible outcomes are 1 to 6. The probability of each outcome is same and is\n",
    "        equal to 1/(6-1) = 1/5"
   ]
  },
  {
   "cell_type": "code",
   "execution_count": null,
   "id": "ae89cf77-9e48-4711-bf75-b14bf30eede0",
   "metadata": {},
   "outputs": [],
   "source": [
    "Q8: What is the z score? State the importance of the z score."
   ]
  },
  {
   "cell_type": "code",
   "execution_count": null,
   "id": "8f50f7aa-c454-4b24-a4b2-2761af37a9cf",
   "metadata": {},
   "outputs": [],
   "source": [
    "A8: The z score is also known as standard score, is a statistical measurement that describes a value's \n",
    "    relation to the mean of a group of values and its standard deviation. It quantifies how many datapoints\n",
    "    a particular value is away from the mean. \n",
    "    \n",
    "    The z score standardizes data and brings different datasets to a common scale, making it easy to compare\n",
    "    and analyze them.\n",
    "    Z score can help identify outliers in a dataset. Data points with z scores significantly higher or lower\n",
    "    than a certain threshold are considered outliers and may warrant further investigation."
   ]
  },
  {
   "cell_type": "code",
   "execution_count": null,
   "id": "2a2c7bbc-9dbe-4a7b-8ddc-4c8823b04629",
   "metadata": {},
   "outputs": [],
   "source": [
    "Q9: What is Central Limit Theorem? State the significance of the Central Limit Theorem."
   ]
  },
  {
   "cell_type": "code",
   "execution_count": null,
   "id": "2ad7ad91-7ef6-492f-89b1-7fbbbbfe9840",
   "metadata": {},
   "outputs": [],
   "source": [
    "A9: If we take multiple samples from a population distribution and calculate the means of those samples, the \n",
    "    distribution of those sample means will tend to follow a normal distribution regardless of the shape of the \n",
    "    population distribution.\n",
    "    The significance is:\n",
    "        The CLT allows us to use normal distribution as an approximation for the sampling distribution of the\n",
    "        sample mean, even if the population from which the samples are drawn does not follow a normal distribution.\n",
    "        The CLT helps in determining the required sample size for conducting the required statistical analysis with\n",
    "        a desired level of precision."
   ]
  },
  {
   "cell_type": "code",
   "execution_count": null,
   "id": "591cc175-5e23-493c-94ed-16ef5f683796",
   "metadata": {},
   "outputs": [],
   "source": [
    "Q10: State the assumptions of the Central Limit Theorem."
   ]
  },
  {
   "cell_type": "code",
   "execution_count": null,
   "id": "77cd5370-e558-4294-bb08-bea10d69971a",
   "metadata": {},
   "outputs": [],
   "source": [
    "A10: Random sampling - The samples must be selected randomly from the population of interest and each \n",
    "     observation in the population has an equal chance of being included in the sample. \n",
    "     \n",
    "     Independence - The observations of each sample must be independent of each other. \n",
    "     \n",
    "     Finite variance - The population from which the samples are drawn must have finite variance. \n",
    "     \n",
    "     Sample size - Larger sample sizes generally lead to better approximations of normality in sampling \n",
    "     distribution of sample mean. Generally sample sizes greater than 30 are often considered for CLT to be \n",
    "     effective."
   ]
  }
 ],
 "metadata": {
  "kernelspec": {
   "display_name": "Python 3 (ipykernel)",
   "language": "python",
   "name": "python3"
  },
  "language_info": {
   "codemirror_mode": {
    "name": "ipython",
    "version": 3
   },
   "file_extension": ".py",
   "mimetype": "text/x-python",
   "name": "python",
   "nbconvert_exporter": "python",
   "pygments_lexer": "ipython3",
   "version": "3.10.8"
  }
 },
 "nbformat": 4,
 "nbformat_minor": 5
}
