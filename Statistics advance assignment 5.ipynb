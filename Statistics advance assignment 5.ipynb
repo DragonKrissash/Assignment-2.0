{
 "cells": [
  {
   "cell_type": "code",
   "execution_count": null,
   "id": "c6e68458-8441-4151-89ca-6a8542dea770",
   "metadata": {},
   "outputs": [],
   "source": [
    "Q1. Calculate the 95% confidence interval for a sample of data with a mean of 50 and a standard deviation\n",
    "of 5 using Python. Interpret the results."
   ]
  },
  {
   "cell_type": "code",
   "execution_count": 1,
   "id": "7dce7df1-b002-4a63-b019-2543ffe81694",
   "metadata": {},
   "outputs": [
    {
     "name": "stdout",
     "output_type": "stream",
     "text": [
      "The confidence interval lies between 48.210805856282846 51.789194143717154\n"
     ]
    }
   ],
   "source": [
    "from scipy.stats import norm\n",
    "import numpy as np\n",
    "ci=0.95\n",
    "mean=50\n",
    "s=5\n",
    "n=30 #(assume)\n",
    "se=s/np.sqrt(n)\n",
    "a=1-ci\n",
    "cri_val=norm.ppf(ci+a/2)\n",
    "moe=cri_val*se\n",
    "lbound=mean-moe\n",
    "ubound=mean+moe\n",
    "print('The confidence interval lies between',lbound,ubound)"
   ]
  },
  {
   "cell_type": "code",
   "execution_count": null,
   "id": "d5d24ec0-2510-4129-9658-2ea2cf526fd2",
   "metadata": {},
   "outputs": [],
   "source": [
    "Q2. Conduct a chi-square goodness of fit test to determine if the distribution of colors of M&Ms in a bag\n",
    "matches the expected distribution of 20% blue, 20% orange, 20% green, 10% yellow, 10% red, and 20%\n",
    "brown. Use Python to perform the test with a significance level of 0.05."
   ]
  },
  {
   "cell_type": "code",
   "execution_count": 4,
   "id": "58e60087-a01f-417d-96ab-8fb9ae65008b",
   "metadata": {},
   "outputs": [
    {
     "name": "stdout",
     "output_type": "stream",
     "text": [
      "Chi-square test statistic: 4.3750\n",
      "P-value: 0.4968\n",
      "Fail to reject the null hypothesis.\n",
      "The distribution of colors of M&Ms in the bag matches the expected distribution.\n"
     ]
    }
   ],
   "source": [
    "import numpy as np\n",
    "from scipy import stats\n",
    "obs_fre=[50, 40, 35, 20, 15, 40] #Assume\n",
    "exp_fre=[0.2, 0.2, 0.2, 0.1, 0.1, 0.2]\n",
    "tot_obs=sum(obs_fre)\n",
    "tot_exp=tot_obs\n",
    "chi2_stat,p_val=stats.chisquare(f_obs=obs_fre,f_exp=[tot_exp * f for f in exp_fre])\n",
    "a=0.05\n",
    "ci=1-a\n",
    "print(f\"Chi-square test statistic: {chi2_stat:.4f}\")\n",
    "print(f\"P-value: {p_val:.4f}\")\n",
    "if p_val < a:\n",
    "    print(\"Reject the null hypothesis.\")\n",
    "    print(\"The distribution of colors of M&Ms in the bag differs significantly from the expected distribution.\")\n",
    "else:\n",
    "    print(\"Fail to reject the null hypothesis.\")\n",
    "    print(\"The distribution of colors of M&Ms in the bag matches the expected distribution.\")"
   ]
  },
  {
   "cell_type": "code",
   "execution_count": null,
   "id": "18754bdf-186d-4df9-94e4-dac280050912",
   "metadata": {},
   "outputs": [],
   "source": [
    "Q3. Use Python to calculate the chi-square statistic and p-value for a contingency table with the following\n",
    "data:          A                   B\n",
    "              20                  15\n",
    "              10                  25\n",
    "              15                  20\n",
    "Interpret the results of the test."
   ]
  },
  {
   "cell_type": "code",
   "execution_count": 6,
   "id": "b23dc03a-7d49-4c15-9710-ec2ec294ab9d",
   "metadata": {},
   "outputs": [
    {
     "name": "stdout",
     "output_type": "stream",
     "text": [
      "Chi-square test statistic: 5.8333\n",
      "P-value: 0.0541\n",
      "Degrees of freedom: 2\n",
      "Expected frequencies:\n",
      "[[15. 20.]\n",
      " [15. 20.]\n",
      " [15. 20.]]\n"
     ]
    }
   ],
   "source": [
    "from scipy import stats\n",
    "import numpy as np\n",
    "con_tab=np.array([[20,15],\n",
    "                  [10,25],\n",
    "                  [15,20]])\n",
    "chi2_stat,p_val,dof,exp=stats.chi2_contingency(con_tab)\n",
    "print(f\"Chi-square test statistic: {chi2_stat:.4f}\")\n",
    "print(f\"P-value: {p_val:.4f}\")\n",
    "print(\"Degrees of freedom:\", dof)\n",
    "print(\"Expected frequencies:\")\n",
    "print(exp)"
   ]
  },
  {
   "cell_type": "code",
   "execution_count": null,
   "id": "9cb368eb-10b4-45f7-8b1c-3a17b8e98918",
   "metadata": {},
   "outputs": [],
   "source": [
    "Q4. A study of the prevalence of smoking in a population of 500 individuals found that 60 individuals\n",
    "smoked. Use Python to calculate the 95% confidence interval for the true proportion of individuals in the\n",
    "population who smoke."
   ]
  },
  {
   "cell_type": "code",
   "execution_count": 4,
   "id": "76966f49-ec00-4e57-bd7b-dba931ef624e",
   "metadata": {},
   "outputs": [
    {
     "name": "stdout",
     "output_type": "stream",
     "text": [
      "The confidence interval lies between 0.107861982070971 0.132138017929029\n"
     ]
    }
   ],
   "source": [
    "import math\n",
    "from scipy.stats import norm\n",
    "population=500\n",
    "sample_size=60\n",
    "p=sample_size/population\n",
    "ci=0.95\n",
    "a=1-ci\n",
    "z_score=norm.cdf(ci+a/2)\n",
    "moe=z_score*math.sqrt(p*(1-p)/population)\n",
    "lbound=p-moe\n",
    "ubound=p+moe\n",
    "print('The confidence interval lies between',lbound,ubound)"
   ]
  },
  {
   "cell_type": "code",
   "execution_count": null,
   "id": "cc339fab-d920-477d-a1d4-b95e0118613b",
   "metadata": {},
   "outputs": [],
   "source": [
    "Q5. Calculate the 90% confidence interval for a sample of data with a mean of 75 and a standard deviation\n",
    "of 12 using Python. Interpret the results."
   ]
  },
  {
   "cell_type": "code",
   "execution_count": 5,
   "id": "e07bae04-ee82-437c-880c-271ea626b3df",
   "metadata": {},
   "outputs": [
    {
     "name": "stdout",
     "output_type": "stream",
     "text": [
      "The confidence interval lies between 71.39630625889797 78.60369374110203\n"
     ]
    }
   ],
   "source": [
    "from scipy.stats import norm\n",
    "mean=75\n",
    "s=12\n",
    "ci=0.90\n",
    "a=1-ci\n",
    "n=30 #assume\n",
    "z_sc=norm.ppf(ci+a/2)\n",
    "moe=z_sc*(s/(n**0.5))\n",
    "lbound=mean-moe\n",
    "ubound=mean+moe\n",
    "print('The confidence interval lies between',lbound,ubound)"
   ]
  },
  {
   "cell_type": "code",
   "execution_count": null,
   "id": "adccf91c-31a6-46f8-90e9-521cdbff5689",
   "metadata": {},
   "outputs": [],
   "source": [
    "Q6. Use Python to plot the chi-square distribution with 10 degrees of freedom. Label the axes and shade the\n",
    "area corresponding to a chi-square statistic of 15."
   ]
  },
  {
   "cell_type": "code",
   "execution_count": 1,
   "id": "24004d0f-1314-497b-895c-41b312390aab",
   "metadata": {},
   "outputs": [
    {
     "data": {
      "image/png": "[encoded data removed]",
      "text/plain": [
       "<Figure size 800x600 with 1 Axes>"
      ]
     },
     "metadata": {},
     "output_type": "display_data"
    }
   ],
   "source": [
    "import numpy as np\n",
    "import matplotlib.pyplot as plt\n",
    "import scipy.stats as stats\n",
    "x=np.linspace(0,30,500)\n",
    "df=10\n",
    "y=stats.chi2.pdf(x,df)\n",
    "plt.figure(figsize=(8,6))\n",
    "plt.plot(x,y,label=f'Chi-Square Distribution (df={df})')\n",
    "x_shade=np.linspace(15,30,500)\n",
    "y_shade=stats.chi2.pdf(x_shade,df)\n",
    "plt.fill_between(x_shade,y_shade,color='blue',alpha=0.5,label='Area (Chi-square > 15)')\n",
    "plt.xlabel('Chi square statistic')\n",
    "plt.ylabel('Probability Density')\n",
    "plt.title(f'Chi-square distribution with {df} Degrees of Freedom')\n",
    "plt.legend()\n",
    "plt.grid(True)\n",
    "plt.show()"
   ]
  },
  {
   "cell_type": "code",
   "execution_count": null,
   "id": "1ad153f4-bed4-469f-ab48-c569104851ed",
   "metadata": {},
   "outputs": [],
   "source": [
    "Q7. A random sample of 1000 people was asked if they preferred Coke or Pepsi. Of the sample, 520\n",
    "preferred Coke. Calculate a 99% confidence interval for the true proportion of people in the population who\n",
    "prefer Coke."
   ]
  },
  {
   "cell_type": "code",
   "execution_count": 2,
   "id": "7c3572f5-f950-43c8-b230-cbc1a86d857f",
   "metadata": {},
   "outputs": [
    {
     "name": "stdout",
     "output_type": "stream",
     "text": [
      "The confidence interval for sample data is 479.3051576779699 560.6948423220301\n"
     ]
    }
   ],
   "source": [
    "from scipy.stats import norm\n",
    "import numpy as np\n",
    "p=520/1000\n",
    "ci=0.99\n",
    "a=1-ci\n",
    "n=1000\n",
    "se=np.sqrt(p*(1-p)/n)\n",
    "z_sc=norm.ppf(ci+a/2)\n",
    "moe=z_sc*se\n",
    "lbound=p-moe\n",
    "ubound=p+moe\n",
    "lbound=lbound*1000\n",
    "ubound=ubound*1000\n",
    "print('The confidence interval for sample data is',lbound,ubound)"
   ]
  },
  {
   "cell_type": "code",
   "execution_count": null,
   "id": "6035495a-49fa-4165-8ed6-954ae2d54e2d",
   "metadata": {},
   "outputs": [],
   "source": [
    "Q8. A researcher hypothesizes that a coin is biased towards tails. They flip the coin 100 times and observe\n",
    "45 tails. Conduct a chi-square goodness of fit test to determine if the observed frequencies match the\n",
    "expected frequencies of a fair coin. Use a significance level of 0.05."
   ]
  },
  {
   "cell_type": "code",
   "execution_count": 5,
   "id": "eb1e7a6d-cc5d-453d-ac9f-84dc6d9804c8",
   "metadata": {},
   "outputs": [
    {
     "name": "stdout",
     "output_type": "stream",
     "text": [
      "Chi-square test statistic: 1.0000\n",
      "Critical - value: 3.8415\n",
      "Fail to reject the null hypothesis.\n",
      "The coin is not biased towards tails.\n"
     ]
    }
   ],
   "source": [
    "import numpy as np\n",
    "from scipy import stats\n",
    "flips=100\n",
    "obstail=45\n",
    "exptail=50\n",
    "exphead=50\n",
    "chi2=(obstail-exptail)**2/exptail + (flips-obstail-exphead)**2/exphead\n",
    "df=1\n",
    "a=0.05\n",
    "ci=1-a\n",
    "crt_val=stats.chi2.ppf(ci,df)\n",
    "print(f\"Chi-square test statistic: {chi2:.4f}\")\n",
    "print(f\"Critical - value: {crt_val:.4f}\")\n",
    "if crt_val < chi2:\n",
    "    print(\"Reject the null hypothesis.\")\n",
    "    print(\"The coin is biased towards tails.\")\n",
    "else:\n",
    "    print(\"Fail to reject the null hypothesis.\")\n",
    "    print(\"The coin is not biased towards tails.\")"
   ]
  },
  {
   "cell_type": "code",
   "execution_count": null,
   "id": "c510e943-f2b3-45d5-939d-6fb3c64beb1c",
   "metadata": {},
   "outputs": [],
   "source": [
    "Q9. A study was conducted to determine if there is an association between smoking status (smoker or\n",
    "non-smoker) and lung cancer diagnosis (yes or no). The results are shown in the contingency table below.\n",
    "Conduct a chi-square test for independence to determine if there is a significant association between\n",
    "smoking status and lung cancer diagnosis. Significance value = 0.05\n",
    "                    Lung cancer - Yes                        Lung cancer - No\n",
    "        Smoker             60                                       140\n",
    "        Non - Smoker       30                                       170"
   ]
  },
  {
   "cell_type": "code",
   "execution_count": 7,
   "id": "b02d3c89-a55f-48cf-b3b0-1040c1af4a98",
   "metadata": {},
   "outputs": [
    {
     "name": "stdout",
     "output_type": "stream",
     "text": [
      "Chi-square test statistic: 12.0573\n",
      "P-value: 0.0005\n",
      "Degrees of freedom: 1\n",
      "Expected frequencies:\n",
      "[[ 45. 155.]\n",
      " [ 45. 155.]]\n",
      "There is a significant association between smoking status and lung cancer diagnosis.\n"
     ]
    }
   ],
   "source": [
    "from scipy import stats\n",
    "import numpy as np\n",
    "con_tab=np.array([[60,140],\n",
    "                  [30,170]])\n",
    "chi2_stat,p_val,dof,exp=stats.chi2_contingency(con_tab)\n",
    "print(f\"Chi-square test statistic: {chi2_stat:.4f}\")\n",
    "print(f\"P-value: {p_val:.4f}\")\n",
    "print(\"Degrees of freedom:\", dof)\n",
    "print(\"Expected frequencies:\")\n",
    "print(exp)\n",
    "a=0.05\n",
    "if p_val < a:\n",
    "    print(\"There is a significant association between smoking status and lung cancer diagnosis.\")\n",
    "else:\n",
    "    print(\"There is no significant association between smoking status and lung cancer diagnosis.\")"
   ]
  },
  {
   "cell_type": "code",
   "execution_count": null,
   "id": "31818e14-aeb8-45d4-8b42-cbacbe615605",
   "metadata": {},
   "outputs": [],
   "source": [
    "Q10. A study was conducted to determine if the proportion of people who prefer milk chocolate, dark\n",
    "chocolate, or white chocolate is different in the U.S. versus the U.K. A random sample of 500 people from\n",
    "the U.S. and a random sample of 500 people from the U.K. were surveyed. The results are shown in the\n",
    "contingency table below. Conduct a chi-square test for independence to determine if there is a significant\n",
    "association between chocolate preference and country of origin. alpha = 0.01\n",
    "                                Milk              Dark             White\n",
    "                US              200               150              150\n",
    "                UK              225               175              100"
   ]
  },
  {
   "cell_type": "code",
   "execution_count": 8,
   "id": "41cda6d1-abe1-4268-b398-fc0bd0b4ceb9",
   "metadata": {},
   "outputs": [
    {
     "name": "stdout",
     "output_type": "stream",
     "text": [
      "Chi-square test statistic: 13.3937\n",
      "P-value: 0.0012\n",
      "Degrees of freedom: 2\n",
      "Expected frequencies:\n",
      "[[212.5 162.5 125. ]\n",
      " [212.5 162.5 125. ]]\n",
      "There is a significant association between chocolate preference and country of origin.\n"
     ]
    }
   ],
   "source": [
    "import numpy as np\n",
    "from scipy import stats\n",
    "con_table=np.array([[200,150,150],\n",
    "                    [225,175,100]])\n",
    "chi2,p,dof,exp=stats.chi2_contingency(con_table)\n",
    "a=0.01\n",
    "print(f\"Chi-square test statistic: {chi2:.4f}\")\n",
    "print(f\"P-value: {p:.4f}\")\n",
    "print(\"Degrees of freedom:\", dof)\n",
    "print(\"Expected frequencies:\")\n",
    "print(exp)\n",
    "a=0.05\n",
    "if p < a:\n",
    "    print(\"There is a significant association between chocolate preference and country of origin.\")\n",
    "else:\n",
    "    print(\"There is no significant association between chocolate preference and country of origin.\")"
   ]
  },
  {
   "cell_type": "code",
   "execution_count": null,
   "id": "45e423d2-cffe-4990-a66e-fdc531597ded",
   "metadata": {},
   "outputs": [],
   "source": [
    "Q11. A random sample of 30 people was selected from a population with an unknown mean and standard\n",
    "deviation. The sample mean was found to be 72 and the sample standard deviation was found to be 10.\n",
    "Conduct a hypothesis test to determine if the population mean is significantly different from 70. Use a\n",
    "significance level of 0.05."
   ]
  },
  {
   "cell_type": "code",
   "execution_count": 11,
   "id": "e1079ca5-4cb4-48b0-8c8e-d9b0b24cf349",
   "metadata": {},
   "outputs": [
    {
     "name": "stdout",
     "output_type": "stream",
     "text": [
      "1.0954451150103321\n",
      "2.045229642132703\n",
      "Accept the null hypothesis\n",
      "The population mean is not different from 70\n"
     ]
    }
   ],
   "source": [
    "from scipy import stats\n",
    "import numpy as np\n",
    "n=30\n",
    "sm=72\n",
    "s=10\n",
    "mean=70\n",
    "a=0.05\n",
    "ci=1-a\n",
    "df=n-1\n",
    "t_stat=(sm-mean)/(s/np.sqrt(n))\n",
    "crt_val=stats.t.ppf(ci+a/2,df)\n",
    "print(t_stat)\n",
    "print(crt_val)\n",
    "if abs(t_stat)>crt_val:\n",
    "    print('Reject null hypothesis')\n",
    "    print('The population mean is different from 70')\n",
    "else:\n",
    "    print('Accept the null hypothesis')\n",
    "    print('The population mean is not different from 70')"
   ]
  },
  {
   "cell_type": "code",
   "execution_count": null,
   "id": "eadcfb47-91ba-421d-a8e8-2a2556e15460",
   "metadata": {},
   "outputs": [],
   "source": []
  }
 ],
 "metadata": {
  "kernelspec": {
   "display_name": "Python 3 (ipykernel)",
   "language": "python",
   "name": "python3"
  },
  "language_info": {
   "codemirror_mode": {
    "name": "ipython",
    "version": 3
   },
   "file_extension": ".py",
   "mimetype": "text/x-python",
   "name": "python",
   "nbconvert_exporter": "python",
   "pygments_lexer": "ipython3",
   "version": "3.10.8"
  }
 },
 "nbformat": 4,
 "nbformat_minor": 5
}
