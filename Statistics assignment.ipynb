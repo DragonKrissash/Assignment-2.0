{
 "cells": [
  {
   "cell_type": "code",
   "execution_count": null,
   "id": "d4c5931e-39b9-4838-9382-4866c8a3cfa0",
   "metadata": {},
   "outputs": [],
   "source": [
    "Q1. What is Statistics?"
   ]
  },
  {
   "cell_type": "code",
   "execution_count": null,
   "id": "1bc4c6a6-b51a-4aa0-aa6c-42d79cb57b39",
   "metadata": {},
   "outputs": [],
   "source": [
    "A1. Statistics is a branch of mathematics that deals with collection, analysis, interpretation, presentation\n",
    "    and organizing the data. It involves methods to gather data, analyze and make evidence based predictions.\n",
    "    Statistics plays a important role in day to day life, it helps scientists, decision-makers to analyze data\n",
    "    find out trends and make calculated predictions."
   ]
  },
  {
   "cell_type": "code",
   "execution_count": null,
   "id": "a0a3f1cf-0552-4384-a6ae-2ea834d275d3",
   "metadata": {},
   "outputs": [],
   "source": [
    "Q2. Define the different types of statistics and give an example of when each type might be used."
   ]
  },
  {
   "cell_type": "code",
   "execution_count": null,
   "id": "225b241b-39c5-47bd-b6b5-2c49c27ba794",
   "metadata": {},
   "outputs": [],
   "source": [
    "A2. Descriptive statistics: This involves analysis and summary of the data to provide descriptions of the main \n",
    "    features of the data. It aims to present data in clear and concise manner. It involves central tendency like\n",
    "    mean, median, mode, measures of variability or dispersion like standard deviation and variance, and data \n",
    "    visualisation like bar graphs, histograms.\n",
    "    Eg: If a school principal wants to know the average marks of a class X student, he collects the data from\n",
    "        respective classes, finds their mean and gets the average marks of a student.\n",
    "    \n",
    "    Inferential statistics: This involves making inferences, decisions, calculations of population data based\n",
    "    on the sample data present. It uses probability and mathematical methods to make calculations about a \n",
    "    larger population.\n",
    "    Eg: Suppose Mr.Beast, youtube content creator wants to change his content, he will not do it immediately, first \n",
    "        he will make some changes in his content, produce new content and sees the response he gets on it,\n",
    "        whether he is getting likes, dislikes, new subs etc and make inferences based on the sample content he\n",
    "        made and take his final decision to change his content or not."
   ]
  },
  {
   "cell_type": "code",
   "execution_count": null,
   "id": "265a6b89-a80f-40ec-be7d-513bb9945e31",
   "metadata": {},
   "outputs": [],
   "source": [
    "Q3. What are the different types of data and how do they differ from each other? Provide an example of each \n",
    "    type of data."
   ]
  },
  {
   "cell_type": "code",
   "execution_count": null,
   "id": "0c7ec0b9-12a4-467d-aab9-029ddc231c98",
   "metadata": {},
   "outputs": [],
   "source": [
    "A3. The data can be categorise into Qualitative and Quantitative which are further categorised below:\n",
    "    Qualitative:\n",
    "        Nominal: This data is not numerical and consists of categories or labels, that do not have any order\n",
    "                 or rank. Eg: Names of students enrolled in data science masters course.\n",
    "        \n",
    "        Ordinal: This data is also not numerical and is of categories or labels but consists natural order or\n",
    "                 ranking. We can compare this data but cannot find the exact measurement.\n",
    "                 Eg: Grading of class 8 students behaviour as, excellent, good, satisfactory and poor.\n",
    "                \n",
    "    Quantitative:\n",
    "        Discrete: This is exact measurement of data. It has numerical values where the values have meaning.\n",
    "                  Eg: The salaries of employees working in pwskills, where each and every employee has specific\n",
    "                      salary amount given based on their education, skills, experience.\n",
    "        \n",
    "        Continuous: These are the data which are numerical but have equal intervals between them. \n",
    "                    Eg: In a gym, body mass index is measured for a interval of weights of a person and are not\n",
    "                        displayed for a particular weight."
   ]
  },
  {
   "cell_type": "code",
   "execution_count": null,
   "id": "ac2ca741-4484-42ec-b669-98249323bf6e",
   "metadata": {},
   "outputs": [],
   "source": [
    "Q4. Categorise the following datasets with respect to quantitative and qualitative data types:\n",
    "(i) Grading in exam: A+, A, B+, B, C+, C, D, E\n",
    "(ii) Colour of mangoes: yellow, green, orange, red\n",
    "(iii) Height data of a class: [178.9, 179, 179.5, 176, 177.2, 178.3, 175.8,...]\n",
    "(iv) Number of mangoes exported by a farm: [500, 600, 478, 672, ...]"
   ]
  },
  {
   "cell_type": "code",
   "execution_count": null,
   "id": "550f6b8b-58f9-47f8-8a61-ff3d873439ce",
   "metadata": {},
   "outputs": [],
   "source": [
    "A4. i) ordinal ii) nominal iii) discrete iv) discrete"
   ]
  },
  {
   "cell_type": "code",
   "execution_count": null,
   "id": "9f7a9689-1f43-43b4-b1d3-338b322ff97a",
   "metadata": {},
   "outputs": [],
   "source": [
    "Q5. Explain the concept of levels of measurement and give an example of a variable for each level.]\n",
    "A5. The levels of measurement are same like nominal, ordinal, discrete and continuous.\n",
    "    Nominal - the data which are categories and have only labels.\n",
    "              Eg: gender of person, colours of flowers.\n",
    "    Ordinal - The data which are categories but have some value of ranking or order.\n",
    "              Eg: Grades of students like excellent, good, satisfactory and poor\n",
    "    Discrete - The data which are numerical and have exact values or measurement.\n",
    "               Eg: Salaries of employees working in a company which is based on their education, experience.\n",
    "    Continuous - The data which is numerical but in a range of numerical values.\n",
    "                 Eg: The amount of thyroxine in a healthy person depends person to person and is in a range\n",
    "                     rather than fixed amount."
   ]
  },
  {
   "cell_type": "code",
   "execution_count": null,
   "id": "d60dd6a1-a895-482e-a398-3c78265c2d8e",
   "metadata": {},
   "outputs": [],
   "source": [
    "Q6. Why is it important to understand the level of measurement when analyzing data? Provide an example to \n",
    "    illustrate your answer."
   ]
  },
  {
   "cell_type": "code",
   "execution_count": null,
   "id": "b6a1f87c-ba5e-481d-8d65-64acf7b86bd0",
   "metadata": {},
   "outputs": [],
   "source": [
    "A6. It is very important to understand the level of measurement when analyzing data as the level of measurement\n",
    "    helps the scientists and data analysts to perform necessary functions which can be applied on a certain\n",
    "    data for its interpretation, calculation and prediction.\n",
    "    Eg: If there are some people, and we need to find the healthy blood pressure levels in a person. There is\n",
    "        no fixed blood pressure but varies person to person. Even if two people are healthy, their blood pressure\n",
    "        will not be same but will be close to each other or we can say that it will be in a certain range. Here \n",
    "        the data type of sample data will be continuous and we can't make a mistake by saying it will be discrete\n",
    "        and fix one level as another person might have different level and be still healthy. We can't say other \n",
    "        person is not healthy. Hence we need to understand the level of measurement."
   ]
  },
  {
   "cell_type": "code",
   "execution_count": null,
   "id": "c43ec5f7-b9df-499f-80a5-10c3ed458d1a",
   "metadata": {},
   "outputs": [],
   "source": [
    "Q7. How nominal data type is different from ordinal data type."
   ]
  },
  {
   "cell_type": "code",
   "execution_count": null,
   "id": "864e6d85-1b3d-4d19-9016-21cfeaf48f92",
   "metadata": {},
   "outputs": [],
   "source": [
    "A7. Nominal data type and ordinal data type both are not numerical values and are categories or labels of data.\n",
    "    Nominal data type are basic labels like names of people where there is no ranking or order to compare between\n",
    "    each other. While Ordinal data type have certain order or some value to be compared between each other like\n",
    "    the reviews of a customer from amazon as great, good, satisfactory, poor."
   ]
  },
  {
   "cell_type": "code",
   "execution_count": null,
   "id": "56e94416-a85a-480b-ad79-c32bb7d9a0eb",
   "metadata": {},
   "outputs": [],
   "source": [
    "Q8. Which type of plot can be used to display data in terms of range?"
   ]
  },
  {
   "cell_type": "code",
   "execution_count": null,
   "id": "2d670a26-bdc8-4717-9fc9-b68cc85895c8",
   "metadata": {},
   "outputs": [],
   "source": [
    "A8. Box plot or box and whisker plot can be used to plot data in terms of range."
   ]
  },
  {
   "cell_type": "code",
   "execution_count": null,
   "id": "b50a07c0-7e60-41a3-b213-afde32b59e69",
   "metadata": {},
   "outputs": [],
   "source": [
    "Q9. Describe the difference between descriptive and inferential statistics. Give an example of each\n",
    "    type of statistics and explain how they are used."
   ]
  },
  {
   "cell_type": "code",
   "execution_count": null,
   "id": "70cb39cd-fe35-4e9b-bfed-b0b3db0bd97f",
   "metadata": {},
   "outputs": [],
   "source": [
    "A9. Descriptive data involves summarising and describing the main features of numerical data like mean, median\n",
    "    mode. Descriptive statistics provide a snapshot or overview of the data, allowing researchers to \n",
    "    understand its central tendencies, variability, and distribution. It does not involve making inferences or \n",
    "    generalizations beyond the data itself.\n",
    "    Eg: The marks of class 10 students are perfect example for descriptive data. The principal of a school can\n",
    "        know the mean of the marks, maximum, minimum, median, mode, upper quartile etc.\n",
    "        \n",
    "    Inferential statistics involves drawing conclusions or making inferences about a larger population based \n",
    "    on a sample of data. It uses probability theory and statistical techniques to make predictions, \n",
    "    test hypotheses, and generalize findings from a sample to a larger population. \n",
    "    Eg: When a new drug is made in a hospital, they first test it on some patients, and tell few that they were\n",
    "        given rather than really giving, creating a placebo effect. The result which they get after testing is\n",
    "        used to draw conclusions and make decisions."
   ]
  },
  {
   "cell_type": "code",
   "execution_count": null,
   "id": "934f993f-4894-43f5-8600-7f4d96780307",
   "metadata": {},
   "outputs": [],
   "source": [
    "Q10. What are some common measures of central tendency and variability used in statistics? Explain how each \n",
    "     measure can be used to describe a dataset."
   ]
  },
  {
   "cell_type": "code",
   "execution_count": null,
   "id": "5b884d95-29f9-4c11-a999-9dffbbac9b72",
   "metadata": {},
   "outputs": [],
   "source": [
    "A10. Mean - It is the average value of the dataset calculated by summing all the values and dividing by no of\n",
    "            values present. \n",
    "     Median - It is the middle value of a set when it is arranged in ascending or descending order.\n",
    "     Mode - It is the value which is occuring most number of times in a set.\n",
    "    \n",
    "     Range - It is the difference between the maximum and minimum of a data set.\n",
    "     Variance - The variance is the average squared deviation from the mean. It quantifies the dispersion or \n",
    "                spread of the data. A larger variance indicates greater variability, while a smaller variance \n",
    "                indicates less variability.\n",
    "     Standard deviation - It is the square root of variance and provides the average deviation from mean."
   ]
  }
 ],
 "metadata": {
  "kernelspec": {
   "display_name": "Python 3 (ipykernel)",
   "language": "python",
   "name": "python3"
  },
  "language_info": {
   "codemirror_mode": {
    "name": "ipython",
    "version": 3
   },
   "file_extension": ".py",
   "mimetype": "text/x-python",
   "name": "python",
   "nbconvert_exporter": "python",
   "pygments_lexer": "ipython3",
   "version": "3.10.8"
  }
 },
 "nbformat": 4,
 "nbformat_minor": 5
}
