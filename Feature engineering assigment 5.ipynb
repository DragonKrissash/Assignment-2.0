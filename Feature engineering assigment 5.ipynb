{
 "cells": [
  {
   "cell_type": "code",
   "execution_count": null,
   "id": "4d65677b-8ea3-4c52-95c4-32414ee7135e",
   "metadata": {},
   "outputs": [],
   "source": [
    "Q1. Pearson correlation coefficient is a measure of the linear relationship between two variables. Suppose\n",
    "you have collected data on the amount of time students spend studying for an exam and their final exam\n",
    "scores. Calculate the Pearson correlation coefficient between these two variables and interpret the result."
   ]
  },
  {
   "cell_type": "code",
   "execution_count": 5,
   "id": "a9cadb23-2c08-4ca3-bd11-7244dce20314",
   "metadata": {},
   "outputs": [
    {
     "name": "stdout",
     "output_type": "stream",
     "text": [
      "Pearson correlation coefficient: 0.9918586799648312\n"
     ]
    }
   ],
   "source": [
    "import pandas as pd\n",
    "from scipy.stats import pearsonr\n",
    "data = {\n",
    "    \"Time Spent Studying\": [10, 8, 5, 12, 7, 6, 9, 11],\n",
    "    \"Final Exam Score\": [85, 78, 60, 92, 70, 65, 80, 88],\n",
    "}\n",
    "df=pd.DataFrame(data)\n",
    "pear_corr, _=pearsonr(df['Time Spent Studying'],df['Final Exam Score'])\n",
    "print('Pearson correlation coefficient:',pear_corr)"
   ]
  },
  {
   "cell_type": "code",
   "execution_count": null,
   "id": "73e382e7-6eb5-4e14-bb29-fb7299c2fd9f",
   "metadata": {},
   "outputs": [],
   "source": [
    "Q2. Spearman's rank correlation is a measure of the monotonic relationship between two variables.\n",
    "Suppose you have collected data on the amount of sleep individuals get each night and their overall job\n",
    "satisfaction level on a scale of 1 to 10. Calculate the Spearman's rank correlation between these two\n",
    "variables and interpret the result."
   ]
  },
  {
   "cell_type": "code",
   "execution_count": 9,
   "id": "538c4c6e-becc-4d7f-811d-8fc76ff10cb0",
   "metadata": {},
   "outputs": [
    {
     "name": "stdout",
     "output_type": "stream",
     "text": [
      "Spearman Rank Coefficient correlation: 1.0\n"
     ]
    }
   ],
   "source": [
    "from scipy.stats import spearmanr\n",
    "data = {\n",
    "    \"Amount of Sleep\": [7, 5, 6, 8, 4, 7, 6, 6],\n",
    "    \"Job Satisfaction Level\": [8, 6, 7, 9, 5, 8, 7, 7],\n",
    "}\n",
    "df=pd.DataFrame(data)\n",
    "spear_corr, _=spearmanr(df['Amount of Sleep'],df['Job Satisfaction Level'])\n",
    "print('Spearman Rank Coefficient correlation:',spear_corr)"
   ]
  },
  {
   "cell_type": "code",
   "execution_count": null,
   "id": "6e722233-9f6d-4037-bcf2-4ffc76ab2885",
   "metadata": {},
   "outputs": [],
   "source": [
    "Q3. Suppose you are conducting a study to examine the relationship between the number of hours of\n",
    "exercise per week and body mass index (BMI) in a sample of adults. You collected data on both variables\n",
    "for 50 participants. Calculate the Pearson correlation coefficient and the Spearman's rank correlation\n",
    "between these two variables and compare the results."
   ]
  },
  {
   "cell_type": "code",
   "execution_count": 13,
   "id": "0346fd81-4053-4bc8-85d5-ba56c0c253d5",
   "metadata": {},
   "outputs": [],
   "source": [
    "from scipy.stats import pearsonr\n",
    "from scipy.stats import spearmanr\n",
    "import pandas as pd\n",
    "data = {\n",
    "    \"Hours of Exercise\": [4, 3, 5, 6, 2, 5, 4, 3, 6, 7, \n",
    "                          2, 5, 3, 4, 6, 5, 2, 4, 3, 5, \n",
    "                          6, 7, 3, 4, 5, 6, 3, 2, 5, 4, \n",
    "                          3, 6, 7, 2, 4, 5, 3, 6, 5, 2, \n",
    "                          4, 3, 5, 6, 7, 3, 4, 2, 5, 4],\n",
    "    \"BMI\": [24.5, 28.1, 22.3, 26.8, 30.2, 23.7, 25.6, 27.3, 21.9, 29.5, \n",
    "            26.1, 24.8, 27.6, 23.5, 25.4, 29.0, 24.9, 26.5, 27.8, 23.1, \n",
    "            25.7, 29.9, 23.8, 25.5, 26.9, 28.3, 23.4, 27.1, 24.7, 26.2, \n",
    "            25.8, 22.6, 28.5, 25.3, 23.9, 27.7, 29.1, 25.9, 22.8, 26.6, \n",
    "            28.2, 24.6, 26.4, 23.2, 27.4, 22.4, 25.2, 28.4, 24.3, 26.0]\n",
    "}\n",
    "df=pd.DataFrame(data)"
   ]
  },
  {
   "cell_type": "code",
   "execution_count": 14,
   "id": "9edca594-278a-4195-b3e3-8e88c21e392d",
   "metadata": {},
   "outputs": [
    {
     "name": "stdout",
     "output_type": "stream",
     "text": [
      "Pearson correlation: -0.026349696883628634\n",
      "Spearman correlation: -0.05290150251136403\n"
     ]
    }
   ],
   "source": [
    "pear, _=pearsonr(df['Hours of Exercise'],df['BMI'])\n",
    "spear, _=spearmanr(df['Hours of Exercise'],df['BMI'])\n",
    "print('Pearson correlation:',pear)\n",
    "print('Spearman correlation:',spear)"
   ]
  },
  {
   "cell_type": "code",
   "execution_count": null,
   "id": "4fa2bcd7-fa1c-4328-b2d8-e8a3fb5c33c4",
   "metadata": {},
   "outputs": [],
   "source": [
    "Q4. A researcher is interested in examining the relationship between the number of hours individuals\n",
    "spend watching television per day and their level of physical activity. The researcher collected data on\n",
    "both variables from a sample of 50 participants. Calculate the Pearson correlation coefficient between\n",
    "these two variables."
   ]
  },
  {
   "cell_type": "code",
   "execution_count": 16,
   "id": "42d13dc9-7fa9-451a-87c7-2eb985e31dee",
   "metadata": {},
   "outputs": [
    {
     "name": "stdout",
     "output_type": "stream",
     "text": [
      "Pearson correlation: -0.8755926759444068\n"
     ]
    }
   ],
   "source": [
    "from scipy.stats import pearsonr\n",
    "import pandas as pd\n",
    "data = {\n",
    "    \"Hours of Television\": [2, 1, 3, 4, 5, 3, 2, 1, 4, 5,\n",
    "                            2, 3, 1, 2, 4, 3, 5, 4, 3, 2,\n",
    "                            4, 5, 3, 2, 1, 4, 2, 3, 1, 2,\n",
    "                            3, 4, 5, 1, 3, 2, 4, 5, 3, 2,\n",
    "                            1, 4, 3, 2, 5, 4, 3, 1, 2, 5],\n",
    "    \"Physical Activity\": [30, 45, 20, 10, 5, 15, 25, 40, 10, 5,\n",
    "                         30, 20, 40, 25, 10, 15, 5, 10, 20, 25,\n",
    "                         10, 5, 15, 25, 40, 10, 20, 15, 30, 25,\n",
    "                         20, 10, 5, 40, 20, 25, 10, 5, 15, 20,\n",
    "                         30, 10, 15, 5, 20, 10, 15, 25, 30, 5]\n",
    "}\n",
    "df=pd.DataFrame(data)\n",
    "pear, _=pearsonr(df['Hours of Television'],df['Physical Activity'])\n",
    "print('Pearson correlation:',pear)"
   ]
  },
  {
   "cell_type": "code",
   "execution_count": null,
   "id": "b6b8ac5d-8a6f-4ca9-8d97-94067d3eecd0",
   "metadata": {},
   "outputs": [],
   "source": [
    "Q5. A survey was conducted to examine the relationship between age and preference for a particular\n",
    "brand of soft drink. The survey results are shown below:\n",
    "    \n",
    "    Age(Years)          Soft Drink\n",
    "        25                 Coke\n",
    "        42                 Pepsi\n",
    "        37                 Mountain dew\n",
    "        19                 Coke\n",
    "        31                 Pepsi\n",
    "        28                 Coke"
   ]
  },
  {
   "cell_type": "code",
   "execution_count": null,
   "id": "b063ff3a-ce93-4080-be81-09a4dd41ba0f",
   "metadata": {},
   "outputs": [],
   "source": [
    "The question is incomplete"
   ]
  },
  {
   "cell_type": "code",
   "execution_count": null,
   "id": "267ba5a8-6aa1-41ab-be70-adfba280d4dc",
   "metadata": {},
   "outputs": [],
   "source": [
    "Q6. A company is interested in examining the relationship between the number of sales calls made per day\n",
    "and the number of sales made per week. The company collected data on both variables from a sample of\n",
    "30 sales representatives. Calculate the Pearson correlation coefficient between these two variables."
   ]
  },
  {
   "cell_type": "code",
   "execution_count": 19,
   "id": "bcb6f125-1a4c-4143-b894-e69b096af829",
   "metadata": {},
   "outputs": [
    {
     "name": "stdout",
     "output_type": "stream",
     "text": [
      "Pearson correlation: 0.9664521727775037\n"
     ]
    }
   ],
   "source": [
    "import pandas as pd\n",
    "from scipy.stats import pearsonr\n",
    "data = {\n",
    "    \"Sales Calls per Day\": [25, 20, 30, 18, 22, 27, 23, 19, 24, 28,\n",
    "                            26, 21, 29, 17, 20, 22, 25, 23, 19, 27,\n",
    "                            18, 22, 21, 26, 30, 29, 17, 28, 24, 19],\n",
    "    \"Sales per Week\": [150, 120, 170, 110, 140, 160, 130, 125, 140, 165,\n",
    "                       150, 135, 180, 105, 130, 140, 155, 135, 120, 155,\n",
    "                       100, 125, 135, 160, 185, 180, 95, 170, 140, 115]\n",
    "}\n",
    "df=pd.DataFrame(data)\n",
    "pear, _=pearsonr(df['Sales Calls per Day'],df['Sales per Week'])\n",
    "print('Pearson correlation:',pear)"
   ]
  },
  {
   "cell_type": "code",
   "execution_count": null,
   "id": "2a356f80-4278-4197-b792-2827c4b31bb2",
   "metadata": {},
   "outputs": [],
   "source": []
  }
 ],
 "metadata": {
  "kernelspec": {
   "display_name": "Python 3 (ipykernel)",
   "language": "python",
   "name": "python3"
  },
  "language_info": {
   "codemirror_mode": {
    "name": "ipython",
    "version": 3
   },
   "file_extension": ".py",
   "mimetype": "text/x-python",
   "name": "python",
   "nbconvert_exporter": "python",
   "pygments_lexer": "ipython3",
   "version": "3.10.8"
  }
 },
 "nbformat": 4,
 "nbformat_minor": 5
}
