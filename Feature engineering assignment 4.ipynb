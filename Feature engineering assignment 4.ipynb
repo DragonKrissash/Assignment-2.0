{
 "cells": [
  {
   "cell_type": "code",
   "execution_count": null,
   "id": "19442a19-21c7-49ed-b6fa-2f68c38320f5",
   "metadata": {},
   "outputs": [],
   "source": [
    "Q1. What is the difference between Ordinal Encoding and Label Encoding? Provide an example of when you\n",
    "might choose one over the other."
   ]
  },
  {
   "cell_type": "code",
   "execution_count": null,
   "id": "a6e84765-5470-4641-a7b8-594ec6598862",
   "metadata": {},
   "outputs": [],
   "source": [
    "A1. Ordinal encoding is used when there is a ranking or order among the categories. Label encoding is used \n",
    "    when there is no order or ranking among the categories. \n",
    "    Eg: If the grades of students are categorical data then I choose ordinal encoding like excellent, good,\n",
    "    satisfactory and poor. If colors are categorical data then I choose nominal encoding as there is no \n",
    "    ranking or order in them."
   ]
  },
  {
   "cell_type": "code",
   "execution_count": null,
   "id": "5ce075ca-3547-4fcb-b005-5881f3a11881",
   "metadata": {},
   "outputs": [],
   "source": [
    "Q2. Explain how Target Guided Ordinal Encoding works and provide an example of when you might use it in\n",
    "a machine learning project."
   ]
  },
  {
   "cell_type": "code",
   "execution_count": null,
   "id": "97ce9f41-85ab-4621-a1b2-9905ebe5142c",
   "metadata": {},
   "outputs": [],
   "source": [
    "A2. Target guided ordinal encoding is a technique used to encode categorical values based on their relation\n",
    "    with target variable in a supervised machine learning model. It assigns numeric values to each category\n",
    "    such that the order of the encoded values is determined by the target variable's mean or median value \n",
    "    for each category. \n",
    "    Eg: We are working on a loan default prediction project and one of the features is employment status \n",
    "    which can take on values like \"Employed\", \"Unemployed\", \"Self-Employed\", and \"Retired\". We now assign \n",
    "    ordinal values to them as 1, 2, 3, 4. Then the \"Employment Status\" feature is transformed into a \n",
    "    numerical format based on its relationship with the target variable \"Loan Default\"."
   ]
  },
  {
   "cell_type": "code",
   "execution_count": 1,
   "id": "95cb7b34-a1a7-4b60-aa02-cf9a54d64ef7",
   "metadata": {},
   "outputs": [],
   "source": [
    "import pandas as pd\n",
    "data={'Employment status':['Employed','Un-employed','Self employed','Retired'],\n",
    "      'Loan default mean':[0.15,0.45,0.25,0.05]}\n",
    "df=pd.DataFrame(data)"
   ]
  },
  {
   "cell_type": "code",
   "execution_count": 2,
   "id": "4ec0a01d-3306-4586-a421-e95d8c649155",
   "metadata": {},
   "outputs": [
    {
     "data": {
      "text/html": [
       "<div>\n",
       "<style scoped>\n",
       "    .dataframe tbody tr th:only-of-type {\n",
       "        vertical-align: middle;\n",
       "    }\n",
       "\n",
       "    .dataframe tbody tr th {\n",
       "        vertical-align: top;\n",
       "    }\n",
       "\n",
       "    .dataframe thead th {\n",
       "        text-align: right;\n",
       "    }\n",
       "</style>\n",
       "<table border=\"1\" class=\"dataframe\">\n",
       "  <thead>\n",
       "    <tr style=\"text-align: right;\">\n",
       "      <th></th>\n",
       "      <th>Employment status</th>\n",
       "      <th>Loan default mean</th>\n",
       "    </tr>\n",
       "  </thead>\n",
       "  <tbody>\n",
       "    <tr>\n",
       "      <th>0</th>\n",
       "      <td>Employed</td>\n",
       "      <td>0.15</td>\n",
       "    </tr>\n",
       "    <tr>\n",
       "      <th>1</th>\n",
       "      <td>Un-employed</td>\n",
       "      <td>0.45</td>\n",
       "    </tr>\n",
       "    <tr>\n",
       "      <th>2</th>\n",
       "      <td>Self employed</td>\n",
       "      <td>0.25</td>\n",
       "    </tr>\n",
       "    <tr>\n",
       "      <th>3</th>\n",
       "      <td>Retired</td>\n",
       "      <td>0.05</td>\n",
       "    </tr>\n",
       "  </tbody>\n",
       "</table>\n",
       "</div>"
      ],
      "text/plain": [
       "  Employment status  Loan default mean\n",
       "0          Employed               0.15\n",
       "1       Un-employed               0.45\n",
       "2     Self employed               0.25\n",
       "3           Retired               0.05"
      ]
     },
     "execution_count": 2,
     "metadata": {},
     "output_type": "execute_result"
    }
   ],
   "source": [
    "df"
   ]
  },
  {
   "cell_type": "code",
   "execution_count": 3,
   "id": "1a1d34a6-78dc-4caa-a2d3-235210f2397d",
   "metadata": {},
   "outputs": [],
   "source": [
    "emp_num=[2,4,3,1]\n",
    "df['Employment status Numerical']=emp_num"
   ]
  },
  {
   "cell_type": "code",
   "execution_count": 4,
   "id": "bea16a21-aa60-4a90-bbbf-1a9a5d0a10df",
   "metadata": {},
   "outputs": [
    {
     "data": {
      "text/html": [
       "<div>\n",
       "<style scoped>\n",
       "    .dataframe tbody tr th:only-of-type {\n",
       "        vertical-align: middle;\n",
       "    }\n",
       "\n",
       "    .dataframe tbody tr th {\n",
       "        vertical-align: top;\n",
       "    }\n",
       "\n",
       "    .dataframe thead th {\n",
       "        text-align: right;\n",
       "    }\n",
       "</style>\n",
       "<table border=\"1\" class=\"dataframe\">\n",
       "  <thead>\n",
       "    <tr style=\"text-align: right;\">\n",
       "      <th></th>\n",
       "      <th>Employment status</th>\n",
       "      <th>Loan default mean</th>\n",
       "      <th>Employment status Numerical</th>\n",
       "    </tr>\n",
       "  </thead>\n",
       "  <tbody>\n",
       "    <tr>\n",
       "      <th>0</th>\n",
       "      <td>Employed</td>\n",
       "      <td>0.15</td>\n",
       "      <td>2</td>\n",
       "    </tr>\n",
       "    <tr>\n",
       "      <th>1</th>\n",
       "      <td>Un-employed</td>\n",
       "      <td>0.45</td>\n",
       "      <td>4</td>\n",
       "    </tr>\n",
       "    <tr>\n",
       "      <th>2</th>\n",
       "      <td>Self employed</td>\n",
       "      <td>0.25</td>\n",
       "      <td>3</td>\n",
       "    </tr>\n",
       "    <tr>\n",
       "      <th>3</th>\n",
       "      <td>Retired</td>\n",
       "      <td>0.05</td>\n",
       "      <td>1</td>\n",
       "    </tr>\n",
       "  </tbody>\n",
       "</table>\n",
       "</div>"
      ],
      "text/plain": [
       "  Employment status  Loan default mean  Employment status Numerical\n",
       "0          Employed               0.15                            2\n",
       "1       Un-employed               0.45                            4\n",
       "2     Self employed               0.25                            3\n",
       "3           Retired               0.05                            1"
      ]
     },
     "execution_count": 4,
     "metadata": {},
     "output_type": "execute_result"
    }
   ],
   "source": [
    "df"
   ]
  },
  {
   "cell_type": "code",
   "execution_count": null,
   "id": "83273b94-7690-47a2-8879-a0735566cd78",
   "metadata": {},
   "outputs": [],
   "source": [
    "Q3. Define covariance and explain why it is important in statistical analysis. How is covariance calculated?"
   ]
  },
  {
   "cell_type": "code",
   "execution_count": null,
   "id": "f9893241-7faf-4ed8-843f-9c316c7e8d50",
   "metadata": {},
   "outputs": [],
   "source": [
    "A3. Covariance is a statistical measurement that quantifies the degree to which 2 variables are related to \n",
    "    each other. It indicates the direction of linear relationship between 2 variables. A positive covariance\n",
    "    tells us that as one variable increases the other also increases while negative variance tells us that\n",
    "    as one variable increases the other decreases. \n",
    "    Covariance is used in PCA to find the line of best fit while preserving as much data possible. \n",
    "    Covariance between dependent and independent variable helps determine the slope of regression line. \n",
    "    \n",
    "    The formula for covariance is: cov(X, Y) = Σ [(X_i - μ_X) * (Y_i - μ_Y)] / (n - 1)"
   ]
  },
  {
   "cell_type": "code",
   "execution_count": null,
   "id": "90ffb09d-cb0b-4d77-a94a-4a4fd33b407f",
   "metadata": {},
   "outputs": [],
   "source": [
    "Q4. For a dataset with the following categorical variables: Color (red, green, blue), Size (small, medium,\n",
    "large), and Material (wood, metal, plastic), perform label encoding using Python's scikit-learn library.\n",
    "Show your code and explain the output."
   ]
  },
  {
   "cell_type": "code",
   "execution_count": 9,
   "id": "f082f4b0-685e-42cc-ba8c-c914c0e573cb",
   "metadata": {},
   "outputs": [
    {
     "name": "stdout",
     "output_type": "stream",
     "text": [
      "Encoded Colors: [2 1 0 1 2]\n",
      "Encoded Sizes: [2 1 0 1 2]\n",
      "Encoded Materials: [2 0 1 1 0]\n"
     ]
    }
   ],
   "source": [
    "from sklearn.preprocessing import LabelEncoder\n",
    "colors = ['red', 'green', 'blue', 'green', 'red']\n",
    "sizes = ['small', 'medium', 'large', 'medium', 'small']\n",
    "materials = ['wood', 'metal', 'plastic', 'plastic', 'metal']\n",
    "color_encode=LabelEncoder()\n",
    "size_encode=LabelEncoder()\n",
    "material_encode=LabelEncoder()\n",
    "encoded_colors=color_encode.fit_transform(colors)\n",
    "encoded_sizes=size_encode.fit_transform(sizes)\n",
    "encoded_materials=material_encode.fit_transform(materials)\n",
    "print(\"Encoded Colors:\", encoded_colors)\n",
    "print(\"Encoded Sizes:\", encoded_sizes)\n",
    "print(\"Encoded Materials:\", encoded_materials)"
   ]
  },
  {
   "cell_type": "code",
   "execution_count": null,
   "id": "0c2568f1-57d5-4553-86c1-b64353612a1c",
   "metadata": {},
   "outputs": [],
   "source": [
    "Q5. Calculate the covariance matrix for the following variables in a dataset: Age, Income, and Education\n",
    "level. Interpret the results."
   ]
  },
  {
   "cell_type": "code",
   "execution_count": 16,
   "id": "9f97b2ed-fff9-4c5a-89cf-5a6f68463278",
   "metadata": {},
   "outputs": [
    {
     "name": "stdout",
     "output_type": "stream",
     "text": [
      "                Age       Income  Education\n",
      "Age            62.5     118750.0       25.0\n",
      "Income     118750.0  255000000.0    47500.0\n",
      "Education      25.0      47500.0       10.0\n"
     ]
    }
   ],
   "source": [
    "import pandas as pd\n",
    "Age = [35, 45, 30, 50, 40]      \n",
    "Income = [60000, 75000, 50000, 90000, 80000]\n",
    "Education = [12, 16, 10, 18, 14]\n",
    "df=pd.DataFrame({'Age':Age,'Income':Income,'Education':Education})\n",
    "cov_mat=df.cov()\n",
    "print(pd.DataFrame(cov_mat))"
   ]
  },
  {
   "cell_type": "code",
   "execution_count": null,
   "id": "c9290f6d-5f7b-4627-8309-265b8b2dc86e",
   "metadata": {},
   "outputs": [],
   "source": [
    "Q6. You are working on a machine learning project with a dataset containing several categorical\n",
    "variables, including \"Gender\" (Male/Female), \"Education Level\" (High School/Bachelor's/Master's/PhD),\n",
    "and \"Employment Status\" (Unemployed/Part-Time/Full-Time). Which encoding method would you use for\n",
    "each variable, and why?"
   ]
  },
  {
   "cell_type": "code",
   "execution_count": null,
   "id": "5671606d-24a7-4548-a8d8-095c7444190e",
   "metadata": {},
   "outputs": [],
   "source": [
    "A6. I would use one hot encoder for gender as it consists of only 2 categories male and female. The addition\n",
    "    of 2 columns would not make much difference. I would use Ordinal encoding for Education level as there is \n",
    "    a hierarchy in education level like PhD > Master's > Bachelor's > High School. I would again use Ordinal\n",
    "    encoding for Employment Status and give ranking in the order of Full-time > Part-time > Unemployed as\n",
    "    definitely full time worker is more preferred than part time and unemployed and goes on."
   ]
  },
  {
   "cell_type": "code",
   "execution_count": null,
   "id": "f2662bab-eec4-4d31-b839-0240465a697b",
   "metadata": {},
   "outputs": [],
   "source": [
    "Q7. You are analyzing a dataset with two continuous variables, \"Temperature\" and \"Humidity\", and two\n",
    "categorical variables, \"Weather Condition\" (Sunny/Cloudy/Rainy) and \"Wind Direction\" (North/South/\n",
    "East/West). Calculate the covariance between each pair of variables and interpret the results."
   ]
  },
  {
   "cell_type": "code",
   "execution_count": 27,
   "id": "442382b4-3bd8-4a81-8d70-03a4d036df1d",
   "metadata": {},
   "outputs": [
    {
     "name": "stderr",
     "output_type": "stream",
     "text": [
      "/tmp/ipykernel_2165/1295916216.py:18: FutureWarning: The default value of numeric_only in DataFrame.cov is deprecated. In a future version, it will default to False. Select only valid columns or specify the value of numeric_only to silence this warning.\n",
      "  df.cov()\n"
     ]
    },
    {
     "data": {
      "text/html": [
       "<div>\n",
       "<style scoped>\n",
       "    .dataframe tbody tr th:only-of-type {\n",
       "        vertical-align: middle;\n",
       "    }\n",
       "\n",
       "    .dataframe tbody tr th {\n",
       "        vertical-align: top;\n",
       "    }\n",
       "\n",
       "    .dataframe thead th {\n",
       "        text-align: right;\n",
       "    }\n",
       "</style>\n",
       "<table border=\"1\" class=\"dataframe\">\n",
       "  <thead>\n",
       "    <tr style=\"text-align: right;\">\n",
       "      <th></th>\n",
       "      <th>Temperature</th>\n",
       "      <th>Humidity</th>\n",
       "      <th>Weather Condition Numerical</th>\n",
       "      <th>Wind Direction Numerical</th>\n",
       "    </tr>\n",
       "  </thead>\n",
       "  <tbody>\n",
       "    <tr>\n",
       "      <th>Temperature</th>\n",
       "      <td>11.3</td>\n",
       "      <td>22.5</td>\n",
       "      <td>-2.5</td>\n",
       "      <td>0.8</td>\n",
       "    </tr>\n",
       "    <tr>\n",
       "      <th>Humidity</th>\n",
       "      <td>22.5</td>\n",
       "      <td>62.5</td>\n",
       "      <td>-5.0</td>\n",
       "      <td>-2.5</td>\n",
       "    </tr>\n",
       "    <tr>\n",
       "      <th>Weather Condition Numerical</th>\n",
       "      <td>-2.5</td>\n",
       "      <td>-5.0</td>\n",
       "      <td>1.0</td>\n",
       "      <td>-0.5</td>\n",
       "    </tr>\n",
       "    <tr>\n",
       "      <th>Wind Direction Numerical</th>\n",
       "      <td>0.8</td>\n",
       "      <td>-2.5</td>\n",
       "      <td>-0.5</td>\n",
       "      <td>1.3</td>\n",
       "    </tr>\n",
       "  </tbody>\n",
       "</table>\n",
       "</div>"
      ],
      "text/plain": [
       "                             Temperature  Humidity  \\\n",
       "Temperature                         11.3      22.5   \n",
       "Humidity                            22.5      62.5   \n",
       "Weather Condition Numerical         -2.5      -5.0   \n",
       "Wind Direction Numerical             0.8      -2.5   \n",
       "\n",
       "                             Weather Condition Numerical  \\\n",
       "Temperature                                         -2.5   \n",
       "Humidity                                            -5.0   \n",
       "Weather Condition Numerical                          1.0   \n",
       "Wind Direction Numerical                            -0.5   \n",
       "\n",
       "                             Wind Direction Numerical  \n",
       "Temperature                                       0.8  \n",
       "Humidity                                         -2.5  \n",
       "Weather Condition Numerical                      -0.5  \n",
       "Wind Direction Numerical                          1.3  "
      ]
     },
     "execution_count": 27,
     "metadata": {},
     "output_type": "execute_result"
    }
   ],
   "source": [
    "import pandas as pd\n",
    "from sklearn.preprocessing import LabelEncoder\n",
    "data = {\n",
    "    \"Temperature\": [25, 28, 20, 22, 27],\n",
    "    \"Humidity\": [60, 65, 55, 50, 70],\n",
    "    \"Weather Condition\": [\"Sunny\", \"Cloudy\", \"Sunny\", \"Rainy\", \"Cloudy\"],\n",
    "    \"Wind Direction\": [\"North\", \"South\", \"East\", \"West\", \"North\"]\n",
    "}\n",
    "wea_enc=LabelEncoder()\n",
    "wind_enc=LabelEncoder()\n",
    "enc_wea=wea_enc.fit_transform(data['Weather Condition'])\n",
    "enc_wind=wind_enc.fit_transform(data['Wind Direction'])\n",
    "df=pd.DataFrame(data)\n",
    "df['Weather Condition Numerical']=enc_wea\n",
    "df['Wind Direction Numerical']=enc_wind\n",
    "df.insert(5,'Weather Condition',df.pop('Weather Condition'))\n",
    "df.insert(5,'Wind Direction',df.pop('Wind Direction'))\n",
    "df.cov()"
   ]
  },
  {
   "cell_type": "code",
   "execution_count": null,
   "id": "c32c4666-1901-49af-8471-584b9eb85c69",
   "metadata": {},
   "outputs": [],
   "source": []
  }
 ],
 "metadata": {
  "kernelspec": {
   "display_name": "Python 3 (ipykernel)",
   "language": "python",
   "name": "python3"
  },
  "language_info": {
   "codemirror_mode": {
    "name": "ipython",
    "version": 3
   },
   "file_extension": ".py",
   "mimetype": "text/x-python",
   "name": "python",
   "nbconvert_exporter": "python",
   "pygments_lexer": "ipython3",
   "version": "3.10.8"
  }
 },
 "nbformat": 4,
 "nbformat_minor": 5
}
