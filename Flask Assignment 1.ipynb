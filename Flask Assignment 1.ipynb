{
 "cells": [
  {
   "cell_type": "code",
   "execution_count": null,
   "id": "22228003-f369-4ee6-8ca1-64433ae032cf",
   "metadata": {},
   "outputs": [],
   "source": [
    "Q1. What is Flask Framework? What are the advantages of Flask Framework?\n",
    "A1. Flask is a lightweight web framework for python that allows us to build web applications quickly and \n",
    "    easily. It is designed to be simple and minimalistic providing the basic tool needed to create a web \n",
    "    application. \n",
    "    Flask provides built-in routing system that maps urls to python functions, allowing us to define how \n",
    "    different url should be handled by application.\n",
    "    Flask has built-in tools which help us test and fix any issues in the code. It has built-in server which \n",
    "    automatically refreshes the app whenever there's a change made, making the process of testing and debugging\n",
    "    faster and simpler.\n",
    "    There are many developers who use flask, whenever we have a doubt or issue, it can be cleared by accessing\n",
    "    the community."
   ]
  },
  {
   "cell_type": "code",
   "execution_count": null,
   "id": "ee32dd34-d81f-47cf-871c-302ffb094bd2",
   "metadata": {},
   "outputs": [],
   "source": [
    "Q2. Create a simple Flask application to display ‘Hello World!!’. Attach the screenshot of the output in\n",
    "Jupyter Notebook.\n",
    "A2. https://github.com/DragonKrissash/PWSkills-assignments/blob/main/Screenshot%202023-06-14%20171120.png"
   ]
  },
  {
   "cell_type": "code",
   "execution_count": null,
   "id": "977b3e21-1120-4de8-bd16-f93553b1c399",
   "metadata": {},
   "outputs": [],
   "source": [
    "Q3. What is App routing in Flask? Why do we use app routes?\n",
    "A3. App routing is mapping special urls to functions to view them in web applications. We use app routes to \n",
    "    define special routes or urls to special functions of a program to execute the functions when the user \n",
    "    visits a particular URL."
   ]
  },
  {
   "cell_type": "code",
   "execution_count": null,
   "id": "3f9d5772-0d33-4c91-b087-d6fcd495213a",
   "metadata": {},
   "outputs": [],
   "source": [
    "Q4. Create a “/welcome” route to display the welcome message “Welcome to ABC Corporation” and a “/”\n",
    "    route to show the following details:\n",
    "    Company Name: ABC Corporation\n",
    "    Location: India\n",
    "    Contact Detail: 999-999-9999\n",
    "A4. https://github.com/DragonKrissash/PWSkills-assignments/blob/main/Screenshot%202023-06-14%20211634.png\n",
    "    https://github.com/DragonKrissash/PWSkills-assignments/blob/main/Screenshot%202023-06-24%20211620.png"
   ]
  },
  {
   "cell_type": "code",
   "execution_count": null,
   "id": "584f1c86-3257-45c5-81a8-229690072001",
   "metadata": {},
   "outputs": [],
   "source": [
    "Q5. What function is used in Flask for URL Building? Write a Python code to demonstrate the working of the\n",
    "    url_for() function.\n",
    "A5. The function url_for() is used in flask for url building. It is a built-in function provided by flask\n",
    "    for generating urls dynamically based on function's name."
   ]
  },
  {
   "cell_type": "code",
   "execution_count": 6,
   "id": "04d01e2b-8e39-49e9-8a72-a3a2c610cbbd",
   "metadata": {},
   "outputs": [
    {
     "name": "stdout",
     "output_type": "stream",
     "text": [
      "/test\n"
     ]
    }
   ],
   "source": [
    "from flask import Flask, url_for\n",
    "\n",
    "app = Flask(__name__)\n",
    "\n",
    "@app.route('/test')\n",
    "def test():\n",
    "    return 'Test url_for!'\n",
    "\n",
    "with app.test_request_context():\n",
    "    # Generating URLs using url_for\n",
    "    print(url_for('test'))  "
   ]
  },
  {
   "cell_type": "code",
   "execution_count": 5,
   "id": "bb714aaf-305c-4f64-a3c8-b2d9301cd234",
   "metadata": {},
   "outputs": [
    {
     "name": "stdout",
     "output_type": "stream",
     "text": [
      "Collecting Flask\n",
      "  Downloading Flask-2.3.2-py3-none-any.whl (96 kB)\n",
      "\u001b[2K     \u001b[90m━━━━━━━━━━━━━━━━━━━━━━━━━━━━━━━━━━━━━━━━\u001b[0m \u001b[32m96.9/96.9 kB\u001b[0m \u001b[31m5.1 MB/s\u001b[0m eta \u001b[36m0:00:00\u001b[0m\n",
      "\u001b[?25hCollecting Werkzeug>=2.3.3\n",
      "  Downloading Werkzeug-2.3.6-py3-none-any.whl (242 kB)\n",
      "\u001b[2K     \u001b[90m━━━━━━━━━━━━━━━━━━━━━━━━━━━━━━━━━━━━━━\u001b[0m \u001b[32m242.5/242.5 kB\u001b[0m \u001b[31m28.9 MB/s\u001b[0m eta \u001b[36m0:00:00\u001b[0m\n",
      "\u001b[?25hRequirement already satisfied: click>=8.1.3 in /opt/conda/lib/python3.10/site-packages (from Flask) (8.1.3)\n",
      "Collecting blinker>=1.6.2\n",
      "  Downloading blinker-1.6.2-py3-none-any.whl (13 kB)\n",
      "Collecting itsdangerous>=2.1.2\n",
      "  Downloading itsdangerous-2.1.2-py3-none-any.whl (15 kB)\n",
      "Requirement already satisfied: Jinja2>=3.1.2 in /opt/conda/lib/python3.10/site-packages (from Flask) (3.1.2)\n",
      "Requirement already satisfied: MarkupSafe>=2.0 in /opt/conda/lib/python3.10/site-packages (from Jinja2>=3.1.2->Flask) (2.1.1)\n",
      "Installing collected packages: Werkzeug, itsdangerous, blinker, Flask\n",
      "  Attempting uninstall: blinker\n",
      "    Found existing installation: blinker 1.5\n",
      "    Uninstalling blinker-1.5:\n",
      "      Successfully uninstalled blinker-1.5\n",
      "Successfully installed Flask-2.3.2 Werkzeug-2.3.6 blinker-1.6.2 itsdangerous-2.1.2\n",
      "Note: you may need to restart the kernel to use updated packages.\n"
     ]
    }
   ],
   "source": [
    "pip install Flask"
   ]
  },
  {
   "cell_type": "code",
   "execution_count": null,
   "id": "28c69d25-e5e0-414c-bece-278b79c96e5a",
   "metadata": {},
   "outputs": [],
   "source": []
  }
 ],
 "metadata": {
  "kernelspec": {
   "display_name": "Python 3 (ipykernel)",
   "language": "python",
   "name": "python3"
  },
  "language_info": {
   "codemirror_mode": {
    "name": "ipython",
    "version": 3
   },
   "file_extension": ".py",
   "mimetype": "text/x-python",
   "name": "python",
   "nbconvert_exporter": "python",
   "pygments_lexer": "ipython3",
   "version": "3.10.8"
  }
 },
 "nbformat": 4,
 "nbformat_minor": 5
}
