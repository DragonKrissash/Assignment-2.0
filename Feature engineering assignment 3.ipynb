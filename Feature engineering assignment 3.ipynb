{
 "cells": [
  {
   "cell_type": "code",
   "execution_count": null,
   "id": "3fc4bd42-18c7-4970-aeae-1bf1cb926278",
   "metadata": {},
   "outputs": [],
   "source": [
    "Q1. What is data encoding? How is it useful in data science?"
   ]
  },
  {
   "cell_type": "code",
   "execution_count": null,
   "id": "cab5d356-c0cb-4295-80dd-eb859c0079c3",
   "metadata": {},
   "outputs": [],
   "source": [
    "A1. Data encoding is the process of converting data from one format or representation into other, with the \n",
    "    goal of preparing it for specific task. \n",
    "    It is useful in data science as it allows transforming raw data into a format that can be easily undertood\n",
    "    by the machine learning model like categorical data into numerical representation."
   ]
  },
  {
   "cell_type": "code",
   "execution_count": null,
   "id": "10108e91-71c3-4ff1-a830-400c6c38ab82",
   "metadata": {},
   "outputs": [],
   "source": [
    "Q2. What is nominal encoding? Provide an example of how you would use it in a real-world scenario."
   ]
  },
  {
   "cell_type": "code",
   "execution_count": null,
   "id": "59c156bc-6baa-4a7e-abe7-e5542e0ad85a",
   "metadata": {},
   "outputs": [],
   "source": [
    "A2. Nominal encoding also known as one hot encoding is a technique used to convert categorical variables \n",
    "    into numerical representations. Each category is assigned a special integer value but there is no hierarchy\n",
    "    of values among the categories.\n",
    "    EG: If we are working on a model which has to predict or recommend movies like Netflix or Amazon Prime,\n",
    "        we assign a number to each genre like action, comedy, fantasy etc. Here no genre is greater or lesser \n",
    "        than other but they are assigned integer values just for the model's understanding."
   ]
  },
  {
   "cell_type": "code",
   "execution_count": null,
   "id": "ed48d7a6-593b-4f3e-9778-3144e8ea7bef",
   "metadata": {},
   "outputs": [],
   "source": [
    "Q3. In what situations is nominal encoding preferred over one-hot encoding? Provide a practical example."
   ]
  },
  {
   "cell_type": "code",
   "execution_count": null,
   "id": "413e7582-b5e2-4466-8370-40daf364f985",
   "metadata": {},
   "outputs": [],
   "source": [
    "A3. Nominal encoding is preferred over one hot encoding where the categorical variable has large number of\n",
    "    unique categories or labels. One hot encoding leads to large number of high-dimensional and sparse \n",
    "    representation of data, which can be computationally expensive and memory intensive. In such cases we can\n",
    "    use nominal encoding.\n",
    "    Eg: Imagine we are working on product classification task for amazon or snapdeal. There are many thousands\n",
    "    of products and each product belongs to a category like electronic, clothing, furniture, stationary etc.\n",
    "    When we have thousands of products, one hot encoder creates unneccessary large number of columns which \n",
    "    just take up memory of program and reduce the computational speed.\n",
    "    Instead we can use Nominal encoding and encode each category a specific integer. The product category will\n",
    "    be shown by the integer and it will occupy only 1 column."
   ]
  },
  {
   "cell_type": "code",
   "execution_count": null,
   "id": "368e5f4c-a8d9-463d-94c1-2cab44eb6241",
   "metadata": {},
   "outputs": [],
   "source": [
    "Q4. Suppose you have a dataset containing categorical data with 5 unique values. Which encoding\n",
    "technique would you use to transform this data into a format suitable for machine learning algorithms?\n",
    "Explain why you made this choice."
   ]
  },
  {
   "cell_type": "code",
   "execution_count": null,
   "id": "21fcfbbf-5e6f-49bd-85a3-6c65615f8e0a",
   "metadata": {},
   "outputs": [],
   "source": [
    "A4. I would use nominal encoding technique to transform the data into a format suitable for machine learning\n",
    "    model. Since the data are 5 unique values, one hot encoder would create 5 extra columns which might reduce\n",
    "    the computational speed compared to nominal encoding where only 1 extra column is created. "
   ]
  },
  {
   "cell_type": "code",
   "execution_count": null,
   "id": "f4e9c74e-1163-4df2-b5aa-8f38633cbd8f",
   "metadata": {},
   "outputs": [],
   "source": [
    "Q5. In a machine learning project, you have a dataset with 1000 rows and 5 columns. Two of the columns\n",
    "are categorical, and the remaining three columns are numerical. If you were to use nominal encoding to\n",
    "transform the categorical data, how many new columns would be created? Show your calculations."
   ]
  },
  {
   "cell_type": "code",
   "execution_count": null,
   "id": "b93be53f-c9ec-42ae-9e24-0d2d633c9655",
   "metadata": {},
   "outputs": [],
   "source": [
    "A5. Given that in the dataset there are 2 categorical columns so if we assume both the columns have different\n",
    "    categorical datas then nominal encoding would create 2 new columns for the encoding as it assigns a value\n",
    "    to each of the category and creates a new column to store the value.\n",
    "    columns = 3 (numerical) + 2 (categorical) , Therefore 2 new columns for encoding"
   ]
  },
  {
   "cell_type": "code",
   "execution_count": null,
   "id": "62fa76b1-ad38-4097-8bd8-594b01476b3d",
   "metadata": {},
   "outputs": [],
   "source": [
    "Q6. You are working with a dataset containing information about different types of animals, including their\n",
    "species, habitat, and diet. Which encoding technique would you use to transform the categorical data into\n",
    "a format suitable for machine learning algorithms? Justify your answer."
   ]
  },
  {
   "cell_type": "code",
   "execution_count": null,
   "id": "93932e35-6c19-441a-9e8c-5d39ae804a8e",
   "metadata": {},
   "outputs": [],
   "source": [
    "A6. I would use nominal encoding system to contain information about different types of animals, and would \n",
    "    give values to species, habitat, diet by using nominal encoding. It creates only 3 new columns and the \n",
    "    categories are given integer values like for species carnivore, herbivore, omnivore we can give 1,2,3 values\n",
    "    and habitat like mountain, grassland, ocean again 1,2,3 etc. Like this in only 3 new columns every animal and\n",
    "    its classification is done."
   ]
  },
  {
   "cell_type": "code",
   "execution_count": null,
   "id": "88b0d954-81fc-4d58-83b2-4b8b9bb2debf",
   "metadata": {},
   "outputs": [],
   "source": [
    "Q7.You are working on a project that involves predicting customer churn for a telecommunications\n",
    "company. You have a dataset with 5 features, including the customer's gender, age, contract type,\n",
    "monthly charges, and tenure. Which encoding technique(s) would you use to transform the categorical\n",
    "data into numerical data? Provide a step-by-step explanation of how you would implement the encoding."
   ]
  },
  {
   "cell_type": "code",
   "execution_count": null,
   "id": "22cc10ea-9e83-4d7e-add8-7e7429bc97c0",
   "metadata": {},
   "outputs": [],
   "source": [
    "A7. Only 2 features, gender and contract type are categorical and all others are numerical type. So I would\n",
    "    use nominal encoding to transform the categorical data into numerical data. Gender has only 2 types\n",
    "    male and female so I can use binary encoding for it.\n",
    "    Contract type can be different like Month to month, 1 year, 2 years etc.\n",
    "    So I will assign numerical values to them like 1, 2, 3.\n",
    "    In the end all the data will be transformed to numerical data.    "
   ]
  },
  {
   "cell_type": "code",
   "execution_count": 1,
   "id": "512d78c5-0b72-4885-bfd4-d24ee30f9034",
   "metadata": {},
   "outputs": [],
   "source": [
    "import pandas as pd\n",
    "data=[{\n",
    "        \"Gender\": \"Male\",\n",
    "        \"Age\": 30,\n",
    "        \"Contract Type\": \"Month-to-Month\",\n",
    "        \"Monthly Charges\": 50.5,\n",
    "        \"Tenure\": 3,\n",
    "    },\n",
    "    {\n",
    "        \"Gender\": \"Female\",\n",
    "        \"Age\": 42,\n",
    "        \"Contract Type\": \"One year\",\n",
    "        \"Monthly Charges\": 65.2,\n",
    "        \"Tenure\": 15,\n",
    "    },\n",
    "    {\n",
    "        \"Gender\": \"Female\",\n",
    "        \"Age\": 28,\n",
    "        \"Contract Type\": \"Two year\",\n",
    "        \"Monthly Charges\": 80.0,\n",
    "        \"Tenure\": 20,\n",
    "    },\n",
    "    {\n",
    "        \"Gender\": \"Male\",\n",
    "        \"Age\": 35,\n",
    "        \"Contract Type\": \"Month-to-Month\",\n",
    "        \"Monthly Charges\": 45.1,\n",
    "        \"Tenure\": 10,\n",
    "    },\n",
    "    {\n",
    "        \"Gender\": \"Male\",\n",
    "        \"Age\": 50,\n",
    "        \"Contract Type\": \"Two year\",\n",
    "        \"Monthly Charges\": 70.3,\n",
    "        \"Tenure\": 24,\n",
    "    }]"
   ]
  },
  {
   "cell_type": "code",
   "execution_count": 2,
   "id": "ccf5fcfb-6b16-4fee-a68e-0474844c9552",
   "metadata": {},
   "outputs": [],
   "source": [
    "df=pd.DataFrame(data)"
   ]
  },
  {
   "cell_type": "code",
   "execution_count": 3,
   "id": "e0d20930-fafe-4f1b-9b03-62862a24bcf4",
   "metadata": {},
   "outputs": [
    {
     "data": {
      "text/html": [
       "<div>\n",
       "<style scoped>\n",
       "    .dataframe tbody tr th:only-of-type {\n",
       "        vertical-align: middle;\n",
       "    }\n",
       "\n",
       "    .dataframe tbody tr th {\n",
       "        vertical-align: top;\n",
       "    }\n",
       "\n",
       "    .dataframe thead th {\n",
       "        text-align: right;\n",
       "    }\n",
       "</style>\n",
       "<table border=\"1\" class=\"dataframe\">\n",
       "  <thead>\n",
       "    <tr style=\"text-align: right;\">\n",
       "      <th></th>\n",
       "      <th>Gender</th>\n",
       "      <th>Age</th>\n",
       "      <th>Contract Type</th>\n",
       "      <th>Monthly Charges</th>\n",
       "      <th>Tenure</th>\n",
       "    </tr>\n",
       "  </thead>\n",
       "  <tbody>\n",
       "    <tr>\n",
       "      <th>0</th>\n",
       "      <td>Male</td>\n",
       "      <td>30</td>\n",
       "      <td>Month-to-Month</td>\n",
       "      <td>50.5</td>\n",
       "      <td>3</td>\n",
       "    </tr>\n",
       "    <tr>\n",
       "      <th>1</th>\n",
       "      <td>Female</td>\n",
       "      <td>42</td>\n",
       "      <td>One year</td>\n",
       "      <td>65.2</td>\n",
       "      <td>15</td>\n",
       "    </tr>\n",
       "    <tr>\n",
       "      <th>2</th>\n",
       "      <td>Female</td>\n",
       "      <td>28</td>\n",
       "      <td>Two year</td>\n",
       "      <td>80.0</td>\n",
       "      <td>20</td>\n",
       "    </tr>\n",
       "    <tr>\n",
       "      <th>3</th>\n",
       "      <td>Male</td>\n",
       "      <td>35</td>\n",
       "      <td>Month-to-Month</td>\n",
       "      <td>45.1</td>\n",
       "      <td>10</td>\n",
       "    </tr>\n",
       "    <tr>\n",
       "      <th>4</th>\n",
       "      <td>Male</td>\n",
       "      <td>50</td>\n",
       "      <td>Two year</td>\n",
       "      <td>70.3</td>\n",
       "      <td>24</td>\n",
       "    </tr>\n",
       "  </tbody>\n",
       "</table>\n",
       "</div>"
      ],
      "text/plain": [
       "   Gender  Age   Contract Type  Monthly Charges  Tenure\n",
       "0    Male   30  Month-to-Month             50.5       3\n",
       "1  Female   42        One year             65.2      15\n",
       "2  Female   28        Two year             80.0      20\n",
       "3    Male   35  Month-to-Month             45.1      10\n",
       "4    Male   50        Two year             70.3      24"
      ]
     },
     "execution_count": 3,
     "metadata": {},
     "output_type": "execute_result"
    }
   ],
   "source": [
    "df"
   ]
  },
  {
   "cell_type": "code",
   "execution_count": 8,
   "id": "91d728e5-4506-409a-a3b4-f64fdd89faca",
   "metadata": {},
   "outputs": [],
   "source": [
    "gen_num=[]\n",
    "for i in df['Gender']:\n",
    "    if i=='Male':\n",
    "        gen_num.append(1)\n",
    "    else:\n",
    "        gen_num.append(0)\n",
    "df['Gender_numerical']=gen_num\n",
    "con_num=[]\n",
    "for i in df['Contract Type']:\n",
    "    if i == 'Month-to-Month':\n",
    "        con_num.append(1)\n",
    "    if i=='One year':\n",
    "        con_num.append(2)\n",
    "    if i=='Two year':\n",
    "        con_num.append(3)\n",
    "df['Contract Type_numerical']=con_num"
   ]
  },
  {
   "cell_type": "code",
   "execution_count": 9,
   "id": "08a3f0dc-7975-4c79-bc6b-a3a2d96c803b",
   "metadata": {},
   "outputs": [
    {
     "data": {
      "text/html": [
       "<div>\n",
       "<style scoped>\n",
       "    .dataframe tbody tr th:only-of-type {\n",
       "        vertical-align: middle;\n",
       "    }\n",
       "\n",
       "    .dataframe tbody tr th {\n",
       "        vertical-align: top;\n",
       "    }\n",
       "\n",
       "    .dataframe thead th {\n",
       "        text-align: right;\n",
       "    }\n",
       "</style>\n",
       "<table border=\"1\" class=\"dataframe\">\n",
       "  <thead>\n",
       "    <tr style=\"text-align: right;\">\n",
       "      <th></th>\n",
       "      <th>Gender</th>\n",
       "      <th>Age</th>\n",
       "      <th>Contract Type</th>\n",
       "      <th>Monthly Charges</th>\n",
       "      <th>Tenure</th>\n",
       "      <th>Gender_numerical</th>\n",
       "      <th>Contract Type_numerical</th>\n",
       "    </tr>\n",
       "  </thead>\n",
       "  <tbody>\n",
       "    <tr>\n",
       "      <th>0</th>\n",
       "      <td>Male</td>\n",
       "      <td>30</td>\n",
       "      <td>Month-to-Month</td>\n",
       "      <td>50.5</td>\n",
       "      <td>3</td>\n",
       "      <td>1</td>\n",
       "      <td>1</td>\n",
       "    </tr>\n",
       "    <tr>\n",
       "      <th>1</th>\n",
       "      <td>Female</td>\n",
       "      <td>42</td>\n",
       "      <td>One year</td>\n",
       "      <td>65.2</td>\n",
       "      <td>15</td>\n",
       "      <td>0</td>\n",
       "      <td>2</td>\n",
       "    </tr>\n",
       "    <tr>\n",
       "      <th>2</th>\n",
       "      <td>Female</td>\n",
       "      <td>28</td>\n",
       "      <td>Two year</td>\n",
       "      <td>80.0</td>\n",
       "      <td>20</td>\n",
       "      <td>0</td>\n",
       "      <td>3</td>\n",
       "    </tr>\n",
       "    <tr>\n",
       "      <th>3</th>\n",
       "      <td>Male</td>\n",
       "      <td>35</td>\n",
       "      <td>Month-to-Month</td>\n",
       "      <td>45.1</td>\n",
       "      <td>10</td>\n",
       "      <td>1</td>\n",
       "      <td>1</td>\n",
       "    </tr>\n",
       "    <tr>\n",
       "      <th>4</th>\n",
       "      <td>Male</td>\n",
       "      <td>50</td>\n",
       "      <td>Two year</td>\n",
       "      <td>70.3</td>\n",
       "      <td>24</td>\n",
       "      <td>1</td>\n",
       "      <td>3</td>\n",
       "    </tr>\n",
       "  </tbody>\n",
       "</table>\n",
       "</div>"
      ],
      "text/plain": [
       "   Gender  Age   Contract Type  Monthly Charges  Tenure  Gender_numerical  \\\n",
       "0    Male   30  Month-to-Month             50.5       3                 1   \n",
       "1  Female   42        One year             65.2      15                 0   \n",
       "2  Female   28        Two year             80.0      20                 0   \n",
       "3    Male   35  Month-to-Month             45.1      10                 1   \n",
       "4    Male   50        Two year             70.3      24                 1   \n",
       "\n",
       "   Contract Type_numerical  \n",
       "0                        1  \n",
       "1                        2  \n",
       "2                        3  \n",
       "3                        1  \n",
       "4                        3  "
      ]
     },
     "execution_count": 9,
     "metadata": {},
     "output_type": "execute_result"
    }
   ],
   "source": [
    "df"
   ]
  },
  {
   "cell_type": "code",
   "execution_count": null,
   "id": "a7b6b0de-39aa-4854-aab6-ad0697794c2f",
   "metadata": {},
   "outputs": [],
   "source": []
  }
 ],
 "metadata": {
  "kernelspec": {
   "display_name": "Python 3 (ipykernel)",
   "language": "python",
   "name": "python3"
  },
  "language_info": {
   "codemirror_mode": {
    "name": "ipython",
    "version": 3
   },
   "file_extension": ".py",
   "mimetype": "text/x-python",
   "name": "python",
   "nbconvert_exporter": "python",
   "pygments_lexer": "ipython3",
   "version": "3.10.8"
  }
 },
 "nbformat": 4,
 "nbformat_minor": 5
}
