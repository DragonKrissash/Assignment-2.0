{
 "cells": [
  {
   "cell_type": "code",
   "execution_count": null,
   "id": "0497900a-d79f-4621-bc4b-eb16d7622ddf",
   "metadata": {},
   "outputs": [],
   "source": [
    "Q1. What is Min-Max scaling, and how is it used in data preprocessing? Provide an example to illustrate its\n",
    "application."
   ]
  },
  {
   "cell_type": "code",
   "execution_count": null,
   "id": "b83c3175-64e7-43e0-a22d-57896ce93977",
   "metadata": {},
   "outputs": [],
   "source": [
    "A1. Min Max scaling is a data pre-processing technique used to normalize the features of a dataset within a \n",
    "    specific range like 0 and 1. The purpose of it is to bring all the features on a similar scale so that\n",
    "    1 feature with large value doesn't dominate others. "
   ]
  },
  {
   "cell_type": "code",
   "execution_count": 1,
   "id": "59a28461-2808-47c5-af0e-d5864b95eb5f",
   "metadata": {},
   "outputs": [],
   "source": [
    "import numpy as np"
   ]
  },
  {
   "cell_type": "code",
   "execution_count": 45,
   "id": "64e074fe-a8a6-4812-9ac0-01219bafd66f",
   "metadata": {},
   "outputs": [],
   "source": [
    "l=list(np.random.randint(50,100,10))"
   ]
  },
  {
   "cell_type": "code",
   "execution_count": 59,
   "id": "1b372cb6-41e7-49fa-85a3-bd28d4f653af",
   "metadata": {},
   "outputs": [],
   "source": [
    "l=[[i] for i in l]"
   ]
  },
  {
   "cell_type": "code",
   "execution_count": 60,
   "id": "f88aadee-d0ec-4e6d-96f9-042a6a4af6c3",
   "metadata": {},
   "outputs": [],
   "source": [
    "from sklearn.preprocessing import MinMaxScaler"
   ]
  },
  {
   "cell_type": "code",
   "execution_count": 61,
   "id": "cff74429-2caf-4b01-8e5f-04c143cd05a7",
   "metadata": {},
   "outputs": [],
   "source": [
    "scale=MinMaxScaler()"
   ]
  },
  {
   "cell_type": "code",
   "execution_count": 63,
   "id": "75d817ac-3554-492e-9cf7-bf6567efc0a4",
   "metadata": {},
   "outputs": [
    {
     "data": {
      "text/plain": [
       "array([[0.38095238],\n",
       "       [1.        ],\n",
       "       [0.52380952],\n",
       "       [0.28571429],\n",
       "       [0.64285714],\n",
       "       [0.        ],\n",
       "       [0.5       ],\n",
       "       [0.30952381],\n",
       "       [0.54761905],\n",
       "       [0.54761905]])"
      ]
     },
     "execution_count": 63,
     "metadata": {},
     "output_type": "execute_result"
    }
   ],
   "source": [
    "scale.fit_transform(l)"
   ]
  },
  {
   "cell_type": "code",
   "execution_count": null,
   "id": "3e536a9f-97b9-4bfc-b820-2d02eab2b626",
   "metadata": {},
   "outputs": [],
   "source": [
    "Q2. What is the Unit Vector technique in feature scaling, and how does it differ from Min-Max scaling?\n",
    "Provide an example to illustrate its application."
   ]
  },
  {
   "cell_type": "code",
   "execution_count": null,
   "id": "43b6be3c-9689-45f9-8a99-5b9690d68787",
   "metadata": {},
   "outputs": [],
   "source": [
    "A2. The unit vector technique, also known as L2 normalization or vector normalization, is a feature scaling \n",
    "    method that scales the features of a dataset to have a magnitude of 1. It is used to ensure that all \n",
    "    features have equal importance in determining distances and similarities between data points. \n",
    "    \n",
    "    In Min Max scaling the features are scaled to a fixed range of 0 and 1 while in vector scaling the \n",
    "    features are scaled to have a magnitude of 1."
   ]
  },
  {
   "cell_type": "code",
   "execution_count": 65,
   "id": "231b84cc-5044-41d2-a79d-bdc3b7faae9c",
   "metadata": {},
   "outputs": [],
   "source": [
    "from sklearn.preprocessing import normalize\n",
    "import numpy as np"
   ]
  },
  {
   "cell_type": "code",
   "execution_count": 72,
   "id": "a284dcae-42af-4669-85b7-4ac1a2b5d91d",
   "metadata": {},
   "outputs": [],
   "source": [
    "l=[[160, 60],\n",
    "    [175, 70],\n",
    "    [180, 80],\n",
    "    [150, 50],\n",
    "    [165, 68]]"
   ]
  },
  {
   "cell_type": "code",
   "execution_count": 73,
   "id": "17921400-1332-46b5-9481-42328df1e94d",
   "metadata": {},
   "outputs": [
    {
     "data": {
      "text/plain": [
       "array([[0.93632918, 0.35112344],\n",
       "       [0.92847669, 0.37139068],\n",
       "       [0.91381155, 0.40613847],\n",
       "       [0.9486833 , 0.31622777],\n",
       "       [0.92456201, 0.38103162]])"
      ]
     },
     "execution_count": 73,
     "metadata": {},
     "output_type": "execute_result"
    }
   ],
   "source": [
    "normalize(l)"
   ]
  },
  {
   "cell_type": "code",
   "execution_count": null,
   "id": "fce4eebb-eaa0-4f0a-bf72-89983c646ce3",
   "metadata": {},
   "outputs": [],
   "source": [
    "Q3. What is PCA (Principle Component Analysis), and how is it used in dimensionality reduction? Provide an\n",
    "example to illustrate its application."
   ]
  },
  {
   "cell_type": "code",
   "execution_count": null,
   "id": "78613259-f731-4765-8b48-100cb13cc3cb",
   "metadata": {},
   "outputs": [],
   "source": [
    "A3. PCA, stands for principal component analysis is a popular dimensionality reduction technique used in \n",
    "    machine learning and data analysis. It helps to transform high dimensional data into a low dimensional\n",
    "    data while preserving most of the important information or variance in original data. The transformed \n",
    "    low dimensional representation is called principal components which are linear combinations of original\n",
    "    features.\n",
    "    \n",
    "    Feature selection - It allows us to focus on most informative information and ignore less relevant one.\n",
    "    Visualization - Reducing data to two or three dimensions allows easy visualization and plotting of complex\n",
    "    datasets making it easier to identify patterns, clusters and relationships.\n",
    "    Noise reduction - By focusing on principal components that capture most variance, PCA can reduce the impact\n",
    "    of noisy features, leading to better performances."
   ]
  },
  {
   "cell_type": "code",
   "execution_count": 74,
   "id": "b6ddda5c-265a-419e-99d5-d17b941daa20",
   "metadata": {},
   "outputs": [],
   "source": [
    "import numpy as np\n",
    "from sklearn.decomposition import PCA\n",
    "data = np.array([\n",
    "    [160, 60],\n",
    "    [175, 70],\n",
    "    [180, 80],\n",
    "    [150, 50],\n",
    "    [165, 68]\n",
    "])"
   ]
  },
  {
   "cell_type": "code",
   "execution_count": 75,
   "id": "5c0367fe-5dc7-4afa-bd5a-4d9cc1480c40",
   "metadata": {},
   "outputs": [],
   "source": [
    "mean=np.mean(data,axis=0)\n",
    "std=np.std(data,axis=0)\n",
    "data_std=(data-mean)/std"
   ]
  },
  {
   "cell_type": "code",
   "execution_count": 76,
   "id": "d6a22969-5fa7-4e12-a033-03f31a3961fd",
   "metadata": {},
   "outputs": [],
   "source": [
    "cov_mat=np.cov(data_std,rowvar=False)\n",
    "eigenvalues,eigenvectors=np.linalg.eig(cov_mat)"
   ]
  },
  {
   "cell_type": "code",
   "execution_count": 77,
   "id": "880f728d-3e98-4056-970e-4de174f8061e",
   "metadata": {},
   "outputs": [],
   "source": [
    "idx = np.argsort(eigenvalues)[::-1]\n",
    "top_k_eigenvectors = eigenvectors[:, idx[:1]]"
   ]
  },
  {
   "cell_type": "code",
   "execution_count": 78,
   "id": "c9d32850-4377-4ee0-b2d9-a43fe7f6183e",
   "metadata": {},
   "outputs": [
    {
     "name": "stdout",
     "output_type": "stream",
     "text": [
      "Reduced Data:\n",
      "-0.7905188765307241\n",
      "0.9049503366452218\n",
      "1.9381533712886458\n",
      "-2.154855000440409\n",
      "0.10227016903726736\n"
     ]
    }
   ],
   "source": [
    "reduced_data = np.dot(data_std, top_k_eigenvectors)\n",
    "print(\"Reduced Data:\")\n",
    "for val in reduced_data:\n",
    "    print(val[0])"
   ]
  },
  {
   "cell_type": "code",
   "execution_count": null,
   "id": "5257dcd0-82c3-44d3-a7e5-e6c5cbe43bf4",
   "metadata": {},
   "outputs": [],
   "source": [
    "Q4. What is the relationship between PCA and Feature Extraction, and how can PCA be used for Feature\n",
    "    Extraction? Provide an example to illustrate this concept."
   ]
  },
  {
   "cell_type": "code",
   "execution_count": null,
   "id": "47a76b10-9191-4e73-a65a-a4529575c37f",
   "metadata": {},
   "outputs": [],
   "source": [
    "A4. Feature extraction is a process of transforming the original high dimensional data into a lower dimensional\n",
    "    data by creating new features that capture the most relevant information or patterns present in data. PCA\n",
    "    is a commonly used feature extraction technique. PCA ahieves this by identifying the principal components,\n",
    "    which are linear combinations of the original features that explain the maximum variance in the data."
   ]
  },
  {
   "cell_type": "code",
   "execution_count": 79,
   "id": "d3d36ff7-ce6b-446d-9f21-2f6af592d26c",
   "metadata": {},
   "outputs": [],
   "source": [
    "import numpy as np\n",
    "from sklearn.decomposition import PCA"
   ]
  },
  {
   "cell_type": "code",
   "execution_count": 80,
   "id": "787e9edb-bc41-45b6-aa6c-ee5be4db59e6",
   "metadata": {},
   "outputs": [],
   "source": [
    "data = np.array([\n",
    "    [1, 2],\n",
    "    [3, 4],\n",
    "    [5, 6],\n",
    "    [7, 8],\n",
    "    [9, 10]\n",
    "])\n",
    "mean=np.mean(data,axis=0)\n",
    "std=np.std(data,axis=0)\n",
    "data_std=(data-mean)/std\n",
    "cov_matrix=np.cov(data_std,rowvar=False)\n",
    "eigenvalues,eigenvectors=np.linalg.eig(cov_matrix)"
   ]
  },
  {
   "cell_type": "code",
   "execution_count": 81,
   "id": "78407bed-853b-4f05-be18-4b3c2245481d",
   "metadata": {},
   "outputs": [
    {
     "name": "stdout",
     "output_type": "stream",
     "text": [
      "Reduced Data:\n",
      "-1.9999999999999998\n",
      "-0.9999999999999999\n",
      "0.0\n",
      "0.9999999999999999\n",
      "1.9999999999999998\n"
     ]
    }
   ],
   "source": [
    "idx=np.argsort(eigenvalues)[::-1]\n",
    "top_k_eigenvectors=eigenvectors[:,idx[:1]]\n",
    "reduced_data=np.dot(data_std,top_k_eigenvectors)\n",
    "print(\"Reduced Data:\")\n",
    "for val in reduced_data:\n",
    "    print(val[0])"
   ]
  },
  {
   "cell_type": "code",
   "execution_count": null,
   "id": "d986ae68-43ec-43a3-a513-2748bae5afcd",
   "metadata": {},
   "outputs": [],
   "source": [
    "Q5. You are working on a project to build a recommendation system for a food delivery service. The dataset\n",
    "contains features such as price, rating, and delivery time. Explain how you would use Min-Max scaling to\n",
    "preprocess the data."
   ]
  },
  {
   "cell_type": "code",
   "execution_count": 82,
   "id": "b4526796-67e4-456b-aa46-ed120fcfb0d8",
   "metadata": {},
   "outputs": [],
   "source": [
    "import pandas as pd\n",
    "import numpy as np\n",
    "from sklearn.preprocessing import MinMaxScaler\n",
    "df = pd.DataFrame({'price':[10.0,20.0,15.0,30.0],\n",
    "                  'rating':[4.5,4.2,4.7,4.8],\n",
    "                  'delivery_time':[30,40,35,25]})"
   ]
  },
  {
   "cell_type": "code",
   "execution_count": 83,
   "id": "2c9ccc25-ba94-46b0-af21-d17b8c802797",
   "metadata": {},
   "outputs": [
    {
     "data": {
      "text/html": [
       "<div>\n",
       "<style scoped>\n",
       "    .dataframe tbody tr th:only-of-type {\n",
       "        vertical-align: middle;\n",
       "    }\n",
       "\n",
       "    .dataframe tbody tr th {\n",
       "        vertical-align: top;\n",
       "    }\n",
       "\n",
       "    .dataframe thead th {\n",
       "        text-align: right;\n",
       "    }\n",
       "</style>\n",
       "<table border=\"1\" class=\"dataframe\">\n",
       "  <thead>\n",
       "    <tr style=\"text-align: right;\">\n",
       "      <th></th>\n",
       "      <th>price</th>\n",
       "      <th>rating</th>\n",
       "      <th>delivery_time</th>\n",
       "    </tr>\n",
       "  </thead>\n",
       "  <tbody>\n",
       "    <tr>\n",
       "      <th>0</th>\n",
       "      <td>10.0</td>\n",
       "      <td>4.5</td>\n",
       "      <td>30</td>\n",
       "    </tr>\n",
       "    <tr>\n",
       "      <th>1</th>\n",
       "      <td>20.0</td>\n",
       "      <td>4.2</td>\n",
       "      <td>40</td>\n",
       "    </tr>\n",
       "    <tr>\n",
       "      <th>2</th>\n",
       "      <td>15.0</td>\n",
       "      <td>4.7</td>\n",
       "      <td>35</td>\n",
       "    </tr>\n",
       "    <tr>\n",
       "      <th>3</th>\n",
       "      <td>30.0</td>\n",
       "      <td>4.8</td>\n",
       "      <td>25</td>\n",
       "    </tr>\n",
       "  </tbody>\n",
       "</table>\n",
       "</div>"
      ],
      "text/plain": [
       "   price  rating  delivery_time\n",
       "0   10.0     4.5             30\n",
       "1   20.0     4.2             40\n",
       "2   15.0     4.7             35\n",
       "3   30.0     4.8             25"
      ]
     },
     "execution_count": 83,
     "metadata": {},
     "output_type": "execute_result"
    }
   ],
   "source": [
    "df"
   ]
  },
  {
   "cell_type": "code",
   "execution_count": 84,
   "id": "3b7c3abe-8733-411a-9613-5b65149af1c2",
   "metadata": {},
   "outputs": [],
   "source": [
    "scaler=MinMaxScaler()"
   ]
  },
  {
   "cell_type": "code",
   "execution_count": 86,
   "id": "0865cfcc-e3b1-4c64-b061-680fd81070a5",
   "metadata": {},
   "outputs": [
    {
     "data": {
      "text/html": [
       "<div>\n",
       "<style scoped>\n",
       "    .dataframe tbody tr th:only-of-type {\n",
       "        vertical-align: middle;\n",
       "    }\n",
       "\n",
       "    .dataframe tbody tr th {\n",
       "        vertical-align: top;\n",
       "    }\n",
       "\n",
       "    .dataframe thead th {\n",
       "        text-align: right;\n",
       "    }\n",
       "</style>\n",
       "<table border=\"1\" class=\"dataframe\">\n",
       "  <thead>\n",
       "    <tr style=\"text-align: right;\">\n",
       "      <th></th>\n",
       "      <th>0</th>\n",
       "      <th>1</th>\n",
       "      <th>2</th>\n",
       "    </tr>\n",
       "  </thead>\n",
       "  <tbody>\n",
       "    <tr>\n",
       "      <th>0</th>\n",
       "      <td>0.00</td>\n",
       "      <td>0.500000</td>\n",
       "      <td>0.333333</td>\n",
       "    </tr>\n",
       "    <tr>\n",
       "      <th>1</th>\n",
       "      <td>0.50</td>\n",
       "      <td>0.000000</td>\n",
       "      <td>1.000000</td>\n",
       "    </tr>\n",
       "    <tr>\n",
       "      <th>2</th>\n",
       "      <td>0.25</td>\n",
       "      <td>0.833333</td>\n",
       "      <td>0.666667</td>\n",
       "    </tr>\n",
       "    <tr>\n",
       "      <th>3</th>\n",
       "      <td>1.00</td>\n",
       "      <td>1.000000</td>\n",
       "      <td>0.000000</td>\n",
       "    </tr>\n",
       "  </tbody>\n",
       "</table>\n",
       "</div>"
      ],
      "text/plain": [
       "      0         1         2\n",
       "0  0.00  0.500000  0.333333\n",
       "1  0.50  0.000000  1.000000\n",
       "2  0.25  0.833333  0.666667\n",
       "3  1.00  1.000000  0.000000"
      ]
     },
     "execution_count": 86,
     "metadata": {},
     "output_type": "execute_result"
    }
   ],
   "source": [
    "pd.DataFrame(scaler.fit_transform(df[['price','rating','delivery_time']]))"
   ]
  },
  {
   "cell_type": "code",
   "execution_count": null,
   "id": "4e52baaa-652c-4ae3-88f7-449f68ef482a",
   "metadata": {},
   "outputs": [],
   "source": [
    "Q6. You are working on a project to build a model to predict stock prices. The dataset contains many\n",
    "features, such as company financial data and market trends. Explain how you would use PCA to reduce the\n",
    "dimensionality of the dataset."
   ]
  },
  {
   "cell_type": "code",
   "execution_count": 87,
   "id": "3a706c50-e9aa-4d82-a07a-10294eddda34",
   "metadata": {},
   "outputs": [
    {
     "data": {
      "image/png": "[encoded data removed]",
      "text/plain": [
       "<Figure size 800x600 with 1 Axes>"
      ]
     },
     "metadata": {},
     "output_type": "display_data"
    }
   ],
   "source": [
    "import numpy as np\n",
    "from sklearn.decomposition import PCA\n",
    "from sklearn.preprocessing import StandardScaler\n",
    "from sklearn.datasets import make_classification\n",
    "import matplotlib.pyplot as plt\n",
    "data, _ = make_classification(n_samples=100, n_features=20, random_state=42)\n",
    "scaler = StandardScaler()\n",
    "data_std = scaler.fit_transform(data)\n",
    "cov_matrix = np.cov(data_std, rowvar=False)\n",
    "eigenvalues, eigenvectors = np.linalg.eig(cov_matrix)\n",
    "k = 2\n",
    "top_k_eigenvectors = eigenvectors[:, :k]\n",
    "reduced_data = np.dot(data_std, top_k_eigenvectors)\n",
    "plt.figure(figsize=(8, 6))\n",
    "plt.scatter(reduced_data[:, 0], reduced_data[:, 1], alpha=0.7)\n",
    "plt.xlabel('Principal Component 1')\n",
    "plt.ylabel('Principal Component 2')\n",
    "plt.title('PCA - Dimensionality Reduction')\n",
    "plt.show()"
   ]
  },
  {
   "cell_type": "code",
   "execution_count": null,
   "id": "fb19d4d3-d5b1-4aab-93d1-03efaa71d21a",
   "metadata": {},
   "outputs": [],
   "source": [
    "Q7. For a dataset containing the following values: [1, 5, 10, 15, 20], perform Min-Max scaling to transform the\n",
    "values to a range of -1 to 1."
   ]
  },
  {
   "cell_type": "code",
   "execution_count": 91,
   "id": "fc0a38d3-1dfc-4bc9-a84c-355610001e0e",
   "metadata": {},
   "outputs": [],
   "source": [
    "from sklearn.preprocessing import MinMaxScaler\n",
    "scale=MinMaxScaler()\n",
    "l=[1, 5, 10, 15, 20]\n",
    "l=[[i] for i in l]"
   ]
  },
  {
   "cell_type": "code",
   "execution_count": 92,
   "id": "9e8d6898-1ab7-42e5-ada8-1c649b62ef7f",
   "metadata": {},
   "outputs": [
    {
     "data": {
      "text/plain": [
       "array([[0.        ],\n",
       "       [0.21052632],\n",
       "       [0.47368421],\n",
       "       [0.73684211],\n",
       "       [1.        ]])"
      ]
     },
     "execution_count": 92,
     "metadata": {},
     "output_type": "execute_result"
    }
   ],
   "source": [
    "scale.fit_transform(l)"
   ]
  },
  {
   "cell_type": "code",
   "execution_count": null,
   "id": "247b57af-4b1b-4ccc-8de7-d3e2e8d5e067",
   "metadata": {},
   "outputs": [],
   "source": [
    "Q8. For a dataset containing the following features: [height, weight, age, gender, blood pressure], perform\n",
    "Feature Extraction using PCA. How many principal components would you choose to retain, and why?"
   ]
  },
  {
   "cell_type": "code",
   "execution_count": 93,
   "id": "bdeb5d9e-5e76-48f1-bc95-ae53d98e5f63",
   "metadata": {},
   "outputs": [],
   "source": [
    "import numpy as np\n",
    "import pandas as pd\n",
    "from sklearn.preprocessing import StandardScaler\n",
    "from sklearn.decomposition import PCA"
   ]
  },
  {
   "cell_type": "code",
   "execution_count": 94,
   "id": "e847b0f5-12ce-4481-864b-a44babb004a8",
   "metadata": {},
   "outputs": [],
   "source": [
    "np.random.seed(42)\n",
    "n_samples=100\n",
    "ht=np.random.randint(150,200,n_samples)\n",
    "wt=np.random.randint(50,100,n_samples)\n",
    "age=np.random.randint(20,60,n_samples)\n",
    "bp=np.random.randint(80,120,n_samples)\n",
    "gender = np.random.randint(0, 2, n_samples)\n",
    "data = pd.DataFrame({\n",
    "    'height': ht,\n",
    "    'weight': wt,\n",
    "    'age': age,\n",
    "    'gender': gender,\n",
    "    'blood_pressure': bp\n",
    "})"
   ]
  },
  {
   "cell_type": "code",
   "execution_count": 96,
   "id": "ba0957a6-d23b-4ddc-8291-6d2415aa05d8",
   "metadata": {},
   "outputs": [
    {
     "name": "stdout",
     "output_type": "stream",
     "text": [
      "Reduced Data (first 5 samples):\n",
      "[[ 0.61437208 -1.38305129]\n",
      " [ 0.37603544 -0.16582553]\n",
      " [ 0.57225842 -0.47970798]\n",
      " [-0.56839129 -0.39499675]\n",
      " [ 0.9617367   0.83666056]]\n"
     ]
    }
   ],
   "source": [
    "scaler=StandardScaler()\n",
    "data_std=scaler.fit_transform(data)\n",
    "cov_mat=np.cov(data_std,rowvar=False)\n",
    "eigenvalues,eigenvectors=np.linalg.eig(cov_mat)\n",
    "k=2\n",
    "top_k_eigenvectors=eigenvectors[:,:k]\n",
    "reduced_data=np.dot(data_std,top_k_eigenvectors)\n",
    "print(\"Reduced Data (first 5 samples):\")\n",
    "print(reduced_data[:5])"
   ]
  },
  {
   "cell_type": "code",
   "execution_count": null,
   "id": "b640afa4-fa88-4d4c-bb62-2cddf3373c7e",
   "metadata": {},
   "outputs": [],
   "source": []
  }
 ],
 "metadata": {
  "kernelspec": {
   "display_name": "Python 3 (ipykernel)",
   "language": "python",
   "name": "python3"
  },
  "language_info": {
   "codemirror_mode": {
    "name": "ipython",
    "version": 3
   },
   "file_extension": ".py",
   "mimetype": "text/x-python",
   "name": "python",
   "nbconvert_exporter": "python",
   "pygments_lexer": "ipython3",
   "version": "3.10.8"
  }
 },
 "nbformat": 4,
 "nbformat_minor": 5
}
