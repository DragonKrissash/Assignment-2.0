{
 "cells": [
  {
   "cell_type": "code",
   "execution_count": null,
   "id": "3a9c76f6-e924-4cd1-a274-138302d834b9",
   "metadata": {},
   "outputs": [],
   "source": [
    "Q1. What are the three measures of central tendency?"
   ]
  },
  {
   "cell_type": "code",
   "execution_count": null,
   "id": "7ac23842-7cfb-454f-8e9c-2f2c6c3dc4bb",
   "metadata": {},
   "outputs": [],
   "source": [
    "A1. Mean, median, mode are the three measures of central tendency."
   ]
  },
  {
   "cell_type": "code",
   "execution_count": null,
   "id": "f7957f72-b78c-40f6-a4a8-56a128a043f3",
   "metadata": {},
   "outputs": [],
   "source": [
    "Q2. What is the difference between the mean, median, and mode? How are they used to measure the central \n",
    "    tendency of a dataset?"
   ]
  },
  {
   "cell_type": "code",
   "execution_count": null,
   "id": "c2e69795-85b9-4bc6-b768-a7aa54b40311",
   "metadata": {},
   "outputs": [],
   "source": [
    "A2. Mean - It is the average of a dataset which is calculated by adding all the values of data and dividing \n",
    "           by the total number of data items.\n",
    "    Median - It is the value which is present in the exact middle of the dataset when it is arranged in \n",
    "             ascending or descending order. If there are odd number of values, then it is the middle most \n",
    "             value and if there are even number of values then it is the average of middle 2 values.\n",
    "    Mode- It is the value which occurs most number of times in a dataset.\n",
    "    \n",
    "    The mean gives us rough value of a dataset which tells us that around a value other values are present.\n",
    "    The median helps us in presence of outliers and tells us where the dataset is being halved.\n",
    "    The mode tells us what occurs the most number of times.\n",
    "    \n",
    "    If the mean, median, and mode are close to each other, it suggests that the dataset is relatively \n",
    "    symmetric or normally distributed. However, if they differ significantly, it indicates that the data \n",
    "    might be skewed or have outliers."
   ]
  },
  {
   "cell_type": "code",
   "execution_count": null,
   "id": "7fead7ed-2573-4171-bbf5-4f7b5b48fb57",
   "metadata": {},
   "outputs": [],
   "source": [
    "Q3. Measure the three measures of central tendency for the given height data:\n",
    "    [178,177,176,177,178.2,178,175,179,180,175,178.9,176.2,177,172.5,178,176.5]"
   ]
  },
  {
   "cell_type": "code",
   "execution_count": 1,
   "id": "fd140016-8587-45ed-812f-f704f06a3572",
   "metadata": {},
   "outputs": [],
   "source": [
    "data=[178,177,176,177,178.2,178,175,179,180,175,178.9,176.2,177,172.5,178,176.5]"
   ]
  },
  {
   "cell_type": "code",
   "execution_count": 6,
   "id": "b99a0f1f-b6c3-4f87-9724-4de455324e99",
   "metadata": {},
   "outputs": [],
   "source": [
    "import statistics"
   ]
  },
  {
   "cell_type": "code",
   "execution_count": 7,
   "id": "878a8f09-b2be-403e-af5e-84625746ea6c",
   "metadata": {},
   "outputs": [],
   "source": [
    "mean=statistics.mean(data)"
   ]
  },
  {
   "cell_type": "code",
   "execution_count": 8,
   "id": "03e5c59c-62f2-40cf-82aa-cb4dc92bdc33",
   "metadata": {},
   "outputs": [],
   "source": [
    "median=statistics.median(data)\n",
    "mode=statistics.mode(data)"
   ]
  },
  {
   "cell_type": "code",
   "execution_count": 11,
   "id": "57a54190-8296-45d1-9dfe-15cb1a715444",
   "metadata": {},
   "outputs": [
    {
     "name": "stdout",
     "output_type": "stream",
     "text": [
      "Mean: 177.01875 Median: 177.0 Mode: 178\n"
     ]
    }
   ],
   "source": [
    "print('Mean:',mean,'Median:',median,'Mode:',mode)"
   ]
  },
  {
   "cell_type": "code",
   "execution_count": null,
   "id": "a4d161ad-3ef9-48bf-8ede-46f386f1eaa8",
   "metadata": {},
   "outputs": [],
   "source": [
    "Q4. Find the standard deviation for the given data:\n",
    "    [178,177,176,177,178.2,178,175,179,180,175,178.9,176.2,177,172.5,178,176.5]"
   ]
  },
  {
   "cell_type": "code",
   "execution_count": 1,
   "id": "ae3170a6-bb63-4cad-b6d1-c653af59aefa",
   "metadata": {},
   "outputs": [],
   "source": [
    "data=[178,177,176,177,178.2,178,175,179,180,175,178.9,176.2,177,172.5,178,176.5]"
   ]
  },
  {
   "cell_type": "code",
   "execution_count": 2,
   "id": "617cec5c-05c6-41d4-9dd8-54716c220db9",
   "metadata": {},
   "outputs": [],
   "source": [
    "import numpy as np"
   ]
  },
  {
   "cell_type": "code",
   "execution_count": 3,
   "id": "42d96651-f569-4afb-ae37-a9cddbe0f6a4",
   "metadata": {},
   "outputs": [
    {
     "data": {
      "text/plain": [
       "1.7885814036548633"
      ]
     },
     "execution_count": 3,
     "metadata": {},
     "output_type": "execute_result"
    }
   ],
   "source": [
    "np.std(data)"
   ]
  },
  {
   "cell_type": "code",
   "execution_count": null,
   "id": "147fed57-5196-45f0-ac72-89d77b4a60f9",
   "metadata": {},
   "outputs": [],
   "source": [
    "Q5. How are measures of dispersion such as range, variance, and standard deviation used to describe the \n",
    "    spread of a dataset? Provide an example."
   ]
  },
  {
   "cell_type": "code",
   "execution_count": null,
   "id": "ba96da6a-1e38-4119-9324-527add2fd37c",
   "metadata": {},
   "outputs": [],
   "source": [
    "A5. Range - It is the difference of max and min of a dataset. It gives us an idea about how much the total\n",
    "            data is spread.\n",
    "           \n",
    "    Variance - It is squared value of deviation of each value from mean. It quantifies the spread of dataset\n",
    "               by considering how much the values deviate from mean. A higher variance indicates greater \n",
    "               dispersion while lower indicates less.\n",
    "              \n",
    "    Standard deviation - It is the square root of variance. It tells how much the values of dataset deviate \n",
    "                         from mean. A higher value indicates greater deviation while a lower value indicates\n",
    "                         less dispersion.\n",
    "            \n",
    "    Eg: If a city has different temperature over a week. The difference of max and min temperatures of the \n",
    "        city gives us the range of temperature over which the temperature deviated over the week. The variance \n",
    "        and standard deviation tell us how much everyday's temperature deviated from the mean temperature."
   ]
  },
  {
   "cell_type": "code",
   "execution_count": null,
   "id": "592cb81d-54e6-44ee-8308-90495bd2dace",
   "metadata": {},
   "outputs": [],
   "source": [
    "Q6. What is a Venn diagram?"
   ]
  },
  {
   "cell_type": "code",
   "execution_count": null,
   "id": "2332b47b-273d-4b82-83b0-a4f92f4844b3",
   "metadata": {},
   "outputs": [],
   "source": [
    "A6. A Venn diagram is a visual representation of relationships between sets or objects. It uses overalpping \n",
    "    circles or shapes to show common and unique elements among the sets. The diagram is named after John Venn\n",
    "    a British logician and philosopher."
   ]
  },
  {
   "cell_type": "code",
   "execution_count": null,
   "id": "d0b421c1-9f7b-4750-848f-809c30e95f4f",
   "metadata": {},
   "outputs": [],
   "source": [
    "Q7. For the two given sets A = (2,3,4,5,6,7) & B = (0,2,6,8,10). Find:\n",
    "    (i) A (intersection) B\n",
    "    (ii) A ⋃ B"
   ]
  },
  {
   "cell_type": "code",
   "execution_count": null,
   "id": "c98c8506-d355-44b5-857c-62b77a580fa1",
   "metadata": {},
   "outputs": [],
   "source": [
    "A7. i) {2,6} ii) {0,2,3,4,5,6,7,8,10}"
   ]
  },
  {
   "cell_type": "code",
   "execution_count": null,
   "id": "80e890fc-446e-485f-b9bc-0ecf59737761",
   "metadata": {},
   "outputs": [],
   "source": [
    "Q8. What do you understand about skewness in data?"
   ]
  },
  {
   "cell_type": "code",
   "execution_count": null,
   "id": "8190711f-c1bc-4bfa-80a9-3d134725b529",
   "metadata": {},
   "outputs": [],
   "source": [
    "A8. Skewness tells us about the symmetry present in a data. It provides information about the shape of the \n",
    "    distribution and the positioning of the data points relative to the mean. Understanding skewness is \n",
    "    important as it provides insights into the shape and characteristics of the data distribution. Skewness \n",
    "    helps in identifying departures from normality or symmetry in the data, which can impact data analysis \n",
    "    and modeling decisions. It can also affect the choice of appropriate statistical tests and methods."
   ]
  },
  {
   "cell_type": "code",
   "execution_count": null,
   "id": "c60a111c-f943-4eaa-a398-c98bd41c2a8d",
   "metadata": {},
   "outputs": [],
   "source": [
    "Q9. If a data is right skewed then what will be the position of median with respect to mean?"
   ]
  },
  {
   "cell_type": "code",
   "execution_count": null,
   "id": "c3cd101e-9a2d-43e3-99dd-f6e54156d17b",
   "metadata": {},
   "outputs": [],
   "source": [
    "A9. If a data is right skewed then median will be towards left of mean and the order of values in descending \n",
    "    order is mean > median > mode."
   ]
  },
  {
   "cell_type": "code",
   "execution_count": null,
   "id": "ff9c8fbb-1029-4a8a-8d56-9305638da741",
   "metadata": {},
   "outputs": [],
   "source": [
    "Q10. Explain the difference between covariance and correlation. How are these measures used in statistical \n",
    "     analysis?"
   ]
  },
  {
   "cell_type": "code",
   "execution_count": null,
   "id": "c652b528-03f3-4885-bdc8-a81aaa1097d8",
   "metadata": {},
   "outputs": [],
   "source": [
    "A10. Covariance measures the extent to which two variables vary together or move in relation to each other.\n",
    "     It provides information about the direction (positive or negative) and magnitude of the linear relationship \n",
    "     between variables.\n",
    "        \n",
    "     Correlation is a standardized version of covariance that measures the strength and direction of the linear \n",
    "     relationship between two variables. Correlation is unaffected by the units of measurement, making it easier \n",
    "     to compare across datasets."
   ]
  },
  {
   "cell_type": "code",
   "execution_count": null,
   "id": "068dbf0b-dad8-4bc1-b1ee-7878d1c53e4f",
   "metadata": {},
   "outputs": [],
   "source": [
    "Q11. What is the formula for calculating the sample mean? Provide an example calculation for a dataset."
   ]
  },
  {
   "cell_type": "code",
   "execution_count": null,
   "id": "6391c111-520c-4e30-a351-f01755f2a0f0",
   "metadata": {},
   "outputs": [],
   "source": [
    "A11. The formula for calculating sample mean is:\n",
    "        x(mean) = (x1+x2+x3...+xn)/n\n",
    "    \n",
    "     Eg: data=[1,2,3,4,5,6,7]\n",
    "         here the values of xi where i goes from 1 to n correspond to 1,2,3,4,5,6,7\n",
    "         the sum of x values = 1+2+3+4+5+6+7 = 28\n",
    "         the mean value is = 28/7 = 4 "
   ]
  },
  {
   "cell_type": "code",
   "execution_count": null,
   "id": "d004033c-5316-4249-b12a-7a7eecd2fe2f",
   "metadata": {},
   "outputs": [],
   "source": [
    "Q12. For a normal distribution data what is the relationship between its measure of central tendency?"
   ]
  },
  {
   "cell_type": "code",
   "execution_count": null,
   "id": "9f35159f-f752-41b1-bd63-f87265aa408b",
   "metadata": {},
   "outputs": [],
   "source": [
    "A12. For a normal distribution data all the 3 measure of central tendency are equal. This is true as the normal\n",
    "     distribution data is symmetric and the shape is bell curve. The mean is at the centre which means it is\n",
    "     median itself. Since all the values in a normal distribution are distinct without repetition, we can tell\n",
    "     that the mean itself is also mode."
   ]
  },
  {
   "cell_type": "code",
   "execution_count": null,
   "id": "c29534b6-c77e-4a64-b70e-453199b23b48",
   "metadata": {},
   "outputs": [],
   "source": [
    "Q13. How is covariance different from correlation?"
   ]
  },
  {
   "cell_type": "code",
   "execution_count": null,
   "id": "3b331461-e5cb-49d3-8959-159de85b8920",
   "metadata": {},
   "outputs": [],
   "source": [
    "A13. Covariance gives the extent to which two variables vary or move in relation to each other, it is joint\n",
    "     variability of two variables.\n",
    "     Cor-relation tells us the nature of relation and direction between 2 variables, whether they are directly,\n",
    "     or inversely related."
   ]
  },
  {
   "cell_type": "code",
   "execution_count": null,
   "id": "f99050bf-98e6-49ba-96d8-f4824711e6de",
   "metadata": {},
   "outputs": [],
   "source": [
    "Q14. How do outliers affect measures of central tendency and dispersion? Provide an example."
   ]
  },
  {
   "cell_type": "code",
   "execution_count": null,
   "id": "e349eace-92a9-40d2-bd9c-91ff6e0f4d42",
   "metadata": {},
   "outputs": [],
   "source": [
    "A14. Outliers play a major role in changing the central tendencies and dispersion. If an outlier with a very\n",
    "     high value is added in a dataset, the mean changes with great difference, median changes with little difference\n",
    "     as only one data is added while mode may not change at all. If an outlier with great value is added, the \n",
    "     variation and standard deviation will undergo great change as variance calculation includes sum of squares\n",
    "     of values of dataset and outliers."
   ]
  }
 ],
 "metadata": {
  "kernelspec": {
   "display_name": "Python 3 (ipykernel)",
   "language": "python",
   "name": "python3"
  },
  "language_info": {
   "codemirror_mode": {
    "name": "ipython",
    "version": 3
   },
   "file_extension": ".py",
   "mimetype": "text/x-python",
   "name": "python",
   "nbconvert_exporter": "python",
   "pygments_lexer": "ipython3",
   "version": "3.10.8"
  }
 },
 "nbformat": 4,
 "nbformat_minor": 5
}
